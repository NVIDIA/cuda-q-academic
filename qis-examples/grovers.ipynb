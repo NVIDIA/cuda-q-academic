{
  "cells": [
    {
      "cell_type": "code",
      "execution_count": null,
      "metadata": {
        "id": "f61423"
      },
      "outputs": [],
      "source": [
        "# SPDX-License-Identifier: Apache-2.0 AND CC-BY-NC-4.0\n",
        "#\n",
        "# Licensed under the Apache License, Version 2.0 (the \"License\");\n",
        "# you may not use this file except in compliance with the License.\n",
        "# You may obtain a copy of the License at\n",
        "#\n",
        "# http://www.apache.org/licenses/LICENSE-2.0\n",
        "#\n",
        "# Unless required by applicable law or agreed to in writing, software\n",
        "# distributed under the License is distributed on an \"AS IS\" BASIS,\n",
        "# WITHOUT WARRANTIES OR CONDITIONS OF ANY KIND, either express or implied.\n",
        "# See the License for the specific language governing permissions and\n",
        "# limitations under the License."
      ]
    },
    {
      "cell_type": "markdown",
      "metadata": {
        "collapsed": false,
        "id": "dc52344c"
      },
      "source": [
        "# Grover's Algorithm\n",
        "$\n",
        "\\renewcommand{\\ket}[1]{|{#1}\\rangle}\n",
        "\\renewcommand{\\bra}[1]{\\langle{#1}|}\n",
        "$\n"
      ]
    },
    {
      "cell_type": "markdown",
      "metadata": {
        "collapsed": false,
        "id": "e004e7"
      },
      "source": [
        "---\n",
        "\n",
        "## Overview\n",
        "\n",
        "This notebook provides an introduction to Grover's algorithm, a landmark quantum algorithm that has the potential to enable efficient search of unsorted databases. There are several expositions of Grover's algorithm online including [this video by 3Blue1Brown](https://www.3blue1brown.com/lessons/grover), [section 5.8 of Girvin's class notes](https://girvin.sites.yale.edu/sites/default/files/files/_Girvin_Introduction_to_Quantum_2024_04_21_v45.pdf), and [section 7.6 of Thomas Wong's book](https://www.thomaswong.net/introduction-to-classical-and-quantum-computing-1e4p.pdf).  By learning Grover's algorithm, you will recognize patterns and structure that are also used in other quantum algorithms, such as:\n",
        "\n",
        "- [Deutsch-Jozsa algorithm](https://nvidia.github.io/cuda-quantum/latest/applications/python/deutsch_jozsa.html) (distinguishing constant from balanced functions)\n",
        "- Simon’s algorithm (finding hidden periodicity)\n",
        "- [Shor’s algorithm](https://nvidia.github.io/cuda-quantum/latest/applications/python/shors.html) (factoring via [quantum Fourier transform](https://nvidia.github.io/cuda-quantum/latest/applications/python/quantum_fourier_transform.html)).\n",
        "\n",
        "\n",
        "\n",
        "By the end of this notebook you will be able to\n",
        "\n",
        "- understand the theoretical foundations of Grover's algorithm\n",
        "- apply the algorithm to solve specific search problems\n",
        "- design and implement your own simulations of Grover's algorithm using CUDA-Q\n",
        "\n",
        "Before we get started, we will need to import a few libraries:\n"
      ]
    },
    {
      "cell_type": "code",
      "execution_count": 1,
      "metadata": {
        "id": "V3KdFmITUpaE"
      },
      "outputs": [],
      "source": [
        "# Uncomment out if cudaq isn't installed\n",
        "#%pip install cudaq"
      ]
    },
    {
      "cell_type": "code",
      "execution_count": 59,
      "metadata": {
        "id": "979598"
      },
      "outputs": [],
      "source": [
        "import cudaq\n",
        "import matplotlib.pyplot as plt\n",
        "import numpy as np\n",
        "import itertools"
      ]
    },
    {
      "cell_type": "markdown",
      "metadata": {
        "collapsed": false,
        "id": "7f939c"
      },
      "source": [
        "---\n",
        "\n",
        "## Problem\n",
        "\n",
        "We consider the problem of locating one or more marked items in an unstructured database, where no prior information about the structure of the data is available. We can make this explicit by considering a database made up of binary strings of length $n$. Let $\\mathbb{B}^n$ denote the set of binary strings of length $n$ and\n",
        "$$f: \\mathbb{B}^n\n",
        "\\to \\{0,1\\}$$\n",
        "be a Boolean function that encodes the marked elements, i.e. $f(x) =1$ if and only if $x$ is a marked string. Our goal is to find all strings $x$ such that $f(x) = 1$.\n",
        "\n",
        "Classically, if we have no prior knowledge about $f$ (i.e., it is given as a black-box oracle), the best strategy requires $O(N)$ evaluations, where $N = 2^n$ is the total number of binary strings. However, there exists a quantum algorithm due to L. Grover that finds a solution using only $O(\\sqrt{N})$ oracle queries  ([Grover, 1996](https://arxiv.org/abs/quant-ph/9605043)).  \n",
        "\n",
        "We will use computational basis states on $n$ qubits to represent the $2^n$ elements in the database $B^n$.  Our goal is to create a quantum kernel that separates the marked states from the non-marked states. That is, sampling from the kernel yields a marked state with high probability and a non-marked state with low probability.  \n",
        "\n",
        "An alternative approach to this problem involves discrete time quantum walks.  For an introduction to discrete time quantum walks refer to the [CUDA-Q Academic notebook](https://github.com/NVIDIA/cuda-q-academic/blob/main/quick-start-to-quantum/03_quick_start_to_quantum.ipynb) and for details of using discrete time quantum walks for the search problem, consult [Thomas Wong's exposition](https://arxiv.org/pdf/2011.14533).\n"
      ]
    },
    {
      "cell_type": "markdown",
      "metadata": {
        "collapsed": false,
        "id": "b39e71"
      },
      "source": [
        "---\n",
        "\n",
        "## Step\\-by\\-Step Example: Understanding Grover's Algorithm\n",
        "\n",
        "In this notebook, we use a concrete example to illustrate the key steps and concepts behind Grover’s algorithm. Each section begins with an explanation of the theoretical foundations of a specific stage of the algorithm, followed by a step-by-step walkthrough applying these ideas to our example.\n",
        "\n",
        "Let $n=4$ and mark the states `1001` and `1111`.  The code block below defines the Boolean function, which we'll call `marking_function` that encodes the marked elements.\n",
        "\n"
      ]
    },
    {
      "cell_type": "code",
      "execution_count": 60,
      "metadata": {
        "colab": {
          "base_uri": "https://localhost:8080/",
          "height": 508
        },
        "id": "094e4b",
        "outputId": "baed150c-5d6e-40d8-b133-2e21c95fed14"
      },
      "outputs": [
        {
          "data": {
            "image/png": "[encoded data removed]",
            "text/plain": [
              "<Figure size 1000x500 with 1 Axes>"
            ]
          },
          "metadata": {},
          "output_type": "display_data"
        }
      ],
      "source": [
        "# Define a Boolean function that encodes the marked elements `1001` or `1111`\n",
        "marked_elements_list = ['1001', '1111']\n",
        "\n",
        "def marking_function(bit_string):\n",
        "    if bit_string in marked_elements_list:\n",
        "        return 1\n",
        "    else:\n",
        "        return 0\n",
        "\n",
        "# Print out some example function calls to verify that the marking_function works as required\n",
        "\n",
        "bit_strings = [''.join(bits) for bits in itertools.product('01', repeat=4)]\n",
        "\n",
        "# Compute the function outputs for each bit string\n",
        "outputs = [marking_function(bs) for bs in bit_strings]\n",
        "\n",
        "# Create a bar graph\n",
        "plt.figure(figsize=(10, 5))\n",
        "plt.bar(bit_strings, outputs, color='#76B900', edgecolor='none')\n",
        "\n",
        "plt.xlabel('4-bit Sequences')\n",
        "plt.ylabel('marking_function Output')\n",
        "plt.title('Marking Function Output for All 4-bit Sequences')\n",
        "plt.ylim(0, 1.2)  # Provides some padding above the bar height\n",
        "plt.grid(axis='y', linestyle='--', alpha=0.7)\n",
        "# Set y-axis to only show 0 and 1 as tickmarks\n",
        "plt.yticks([0, 1])\n",
        "plt.show()\n"
      ]
    },
    {
      "cell_type": "markdown",
      "metadata": {
        "collapsed": false,
        "id": "fb29af"
      },
      "source": [
        "---\n",
        "\n",
        "## Structure of Grover's Algorithm\n",
        "\n",
        "Grover's Algorithm can be broken down into the following steps:\n",
        "\n",
        "1. Preparation: Initialize $n$ qubits in an equal superposition state.  \n",
        "2. Oracle Application: Apply the oracle operator to flip the phase of the marked states (i.e., multiply them by $-1$).\n",
        "3. Amplitude Amplification: Use the diffusion operator to amplify the amplitudes of the marked states.\n",
        "4. Iteration: Repeat Steps 2 and 3 a specified number of times, which depends on the number of marked elements and $n$.\n",
        "5. Measurement: Measure the qubits. With high probability, the result will be one of the marked states.\n",
        "\n",
        "These steps are implicit in the circuit diagram below, which we'll describe in more detail in the following sections.\n",
        "\n",
        "![](https://github.com/NVIDIA/cuda-q-academic/blob/main/qis-examples/images/grovers-circuit.png?raw=true)\n",
        "\n",
        "Between the sections describing Step 1 and Step 2, we will introduce two quantum states (the good and the bad state) and their geometric interpretation that will help motivate Steps 3 and 4.\n"
      ]
    },
    {
      "cell_type": "markdown",
      "metadata": {
        "collapsed": false,
        "id": "adc89ddf-cb84-4f75-a2bd-c3cca25b94b8"
      },
      "source": [
        "### Step 1: Preparation\n",
        "The first step of Grover's algorithm requires initializing $n$ qubits in a state of equal superposition:\n",
        "\n",
        "$$\n",
        "\\ket{\\xi}:= H^{\\otimes n} (|0\\rangle^{\\otimes n}) = \\frac{1}{\\sqrt{N}} \\sum\\limits_{i=0}^{N-1} |i\\rangle,\n",
        "$$\n",
        "where each binary string is identified with the integer it represents (e.g., $|5\\rangle = |0101\\rangle$).\n",
        "\n",
        "The kernel in the code block below places the $n$ qubits in an equal superposition state.\n"
      ]
    },
    {
      "cell_type": "code",
      "execution_count": 61,
      "metadata": {
        "id": "e64701"
      },
      "outputs": [],
      "source": [
        "# Kernel to create an equal superposition state of qubits initialized to |0>\n",
        "@cudaq.kernel\n",
        "def equal_superposition(qubits_in_zero_state : cudaq.qview):\n",
        "    h(qubits_in_zero_state)"
      ]
    },
    {
      "cell_type": "markdown",
      "metadata": {
        "collapsed": false,
        "id": "dc1d2f"
      },
      "source": [
        "To test that the `equal_superposition` function acts as required, let's create a quantum kernel and sample it. We will also use the `get_state` command to get the probability amplitudes of the state, which should all be $\\frac{1}{2^4}=\\frac{1}{16}$. The sampling block below uses `shots_count` parameter equal to $16000$, so we expect each of the $16$ basis states to appear approximately $\\frac{1}{16} \\cdot 16000 = 1000$ times in the histogram.  We'll also define helper functions to visualize the sampling results and to print out the statevector."
      ]
    },
    {
      "cell_type": "code",
      "execution_count": 64,
      "metadata": {
        "colab": {
          "base_uri": "https://localhost:8080/",
          "height": 542
        },
        "id": "99b91f",
        "outputId": "52088ec3-44d8-4a98-9d9f-b579329c4140",
        "scrolled": true
      },
      "outputs": [
        {
          "data": {
            "image/png": "[encoded data removed]",
            "text/plain": [
              "<Figure size 640x480 with 1 Axes>"
            ]
          },
          "metadata": {},
          "output_type": "display_data"
        },
        {
          "name": "stdout",
          "output_type": "stream",
          "text": [
            "The statevector for the equal_superposition_state is:\n",
            " 0.25|0000> + 0.25|0001> + 0.25|0010> + 0.25|0011> + 0.25|0100> + 0.25|0101> + 0.25|0110> + 0.25|0111> + 0.25|1000> + 0.25|1001> + 0.25|1010> + 0.25|1011> + 0.25|1100> + 0.25|1101> + 0.25|1110> + 0.25|1111> \n"
          ]
        }
      ],
      "source": [
        "# Testing the equal_superposition function and defining a helper function for graphing states\n",
        "\n",
        "# Set the number of qubits\n",
        "num_qubits = 4\n",
        "\n",
        "# Helper functions\n",
        "# Define a function to draw the histogram of the results of sampling a kernel\n",
        "def plot_results(result, num_qubits):\n",
        "    # Define a dictionary of results\n",
        "\n",
        "    # Initialize the dictionary with all possible bit strings of length 4 for the x axis\n",
        "    result_dictionary = {}\n",
        "\n",
        "    # Generate all possible bit strings of length num_qubits\n",
        "    for i in range(2**num_qubits):\n",
        "        bitstr = bin(i)[2:].zfill(num_qubits)\n",
        "        result_dictionary[bitstr] = 0\n",
        "\n",
        "    # Update the results dictionary of results from the circuit sampling\n",
        "    for k,v in result.items():\n",
        "        result_dictionary[k] = v\n",
        "\n",
        "    # Convert the dictionary to lists for x and y values\n",
        "    x = list(result_dictionary.keys())\n",
        "    y = list(result_dictionary.values())\n",
        "\n",
        "    # Create the histogram\n",
        "    plt.bar(x, y, color='#76B900')\n",
        "\n",
        "    # Add title and labels\n",
        "    plt.title(\"Sampling\")\n",
        "    plt.xlabel(\"Bitstrings\")\n",
        "    plt.ylabel(\"Frequency\")\n",
        "\n",
        "    # Rotate x-axis labels for readability\n",
        "    plt.xticks(rotation=45)\n",
        "\n",
        "    # Show the plot\n",
        "    plt.tight_layout()\n",
        "    plt.show()\n",
        "\n",
        "# Define a helper function to format the quantum state as a string representation\n",
        "def format_quantum_state(bit_length, state):\n",
        "    \"\"\"\n",
        "    Format a quantum state as a string representation.\n",
        "    \n",
        "    Parameters:\n",
        "    bit_length (int): Length of the bit strings\n",
        "    amplitudes (dict or list): Either a dictionary mapping bit strings to amplitudes,\n",
        "                               or a list of amplitudes indexed by the integer value of the bit string\n",
        "    \n",
        "    Returns:\n",
        "    str: String representation of the quantum state\n",
        "    \"\"\"\n",
        "    # Generate all bit strings of the given length\n",
        "    bit_strings = [''.join(bits) for bits in itertools.product('01', repeat=bit_length)]\n",
        "    \n",
        "    # Initialize the output string\n",
        "    output = \"\"\n",
        "    first_term = True\n",
        "    # Iterate over all bit strings using index\n",
        "    for idx in range(len(bit_strings)):\n",
        "        bitstring = bit_strings[idx]\n",
        "        \n",
        "        # Get the amplitude based on the type of input\n",
        "        amplitude = state.amplitude(bitstring) \n",
        "        \n",
        "        # Check if amplitude is non-zero (using a small threshold for floating-point comparison)\n",
        "        if abs(amplitude) > 1e-10:\n",
        "            # Format the amplitude based on its components\n",
        "            if abs(amplitude.imag) < 1e-10:  # Essentially real\n",
        "                amp_str = f\"{amplitude.real:.2f}\"\n",
        "            else:\n",
        "                amp_str = f\"{amplitude:.2f}\"\n",
        "            \n",
        "            # Remove trailing zeros after decimal point for cleaner display\n",
        "            amp_str = amp_str.replace('.00', '')\n",
        "            if amp_str.endswith('.0j'):\n",
        "                amp_str = amp_str.replace('.0j', 'j')\n",
        "            if amp_str.startswith('(') and amp_str.endswith(')'):\n",
        "                amp_str = amp_str[1:-1]\n",
        "                \n",
        "            # Add to output string with proper sign handling\n",
        "            if first_term:\n",
        "                output += f\"{amp_str}|{bitstring}> \"\n",
        "                first_term = False\n",
        "            else:\n",
        "                # Check if the term starts with a negative sign\n",
        "                if amp_str.startswith('-'):\n",
        "                    output += f\"{amp_str}|{bitstring}> \"\n",
        "                else:\n",
        "                    output += f\"+ {amp_str}|{bitstring}> \"\n",
        "    \n",
        "    # If no terms were added, return zero state\n",
        "    if not output:\n",
        "        return \"0\"\n",
        "    \n",
        "    return output\n",
        "\n",
        "# Define a kernel to test the equal_superposition function\n",
        "@cudaq.kernel()\n",
        "def test_kernel(num_qubits : int):\n",
        "    # Initialize qubits in the zero state\n",
        "    qubits = cudaq.qvector(num_qubits)\n",
        "\n",
        "    # Place qubits in equal superposition\n",
        "    equal_superposition(qubits)\n",
        "\n",
        "# Sample the test_kernel\n",
        "results = cudaq.sample(test_kernel, num_qubits, shots_count = 16000)\n",
        "\n",
        "# Plot the histogram of sampling results\n",
        "plot_results(results, num_qubits)\n",
        "\n",
        "equal_superposition_state = cudaq.get_state(test_kernel, num_qubits)\n",
        "print('The statevector for the equal_superposition_state is:\\n', format_quantum_state(num_qubits, equal_superposition_state))"
      ]
    },
    {
      "cell_type": "markdown",
      "metadata": {
        "collapsed": false,
        "id": "1169cd"
      },
      "source": [
        "The histogram illustrates the distribution from sampling the state $|\\xi\\rangle$, showing that each bitstring has roughly equal probability of being measured. In this notebook, our objective is to implement Grover's Algorithm by developing a kernel that transforms the equal superposition state into one where the probability amplitudes of the marked states are amplified, making them more likely to be sampled than the other states.\n"
      ]
    },
    {
      "cell_type": "markdown",
      "metadata": {
        "collapsed": false,
        "id": "e12b54"
      },
      "source": [
        "### Good and Bad States: Explanation\n",
        "\n",
        "We can simplify our analysis of Grover's Algorithm by focusing on two useful quantum states, which we'll refer to as the \"good\" and \"bad\" states.  The \"good\" state captures the marked bitstrings and the \"bad\" state is orthogonal to the \"good\" state.\n",
        "\n",
        "Suppose there are $t$ marked states, i.e., there are $t$ elements $x \\in \\mathbb{B}^n$ with $f(x) = 1$. Letting $N=2^n$, we introduce the following quantum states:\n",
        "\n",
        "$$\n",
        "|G\\rangle := \\frac{1}{\\sqrt{t}} \\sum\\limits_{i, f(i) = 1} |i\\rangle, \\quad |B\\rangle := \\frac{1}{\\sqrt{N - t}} \\sum\\limits_{i, f(i) = 0} |i\\rangle.\n",
        "$$\n",
        "\n",
        "These are the uniform superpositions of marked and unmarked states, referred to as the \"good\" and \"bad\" states, respectively.  \n",
        "\n",
        "Rewriting the uniform superposition state $\\ket{\\xi}$ in terms of $|G\\rangle$ and $|B\\rangle$, we obtain:\n",
        "\n",
        "$$\n",
        "\\ket{\\xi} = \\frac{1}{\\sqrt{N}} \\sum\\limits_{i, f(i) = 1} |i\\rangle + \\frac{1}{\\sqrt{N}} \\sum\\limits_{i, f(i) = 0} |i\\rangle\n",
        "= \\frac{\\sqrt{t}}{\\sqrt{N}} |G\\rangle + \\frac{\\sqrt{N - t}}{\\sqrt{N}} |B\\rangle.\n",
        "$$\n",
        "\n"
      ]
    },
    {
      "cell_type": "markdown",
      "metadata": {
        "collapsed": false,
        "id": "f897bd"
      },
      "source": [
        "### Good and Bad States: Step-by-step Example\n",
        "\n",
        "Let's see what this look likes for our example of $n=4$ and marked states `1001` and `1111`.  Here $\\ket{\\xi} = \\frac{1}{16}\\sum\\limits_{k=0}^{15}\\ket{k}$ since there are 4 qubits and 16 computational basis states with $\\ket{0} = \\ket{0000}, \\ket{1} = \\ket{0001}, \\cdots, \\ket{15} = \\ket{1111}$.  The good state is an equal superposition of the states $\\ket{9} =\\ket{1001}$ and $\\ket{15} =\\ket{1111}$:\n",
        "$$\\ket{G} =  \\frac{1}{\\sqrt{2}}(\\ket{9}+\\ket{15} )= \\frac{1}{\\sqrt{2}}(\\ket{1001}+\\ket{1111}).$$\n",
        "\n",
        "The bad state is an equal superposition of the remaining states:\n",
        "$$\\ket{B} = \\frac{1}{\\sqrt{14}}(\\ket{0}+\\ket{1}+\\ket{2}+\\cdots+\\ket{8}+\\ket{10}+\\cdots+\\ket{14}) = \\frac{1}{\\sqrt{14}}\\sum_{x\\in B^4}f(x)\\ket{x}. $$\n",
        "\n",
        "Notice that the states $\\ket{G}$ and $\\ket{B}$ are orthogonal (with respect to the standard Hermitian inner product on the Hilbert space $\\mathcal{H} = (\\mathbb{C}^2)^{\\otimes n}$). We will verify this in the code block below by computing the 'overlap' between $\\ket{G}$ and $\\ket{B}$, which is equal to $|\\langle G|{B}\\rangle |$, the absolute value of the inner product of $\\ket{G}$ and $\\ket{B}$.\n",
        "\n"
      ]
    },
    {
      "cell_type": "code",
      "execution_count": 65,
      "metadata": {
        "colab": {
          "base_uri": "https://localhost:8080/"
        },
        "collapsed": true,
        "id": "c71ea1",
        "outputId": "2fa03bfa-2c29-45ae-e7b3-46f025e22b1d",
        "scrolled": true
      },
      "outputs": [
        {
          "name": "stdout",
          "output_type": "stream",
          "text": [
            "The good state is 0.71|1001> + 0.71|1111>  \n",
            "\n",
            "The bad state is 0.27|0000> + 0.27|0001> + 0.27|0010> + 0.27|0011> + 0.27|0100> + 0.27|0101> + 0.27|0110> + 0.27|0111> + 0.27|1000> + 0.27|1010> + 0.27|1011> + 0.27|1100> + 0.27|1101> + 0.27|1110>  \n",
            "\n",
            "Two states are orthogonal if the inner product between them is zero, or equivalently, if the overlap between them is zero. \n",
            "\n",
            "The overlap of the good and bad state is 0.0\n"
          ]
        }
      ],
      "source": [
        "# Illustration of the orthogonality of the good and bad states\n",
        "\n",
        "# Kernel for the good state\n",
        "\n",
        "# Define a list of complex numbers\n",
        "# for the coefficients of the state |good> = alpha|1001> + beta|1111>,\n",
        "# where alpha = 1/sqrt(2)+0j and beta = -1/sqrt(2)+0j\n",
        "good_coefficients = [complex(0, 0)] * 16\n",
        "good_coefficients[9] = complex(np.sqrt(2)/2, 0)\n",
        "good_coefficients[15] = complex(np.sqrt(2)/2, 0)\n",
        "\n",
        "# Define a vector coefficients for the bad state\n",
        "bad_coefficients = [complex(1/np.sqrt(14),0)]*16\n",
        "bad_coefficients[9] = complex(0, 0)\n",
        "bad_coefficients[15] = complex(0, 0)\n",
        "\n",
        "# Define a cudaq.kernel to generate a state from a list of coefficients\n",
        "@cudaq.kernel\n",
        "def state_from_list(coefficients: list[complex]):\n",
        "    q = cudaq.qvector(coefficients)\n",
        "\n",
        "\n",
        "# Compute the overlap between the two states to verify it is 0.\n",
        "good_state = cudaq.get_state(state_from_list, good_coefficients)\n",
        "bad_state = cudaq.get_state(state_from_list, bad_coefficients)\n",
        "overlap_good_bad = (good_state.overlap(bad_state)**2).real\n",
        "\n",
        "print('The good state is', format_quantum_state(4, good_state),'\\n')\n",
        "print('The bad state is', format_quantum_state(4, bad_state),'\\n')\n",
        "print('Two states are orthogonal if the inner product between them is zero, or equivalently, if the overlap between them is zero. \\n')\n",
        "print('The overlap of the good and bad state is', overlap_good_bad)\n",
        "\n"
      ]
    },
    {
      "cell_type": "markdown",
      "metadata": {
        "collapsed": false,
        "id": "a6f1dc"
      },
      "source": [
        "### Geometry of the Good and Bad States\n",
        "\n",
        "\n",
        "In the standard basis, the vectors $|G\\rangle$ and $|B\\rangle$ have components consisting only of zeros and ones in complementary positions. Specifically, we can write:\n",
        "\n",
        "$$\n",
        "|G\\rangle = \\frac{1}{\\sqrt{t}} (a_0, a_1, \\dots, a_{N-1}) \\text{ and }\n",
        "|B\\rangle = \\frac{1}{\\sqrt{N - t}} (\\bar{a}_0, \\bar{a}_1, \\dots, \\bar{a}_{N-1}),\n",
        "$$\n",
        "\n",
        "where $a_i \\in \\{0,1\\}$ and $\\bar{a}_i = 1 - a_i$. As we saw in the previous example, this structure ensures that $|G\\rangle$ and $|B\\rangle$ are orthogonal with respect to the standard Hermitian inner product:\n",
        "\n",
        "$$\n",
        "\\langle G | B \\rangle = 0.\n",
        "$$\n",
        "\n"
      ]
    },
    {
      "cell_type": "markdown",
      "metadata": {
        "collapsed": false,
        "id": "da7b9a"
      },
      "source": [
        "\n",
        "Next, let's introduce the angle $\\theta$ between the equal superposition state $\\ket{\\xi}$ and the bad state $\\ket{B}$.  We can compute this angle using the dot product formula. To compute the dot product of $\\ket{\\xi}$ with $\\ket{B}$, notice that the coefficients for $\\ket{\\xi}$ are all $\\frac{1}{\\sqrt{N}}$ while the coefficients for $\\ket{B}$ are all $\\frac{1}{\\sqrt{N-t}}$ except for the $t$ bad states that have coefficients $0$.  Furthermore, the states both have magnitude 1.  Therefore\n",
        "\n",
        "$$\\cos{\\theta} = \\frac{\\ket{\\xi}\\cdot\\ket{B}}{|\\ket{\\xi}||\\ket{B}||} = \\ket{\\xi}\\cdot\\ket{B} = \\frac{N-t}{\\sqrt{N(N-t)}}$$\n",
        "\n",
        "\n",
        "\n",
        "With this notation, we can rewrite $\\ket{\\xi}$ as:\n",
        "\n",
        "$$\n",
        "\\ket{\\xi} = \\sin(\\theta) |G\\rangle + \\cos(\\theta) |B\\rangle.\n",
        "$$\n",
        "\n",
        "Furthermore note that a similar calculation using the dot product of $\\ket{G}$ and $\\ket{\\xi}$ can be conducted to derive that $\\cos{(90^\\circ-\\theta)} = \\frac{\\sqrt{t}}{\\sqrt{N}}$. This would imply that $\\theta$ can also be written as \n",
        "$$\\theta = \\arcsin{\\left(\\frac{\\sqrt{t}}{\\sqrt{N}}\\right)}.$$  \n",
        "\n",
        "We'll use this fact later.\n"
      ]
    },
    {
      "cell_type": "markdown",
      "metadata": {
        "collapsed": false,
        "id": "98f8f3"
      },
      "source": [
        "#### Geometry of the Good and Bad States: a Step-by-step Example\n",
        "In the code block below, we verify that the equality, $\n",
        "\\ket{\\xi} = \\sin(\\theta) |G\\rangle + \\cos(\\theta) |B\\rangle\n",
        "$,  holds for our particular example. Recall that in our example, we have 2 marked states and 4 qubits, in other words $t =2$ and $ N = 2^4 = 16$.\n",
        "In this case,  $\\theta = \\arccos(\\frac{14}{\\sqrt{16*14}})  \\approx 21^\\circ$.  To verify that $\n",
        "\\ket{\\xi} = \\sin(\\theta) |G\\rangle + \\cos(\\theta) |B\\rangle\n",
        "$, we will compute the inner product (using the overlap function) of  $\n",
        "\\ket{\\xi} $ and  $\\sin(\\theta) |G\\rangle + \\cos(\\theta) |B\\rangle$, which we expect to be close to 1."
      ]
    },
    {
      "cell_type": "code",
      "execution_count": 66,
      "metadata": {
        "colab": {
          "base_uri": "https://localhost:8080/"
        },
        "id": "d829dc",
        "outputId": "e617f1ad-3295-4af5-e2c9-a6f9a7a13d70",
        "scrolled": true
      },
      "outputs": [
        {
          "name": "stdout",
          "output_type": "stream",
          "text": [
            "The overlap between the two states should be close to 1.\n",
            "The computed overlap is  0.9999999999999998\n"
          ]
        }
      ],
      "source": [
        "# First we create the state sin(theta)|G> + cos(theta)|B>\n",
        "# by making a list of complex coefficients\n",
        "\n",
        "# Set the angle theta\n",
        "theta = np.arccos(14/np.sqrt(14*16))\n",
        "\n",
        "coefficients = [np.sin(theta)*good_coefficients[i] + np.cos(theta)*bad_coefficients[i] for i in range(len(good_coefficients))]\n",
        "lin_combination_state =  cudaq.get_state(state_from_list, coefficients)\n",
        "\n",
        "# Then we compute the overlap between this state and the uniform supersposition state\n",
        "overlap = (equal_superposition_state.overlap(lin_combination_state)**2).real\n",
        "\n",
        "print('The overlap between the two states should be close to 1.')\n",
        "print('The computed overlap is ',overlap)"
      ]
    },
    {
      "cell_type": "markdown",
      "metadata": {
        "collapsed": false,
        "id": "b4c1681c-3456-4a7c-8d7a-4aa4bb3deaf8"
      },
      "source": [
        "Let us now examine the geometric picture behind our current discussion. We'll consider the ambient Hilbert space to be spanned by the standard basis vectors $|0\\rangle, |1\\rangle, \\dots, |N-1\\rangle$, where the full dimension is $N = 2^n$. Since the uniform superposition state $|\\xi\\rangle$ can be expressed as a linear combination of the states $|G\\rangle$ and $|B\\rangle$ with real coefficients, all three states $|\\xi\\rangle, |G\\rangle,$ and $|B\\rangle$ reside in a two-dimensional real subspace of the ambient Hilbert space, which we can visualize as a 2D plane as in the image below.  Since, $|G\\rangle$ and $|B\\rangle$ are orthogonal, we can imagine them graphed as unit vectors in the positive $y$ and positive $x$ directions, respectively.  From our previous expression, $\\ket{\\xi} = \\sin(\\theta) |G\\rangle + \\cos(\\theta) |B\\rangle,$ we see that the state $|\\xi\\rangle$ forms an angle $\\theta$ with $|B\\rangle$.\n",
        "\n",
        "![](https://github.com/NVIDIA/cuda-q-academic/blob/main//qis-examples/images/grovers-2D-plane.png?raw=true?)\n",
        "\n",
        "Given that the number of marked states $t$ is typically small compared to $N$, it follows that $\\theta$ is a small angle. This assumption is reasonable, as otherwise, a sufficient number of independent queries to the oracle would likely yield a solution through classical search methods.\n"
      ]
    },
    {
      "cell_type": "markdown",
      "metadata": {
        "collapsed": false,
        "id": "800f56"
      },
      "source": [
        "### Step 2: Oracle application\n",
        "\n"
      ]
    },
    {
      "cell_type": "markdown",
      "metadata": {
        "collapsed": false,
        "id": "8fee85"
      },
      "source": [
        "#### Step 2: Explanation\n",
        "\n",
        "\n",
        "After we have created a state of equal superposition, the good state is marked by flipping its phase.  This is done with a **phase oracle**.  A phase oracle $U$ is a unitary operation that has the property that for a computational basis state $\\ket{x}$\n",
        "\n",
        "$$\n",
        "U |x\\rangle = \n",
        "\\begin{cases} \n",
        "-|x\\rangle & \\text{if } |x\\rangle \\text{ is marked} \\\\\n",
        "|x\\rangle & \\text{if } |x\\rangle \\text{ is not marked}\n",
        "\\end{cases}\n",
        "$$\n",
        "\n",
        "#### Step 2: Step-by-step example\n",
        "Let's consider our example of the two marked states $\\ket{9} =\\ket{1001}$ and $\\ket{15} =\\ket{1111}$.  We'll first write a unitary matrix $U_{15}$ that flips the computational basis state $\\ket{15}$ but keeps all other computational basis states fixed.  We work through this marked state first because we have a built-in gate that carries out the required action, and we'll see how we can adapt it to mark other marked states.  In particular, the multi-controlled Z gate applies a phase flip (-1) when all control qubits are in state |1⟩, and does nothing otherwise.  Let's see this in action:"
      ]
    },
    {
      "cell_type": "code",
      "execution_count": 67,
      "metadata": {
        "colab": {
          "base_uri": "https://localhost:8080/"
        },
        "id": "2c9446",
        "outputId": "d1508865-9754-42dd-fcec-832ef3835051"
      },
      "outputs": [
        {
          "name": "stdout",
          "output_type": "stream",
          "text": [
            "0.25|0000> + 0.25|0001> + 0.25|0010> + 0.25|0011> + 0.25|0100> + 0.25|0101> + 0.25|0110> + 0.25|0111> + 0.25|1000> + 0.25|1001> + 0.25|1010> + 0.25|1011> + 0.25|1100> + 0.25|1101> + 0.25|1110> -0.25|1111> \n"
          ]
        }
      ],
      "source": [
        "# Define U_15 so that U_15|1111> = -|1111> but fixes \n",
        "# all other computational basis states |x>\n",
        "\n",
        "# Set the number of qubits for the computational basis states\n",
        "num_qubits = 4\n",
        "\n",
        "\n",
        "# Using phase kickback, apply a multi-controlled Z gate\n",
        "# with the auxiliary qubit as the target and all other qubits\n",
        "# as the control\n",
        "@cudaq.kernel\n",
        "def U15(qubits: cudaq.qvector):\n",
        "    z.ctrl(qubits.front(len(qubits) - 1), qubits.back())\n",
        "\n",
        "# Create a kernel to test our defintion of U15\n",
        "@cudaq.kernel\n",
        "def flip_phase_of_15_only(num_qubits : int):\n",
        "    qubits = cudaq.qvector(num_qubits)\n",
        " \n",
        "    # Initialize the the qubits in a state of equal superposition\n",
        "    equal_superposition(qubits)\n",
        "\n",
        "    # Apply the U15 kernel\n",
        "    U15(qubits)\n",
        "\n",
        "\n",
        "# Get the state of the flip_phase_of_15_only kernel\n",
        "result_get_state = cudaq.get_state(flip_phase_of_15_only, num_qubits)\n",
        "print(format_quantum_state(4, result_get_state))\n"
      ]
    },
    {
      "cell_type": "markdown",
      "metadata": {
        "collapsed": false,
        "id": "a7d5cc"
      },
      "source": [
        "Notice that the only state with a negative phase is the `1111` state.\n",
        "\n",
        "Your exercise is to adapt the $U15$ oracle and create a new phase oracle $U_9$ which will flip the phase of the auxiliary qubit when the first four qubits are in the computational basis state $\\ket{9} = \\ket{1001}$ and doing nothing to the auxiliary qubit otherwise.  \n",
        "Hint: consider creating a kernel that when applied to the state $\\ket{1001}$ would carry out the sequence of transformations $\\ket{1001}\\rightarrow\\ket{1111}\\rightarrow-\\ket{1111}\\rightarrow-\\ket{1001}$."
      ]
    },
    {
      "cell_type": "code",
      "execution_count": 68,
      "metadata": {
        "colab": {
          "base_uri": "https://localhost:8080/"
        },
        "id": "8d3de6",
        "outputId": "211893f4-a6e3-4b86-e883-3ca166f36f52"
      },
      "outputs": [
        {
          "name": "stdout",
          "output_type": "stream",
          "text": [
            "0.25|0000> + 0.25|0001> + 0.25|0010> + 0.25|0011> + 0.25|0100> + 0.25|0101> + 0.25|0110> + 0.25|0111> + 0.25|1000> -0.25|1001> + 0.25|1010> + 0.25|1011> + 0.25|1100> + 0.25|1101> + 0.25|1110> + 0.25|1111> \n"
          ]
        }
      ],
      "source": [
        "# SOLUTION\n",
        "# Define U_9 so that U_9|1001> = -|1001> but fixes \n",
        "# all other computational basis states |x>\n",
        "\n",
        "# Set the number of qubits for the computational basis states\n",
        "num_qubits = 4\n",
        "\n",
        "@cudaq.kernel\n",
        "def U9(qubits: cudaq.qvector):\n",
        "\n",
        "    x(qubits[1])\n",
        "    x(qubits[2])\n",
        "    z.ctrl(qubits.front(len(qubits) - 1), qubits.back())\n",
        "    x(qubits[1])\n",
        "    x(qubits[2])\n",
        "\n",
        "# Create a kernel to test our defintion of U9\n",
        "@cudaq.kernel\n",
        "def flip_phase_for_9_only(num_qubits : int):\n",
        "    qubits = cudaq.qvector(num_qubits)\n",
        "\n",
        "    # Initialize the the qubits in a state of equal superposition\n",
        "    equal_superposition(qubits)\n",
        "\n",
        "    # Apply the U9 kernel\n",
        "    U9(qubits)\n",
        "\n",
        "# Get the state of the flip_phase_for_9_only kernel\n",
        "result_U9 = cudaq.get_state(flip_phase_for_9_only,num_qubits)\n",
        "\n",
        "print(format_quantum_state(4, result_U9))"
      ]
    },
    {
      "cell_type": "markdown",
      "metadata": {
        "collapsed": false,
        "id": "0865b2"
      },
      "source": [
        "When you finish the exercise above, check that the only computational basis state after an application of `U9` with a negative phase is `1001`.  If so, how would you combine `U15` and `U9` to create an oracle that only flips the phase of `1111` and `1001` leaving all other computational basis states fixed?"
      ]
    },
    {
      "cell_type": "code",
      "execution_count": 69,
      "metadata": {
        "id": "c8a9b2"
      },
      "outputs": [],
      "source": [
        "# Define a phase oracle that flips the phases of |1001> and |1111>\n",
        "# and fixes all other computational basis states |x>\n",
        "@cudaq.kernel\n",
        "def phase_oracle(qubits: cudaq.qvector):\n",
        "    U9(qubits)\n",
        "    U15(qubits)\n"
      ]
    },
    {
      "cell_type": "markdown",
      "metadata": {
        "collapsed": false,
        "id": "bbf16b5f-ed3a-43a6-afd0-fdb0aceb9b5c"
      },
      "source": [
        "### Step 3: Amplitude amplification\n",
        "\n"
      ]
    },
    {
      "cell_type": "markdown",
      "metadata": {
        "collapsed": false,
        "id": "ade53058-6c04-49d7-83bf-fb74b71f5df5"
      },
      "source": [
        "#### Step 3: Explanation\n",
        "\n",
        "The main idea behind Grover's algorithm is to construct an operator (Grover iteration) that performs a clockwise rotation by $2\\theta$ in the two-dimensional plane spanned by the state vectors $|G\\rangle$ and $|B\\rangle$. This is carried out through a composition of two rotations.  First $|\\xi\\rangle$ is reflected over $|B\\rangle$ (by a rotation operation $r_B$) and then this state is reflected over $|\\xi\\rangle$ by a rotation operation $r_\\xi$, as depicted in the animation below.\n",
        "\n",
        "![](https://raw.githubusercontent.com/NVIDIA/cuda-q-academic/refs/heads/main/images/grovers.gif)\n",
        "\n",
        "After applying this operator $m = \\lfloor \\frac{\\pi}{4\\theta} \\rfloor$ times, the state vector $|\\xi\\rangle$ becomes very close to $|G\\rangle$. Consequently, performing a measurement in the standard basis yields one of the solutions with high probability.\n"
      ]
    },
    {
      "cell_type": "markdown",
      "metadata": {
        "collapsed": false,
        "id": "c720ff"
      },
      "source": [
        "The following section describes the derivation of the rotation gates $r_B$ and $r_\\xi$ in general.  If you are not concerned with understanding the mathematics, you can skip this optional section and continue down to the section titled \"Reflecting over the $\\ket{0000}$ State: Step-by-step example\" to see how this operation is defined for our particular $4$-qubit example."
      ]
    },
    {
      "cell_type": "markdown",
      "metadata": {
        "collapsed": false,
        "id": "bbfece54"
      },
      "source": [
        "#### \\(optional\\) Realizing Grover's Diffusion Operator: Reflection as Composition of Rotations\n",
        "\n"
      ]
    },
    {
      "cell_type": "markdown",
      "metadata": {
        "collapsed": false,
        "id": "804bb3f7"
      },
      "source": [
        "In this section we will derive the gate sequences needed to carry out the rotations $r_B$ followed by $r_\\xi$.  We'll start by examining rotations in general.\n",
        "\n",
        "Let $v \\in \\mathbb{R}^N$ be a vector, and let $r_v$ denote the reflection with respect to $v$. By reflection $r_v$ with respect to a vector, we mean the linear map that leaves $v$ unchanged and maps any vector orthogonal to $v$ to its negative:\n",
        "\n",
        "$$\n",
        "r_v(v) = v \\quad \\text{and} \\quad r_v(w) = -w \\quad \\text{for} \\quad w \\text{ such that } (v, w) = 0,\n",
        "$$\n",
        "\n",
        "where $(\\bullet, \\bullet)$ denotes the dot product on $\\mathbb{R}^N$.\n",
        "\n",
        "If $v$ and $w$ are two vectors, then the composition of reflections with respect to them results in a rotation by twice the angle between them in the two-dimensional plane they span:\n",
        "\n",
        "$$\n",
        "r_w \\circ r_v = \\text{rotation by } 2\\theta \\text{ from } v \\text{ to } w,\n",
        "$$\n",
        "\n",
        "where $\\theta = \\arccos\\left(\\frac{(v, w)}{|v||w|}\\right)$ is the angle between $v$ and $w$.\n",
        "\n",
        "In the case where $v$ and $w$ are unit vectors, i.e., $|v| = |w| = 1$, this formula simplifies to $\\theta = \\arccos((v, w))$.\n",
        "\n",
        "![](https://github.com/NVIDIA/cuda-q-academic/blob/main//qis-examples/images/rotation.png?raw=true?)\n",
        "\n",
        "\n"
      ]
    },
    {
      "cell_type": "markdown",
      "metadata": {
        "collapsed": false,
        "id": "e80d604d-3b1e-47ab-894b-47e8f95a4d42"
      },
      "source": [
        "In order to realize Grover's iteration operator, which performs a rotation by $2\\theta$ in the direction from $|B\\rangle$ to $|G\\rangle$, we will construct the reflections with respect to the state vectors $|B\\rangle$ and $|\\xi\\rangle$. We will denote this operator by\n",
        "\n",
        "$$\n",
        "\\mathcal{G} := r_\\xi \\circ r_{B}.\n",
        "$$\n",
        "\n",
        "First, we focus on the reflection with respect to $|B\\rangle$. The oracle for our Boolean function $f$ is the unitary operator $\\mathcal{O}_f$, which acts on the $n$ given qubits and an auxiliary one, usually called an ancilla, as follows\n",
        "\n",
        "$$\n",
        "\\mathcal{O}_f(|i\\rangle \\otimes |y\\rangle) := |i\\rangle \\otimes |y \\oplus f(i)\\rangle,\n",
        "$$\n",
        "\n",
        "where $\\oplus$ denotes addition modulo $2$.\n",
        "\n",
        "It follows that\n",
        "\n",
        "$$\n",
        "\\mathcal{O}_f(|i\\rangle \\otimes |+\\rangle) = \\frac{1}{\\sqrt{2}} \\left(|i\\rangle \\otimes |0 \\oplus f(i)\\rangle + |i\\rangle \\otimes |1 \\oplus f(i)\\rangle\\right) = |i\\rangle \\otimes |+\\rangle.\n",
        "$$\n",
        "\n",
        "This holds because $|+\\rangle = \\frac{1}{\\sqrt{2}}(|0\\rangle + |1\\rangle)$, and the function value $f(i)$ affects both terms in the same way, leaving the superposition unchanged. Similarly, we can check that\n",
        "\n",
        "$$\n",
        "\\mathcal{O}_f(|i\\rangle \\otimes |-\\rangle) =\n",
        "\\begin{cases}\n",
        "|i\\rangle \\otimes |-\\rangle, & \\text{if } f(i) = 0 \\text{ (i.e., } i \\text{ is not a solution)}, \\\\\n",
        "-|i\\rangle \\otimes |-\\rangle, & \\text{if } i \\text{ is a solution}.\n",
        "\\end{cases}\n",
        "$$\n",
        "\n",
        "From this, it immediately follows that\n",
        "\n",
        "$$\n",
        "\\mathcal{O}_f(|G\\rangle \\otimes |-\\rangle) = -|G\\rangle \\otimes |-\\rangle, \\quad \\mathcal{O}_f(|B\\rangle \\otimes |-\\rangle) = |B\\rangle \\otimes |-\\rangle.\n",
        "$$\n",
        "\n",
        "This confirms that $\\mathcal{O}_f$ realizes the desired reflection in the two-dimensional plane spanned by $|G\\rangle$ and $|B\\rangle$ with respect to $|B\\rangle$.\n",
        "\n",
        "**Remark.** For the purposes of constructing the iteration operator, it suffices that $\\mathcal{O}_f$ implements the necessary reflection in the $2$-dimensional subspace under consideration. However, it is interesting to note that $\\mathcal{O}_f$ is NOT a reflection with respect to $|B\\rangle$ in the full $N$-dimensional Hilbert space. While it leaves $|B\\rangle$ unchanged, it does not map every vector orthogonal to $|B\\rangle$ to its negative. (Think this through as an exercise!)\n",
        "\n"
      ]
    },
    {
      "cell_type": "markdown",
      "metadata": {
        "collapsed": false,
        "id": "1467a837-6107-45b0-a42e-896a1ba3d1c0"
      },
      "source": [
        "The next step is to realize the operator that performs reflection with respect to $|\\xi\\rangle$. First, let's recall the general formula for an operator of reflection with respect to a vector.\n",
        "\n",
        "Let $V$ be a real vector space with inner product $(\\bullet, \\bullet): V \\times V \\rightarrow \\mathbb{R}$ (for our purposes, the standard dot product suffices). For a vector $v \\in V$, the reflection with respect to $v$ is given by:\n",
        "\n",
        "$$\n",
        "r_v(\\bullet) := \\frac{2(v, \\bullet)}{(v,v)} v - \\text{Id},\n",
        "$$\n",
        "\n",
        "where $\\text{Id}$ denotes the identity operator. This formula simplifies to:\n",
        "\n",
        "$$\n",
        "r_v(\\bullet) := 2(v, \\bullet) v - \\text{Id}\n",
        "$$\n",
        "\n",
        "when $v$ is a unit vector, i.e., $(v, v) = 1$, which is always the case for state vectors in quantum mechanics.\n",
        "\n",
        "To verify that this formula indeed defines a reflection across $v$, we compute:\n",
        "\n",
        "$$\n",
        "r_v(v) = 2(v, v) v - v = 2v - v = v,\n",
        "$$\n",
        "\n",
        "which confirms that $v$ is left unchanged. Similarly, for any vector $w$ orthogonal to $v$, i.e., $(v, w) = 0$, we obtain:\n",
        "\n",
        "$$\n",
        "r_v(w) = 2(v, w) v - w = -w.\n",
        "$$\n",
        "\n",
        "This confirms that $r_v$ acts as the required reflection.  \n",
        "\n",
        "In Dirac notation, the formula for reflection with respect to a state vector $|v\\rangle$ takes the form:\n",
        "\n",
        "$$\n",
        "r_v = 2 |v\\rangle \\langle v| - \\text{Id}.\n",
        "$$\n",
        "\n",
        "Thus, the operator we need to realize is:\n",
        "\n",
        "$$\n",
        "r_{\\xi} = 2 |\\xi\\rangle \\langle \\xi| - \\text{Id}.\n",
        "$$\n",
        "\n",
        "Recalling that $|\\xi\\rangle$ is given by applying the Hadamard transform to the all-zero state:\n",
        "\n",
        "$$\n",
        "|\\xi\\rangle = H^{\\otimes n} |0^{\\otimes n} \\rangle,\n",
        "$$\n",
        "\n",
        "we can rewrite the reflection as:\n",
        "\n",
        "$$\n",
        "r_{\\xi} =  H^{\\otimes n} (2|0^{\\otimes n} \\rangle \\langle 0^{\\otimes n}|- \\text{Id}) H^{\\otimes n}.\n",
        "$$\n",
        "\n",
        "Here, we have used the property $H^2 = \\text{Id}$, which implies:\n",
        "\n",
        "$$\n",
        "H^{\\otimes n} \\, \\text{Id} \\, H^{\\otimes n} = \\text{Id}.\n",
        "$$\n",
        "\n",
        "Notice that the operator:\n",
        "\n",
        "$$\n",
        "2 |0^{\\otimes n} \\rangle \\langle 0^{\\otimes n} | - \\text{Id}\n",
        "$$\n",
        "\n",
        "is simply the reflection across the state vector $|0^{\\otimes n} \\rangle$. This reflection acts as the identity on $|0^{\\otimes n} \\rangle$ and multiplies all other computational basis states by $-1$. This is typically implemented using a combination of multi-controlled NOT gates (Toffoli gates) and a single-qubit $Z$-gate. Let's refer to $\n",
        "2 |0^{\\otimes n} \\rangle \\langle 0^{\\otimes n} | - \\text{Id}\n",
        "$ as $r_0$ to indicate that it is a reflection about  $|0^{\\otimes n} \\rangle$.\n",
        "\n",
        "\n",
        "\n",
        "Thus, the reflection about $|\\xi\\rangle$ can be realized by first applying $H^{\\otimes n}$ to move into the computational basis, applying the reflection about $|0^{\\otimes n}\\rangle$, and then applying $H^{\\otimes n}$ again to return to the original basis:\n",
        "\n",
        "$$ r_\\xi =  H^{\\otimes n} r_0 H^{\\otimes n}.$$\n",
        "\n"
      ]
    },
    {
      "cell_type": "markdown",
      "metadata": {
        "collapsed": false,
        "id": "f360bcd5-2173-471f-b07e-d0fd3b00c92d"
      },
      "source": [
        "#### Reflecting over the |0000&gt; State: Step\\-by\\-step example\n",
        "\n",
        "Before defining reflection over the $\\ket{\\xi}$ state, we'll first define a gate sequence that will reflect a state with respect to the all zero state.\n",
        "\n",
        "For \\( n = 4 \\), the reflection operator  \n",
        "$$\n",
        "r_0 = 2 |0^{\\otimes 4} \\rangle \\langle 0^{\\otimes 4} | - \\text{Id}\n",
        "$$\n",
        "acts as the identity on $|0000\\rangle $ and multiplies all other computational basis states by $ -1 $.  Because we cannot distinguish states that differ by a global phase, this reflection operator is equivalent to  $r_0\\equiv-1r_0 = -2 |0^{\\otimes 4} \\rangle \\langle 0^{\\otimes 4} | + \\text{Id}$ which flips the phase of $|0000\\rangle $, while acting as the identity on all the other computational basis states.\n",
        "\n",
        "To implement this reflection, we'll\n",
        "\n",
        "1. Apply X gates to all qubits: This maps $\\ket{0000}$ to $\\ket{1111}$ and vice versa.\n",
        "Every other basis state is mapped to some other basis state.\n",
        "2. Apply a multi-controlled Z (phase flip) This flips the sign of only the |1...1> ((which was originally |0...0>)\n",
        "3. Apply $X$ gates again to revert the transformation.\n",
        "\n",
        "![](https://github.com/NVIDIA/cuda-q-academic/blob/main//qis-examples/images/reflect-zero.png?raw=true?)\n",
        "\n",
        "\n",
        "In the code block below, change the initial state to test out that the all_zero_reflection function fixes the phase of all computational states except the all-zero state.\n",
        "\n"
      ]
    },
    {
      "cell_type": "code",
      "execution_count": 34,
      "metadata": {
        "colab": {
          "base_uri": "https://localhost:8080/"
        },
        "id": "5e9433",
        "outputId": "61034042-e6d4-4529-984a-d836eeb3305b"
      },
      "outputs": [
        {
          "name": "stdout",
          "output_type": "stream",
          "text": [
            "     ╭───╮╭───╮     ╭───╮\n",
            "q0 : ┤ x ├┤ x ├──●──┤ x ├\n",
            "     ├───┤├───┤  │  ├───┤\n",
            "q1 : ┤ x ├┤ x ├──●──┤ x ├\n",
            "     ├───┤╰───╯  │  ├───┤\n",
            "q2 : ┤ x ├───────●──┤ x ├\n",
            "     ├───┤╭───╮╭─┴─╮├───┤\n",
            "q3 : ┤ x ├┤ x ├┤ z ├┤ x ├\n",
            "     ╰───╯╰───╯╰───╯╰───╯\n",
            "\n",
            "1|1101> \n"
          ]
        }
      ],
      "source": [
        "# Reflection about the all zero state\n",
        "\n",
        "@cudaq.kernel\n",
        "def all_zero_reflection(qubits: cudaq.qview, num_qubits : int):\n",
        "    x(qubits)\n",
        "    z.ctrl(qubits[0:num_qubits-1], qubits[num_qubits-1])\n",
        "    x(qubits)\n",
        "\n",
        "\n",
        "@cudaq.kernel\n",
        "def basis_state(qubits : cudaq.qview):\n",
        "    # Edit this code below this line to initialize a different basis state\n",
        "    # this sample code below encodes the 1101 basis state when num_qubits =4\n",
        "    x(qubits[0])\n",
        "    x(qubits[1])\n",
        "    x(qubits[3])\n",
        "\n",
        "    # Edit the code above this line\n",
        "\n",
        "@cudaq.kernel\n",
        "def test_reflection(num_qubits : int):\n",
        "    qubits = cudaq.qvector(num_qubits)\n",
        "    basis_state(qubits) # comment this line out to test the reflection on the all zero state\n",
        "    all_zero_reflection(qubits, num_qubits)\n",
        "\n",
        "# Print the circuit diagram of the test_reflection kernel and the quantum state\n",
        "print(cudaq.draw(test_reflection,4))\n",
        "print(format_quantum_state(4, cudaq.get_state(test_reflection, 4)))"
      ]
    },
    {
      "cell_type": "markdown",
      "metadata": {
        "collapsed": false,
        "id": "ed93a7"
      },
      "source": [
        "#### Reflecting over the equal superposition state: Step\\-by\\-step example\n",
        "\n",
        "Now let's adapt the `all_zero_reflection` to instead reflect about the equal superposition state.  To do this we'll wrap the `all_zero_reflection` kernel with Hadamard gates which will transform the qubits from the equal superposition state to the all zero state and back.\n",
        "\n"
      ]
    },
    {
      "cell_type": "code",
      "execution_count": 70,
      "metadata": {
        "colab": {
          "base_uri": "https://localhost:8080/"
        },
        "id": "beae66",
        "outputId": "2586a4b3-f82f-40db-8ba2-c6c7c2fb5ddc",
        "scrolled": true
      },
      "outputs": [],
      "source": [
        "# Reflection about the equal superposition state\n",
        "\n",
        "# Wrap the all_zero_reflection kernel with hadamard gates applied to the n qubits\n",
        "@cudaq.kernel\n",
        "def reflection_about_xi(qubits : cudaq.qview, num_qubits : int):\n",
        "    h(qubits)\n",
        "    z.ctrl(qubits[0:num_qubits-1], qubits[num_qubits-1])\n",
        "    h(qubits)\n",
        "\n",
        "@cudaq.kernel\n",
        "def test_xi_reflection(num_qubits : int):\n",
        "    qubits = cudaq.qvector(num_qubits)\n",
        "    basis_state(qubits) # comment this line out to test the reflection on the equal superposition\n",
        "    #equal_superposition(qubits) # uncomment this line out to test the reflection on the equal superposition\n",
        "    reflection_about_xi(qubits, num_qubits)\n"
      ]
    },
    {
      "cell_type": "markdown",
      "metadata": {
        "collapsed": false,
        "id": "4c2c99"
      },
      "source": [
        "Now that we've defined $r_\\xi$, we're only left with defining $r_B$.  But we've actually already done that! Notice that the controlled-phase oracle that we discussed earlier has the effect of reflecting the state $\\ket{\\xi}$ over the state $\\ket{B}$, which is exactly what we need for $r_B$."
      ]
    },
    {
      "cell_type": "markdown",
      "metadata": {
        "collapsed": false,
        "id": "e342c8"
      },
      "source": [
        "#### Completing Step 3: Explanation and step\\-by\\-step example\n",
        "\n",
        "We are now able to realize the iterated operator in Grover's algorithm, which we will denote by $\\mathcal{G}$.\n",
        "\n",
        "$$\n",
        "\\mathcal{G} = r_\\xi \\circ r_B = H^{\\otimes n} \\big( 2|0^{\\otimes n} \\rangle \\langle 0^{\\otimes n}| - \\text{Id} \\big) H^{\\otimes n} \\mathcal{O}_f.\n",
        "$$\n",
        "The circuit diagram below puts together steps 1 through 3:\n",
        "\n",
        "![](https://github.com/NVIDIA/cuda-q-academic/blob/main//qis-examples/images/grovers-steps1-3.png?raw=true?)\n",
        "\n",
        "Running this circuit  initializes $\\ket{\\xi}$ and performs a rotation by $2\\theta$ \\(twice the angle between $|\\xi\\rangle$ and $|B\\rangle$\\) in the direction from $|B\\rangle$ to $|G\\rangle$.\n",
        "\n",
        "![](https://github.com/NVIDIA/cuda-q-academic/blob/main//qis-examples/images/grovers-full-rotation.png?raw=true?)\n",
        "\n",
        "Recall that in our example the state $\\ket{\\xi}$ is approximately $21^\\circ$ away from $\\ket{B}$. Let's verify that the state resulting from one iteration of Grover's algorithm is $90^\\circ\n",
        "-3\\theta\\approx 27^\\circ$ away from $\\ket{G}$.  Moreover, notice that the amplitudes of `1001` and `1111` in the resulting state have been amplified compared to the equal superposition of states."
      ]
    },
    {
      "cell_type": "code",
      "execution_count": 71,
      "metadata": {
        "colab": {
          "base_uri": "https://localhost:8080/",
          "height": 542
        },
        "id": "7875ce",
        "outputId": "c19ec55f-1a3a-4ca7-bcdd-cf0ff5844089"
      },
      "outputs": [
        {
          "name": "stdout",
          "output_type": "stream",
          "text": [
            "The resulting state is -0.12|0000> -0.12|0001> -0.12|0010> -0.12|0011> -0.12|0100> -0.12|0101> -0.12|0110> -0.12|0111> -0.12|1000> -0.62|1001> -0.12|1010> -0.12|1011> -0.12|1100> -0.12|1101> -0.12|1110> -0.62|1111> \n"
          ]
        },
        {
          "data": {
            "image/png": "[encoded data removed]",
            "text/plain": [
              "<Figure size 640x480 with 1 Axes>"
            ]
          },
          "metadata": {},
          "output_type": "display_data"
        },
        {
          "name": "stdout",
          "output_type": "stream",
          "text": [
            "The angle between the resulting state and the good state\n",
            " after one iteration of the circuit is  27.88556683609383\n"
          ]
        }
      ],
      "source": [
        "# Define the Grover diffusion operator\n",
        "\n",
        "@cudaq.kernel\n",
        "def diffusion_operator(qubits: cudaq.qview, num_qubits : int):\n",
        "\n",
        "    # Apply Hadamard gates\n",
        "    h(qubits)\n",
        "    # Apply rotation about the all zero state\n",
        "    all_zero_reflection(qubits, num_qubits)\n",
        "    # Apply Hadamard gates\n",
        "    h(qubits)\n",
        "\n",
        "num_qubits = 4\n",
        "\n",
        "# Create a kernel to carry out one iteration of the rotation gate sequence\n",
        "@cudaq.kernel\n",
        "def one_iteration(num_qubits: int):\n",
        "    qubits = cudaq.qvector(num_qubits)\n",
        "    \n",
        "    # Initialize qubits in an equal superposition state\n",
        "    equal_superposition(qubits)\n",
        "\n",
        "    # Apply the phase oracle once\n",
        "    phase_oracle(qubits)\n",
        "    # Apply one iteration of the diffusion operator\n",
        "    diffusion_operator(qubits, num_qubits)\n",
        "\n",
        "state = cudaq.get_state(one_iteration, num_qubits)\n",
        "print('The resulting state is', format_quantum_state(4, state))\n",
        "\n",
        "# sample\n",
        "sample_result = cudaq.sample(one_iteration, num_qubits, shots_count = 16000)\n",
        "\n",
        "# Plot the histogram of sampling results\n",
        "plot_results(sample_result, num_qubits)\n",
        "\n",
        "# Compute the angle between the resulting state and |G> from their dot product\n",
        "dot_product = 0\n",
        "for key in ['1001','1111']:\n",
        "    dot_product+=(1/np.sqrt(2))*(abs(state.amplitude(key).real))\n",
        "angle = np.arccos(dot_product)*180/np.pi\n",
        "print('The angle between the resulting state and the good state\\n after one iteration of the circuit is ',angle)\n"
      ]
    },
    {
      "cell_type": "markdown",
      "metadata": {
        "collapsed": false,
        "id": "2e33aeea-89f3-44ad-b929-aba05e7b67b1"
      },
      "source": [
        "### Steps 4 and 5: Iteration and measurement\n",
        "\n",
        "Depending on $n$ and the number of marked states $t$, one iteration of the gate sequence $\\mathcal{G}$ may not amplifiy the good states enough to distinguish them from the bad states.  However, iterating this sequence one more time will result in a vector $\\frac{\\pi}{2}-5\\theta$ radians away from the state $\\ket{G}$, further amplifying the good states.  We can repeat this until we are close enough to the good state.  But we have to be careful not to repeat this gate sequence too many times as we may overshoot the good state.  In this section we'll derive a formula that will tell us how many times we'll need to iterate the rotation gate sequence in Grover's algorithm.\n",
        "\n",
        "#### Steps 4 and 5: Explanation\n",
        "Since the initial angle between $|\\xi\\rangle$ and $|B\\rangle$ is $\\theta$, applying $\\mathcal{G}$ for $m$ times produces a vector\n",
        "\n",
        "$$\n",
        "\\mathcal{G}^{m} |\\xi\\rangle\n",
        "$$\n",
        "\n",
        "that forms an angle of $(2m+1)\\theta$ with $|B\\rangle$.\n",
        "\n",
        "Since the desired final state $|G\\rangle$ is at an angle of $\\frac{\\pi}{2}$ from $|B\\rangle$, we need:\n",
        "\n",
        "$$\n",
        "(2m+1)\\theta \\approx \\frac{\\pi}{2}.\n",
        "$$\n",
        "\n",
        "Recalling that\n",
        "\n",
        "$$\n",
        "\\theta = \\arcsin\\left(\\sqrt{\\frac{t}{N}}\\right),\n",
        "$$\n",
        "\n",
        "and using the small-angle approximation $\\sin(\\theta) \\approx \\theta$ for $\\theta \\ll 1$, we obtain:\n",
        "\n",
        "$$\n",
        "(2m+1) \\theta \\approx \\frac{\\pi}{2} \\quad \\Rightarrow \\quad m \\approx \\left\\lfloor \\frac{\\pi}{4\\theta} \\right\\rfloor = \\left\\lfloor \\frac{\\pi}{4} \\cdot \\sqrt{\\frac{N}{t}} \\right\\rfloor.\n",
        "$$\n",
        "\n",
        "Thus, after approximately\n",
        "\n",
        "$$\n",
        "m \\approx \\left\\lfloor \\frac{\\pi}{4} \\sqrt{\\frac{N}{t}} \\right\\rfloor\n",
        "$$\n",
        "\n",
        "iterations, the state is very close to $|G\\rangle$, ensuring that a measurement in the computational basis yields a solution with high probability.\n",
        "\n"
      ]
    },
    {
      "cell_type": "markdown",
      "metadata": {
        "collapsed": false,
        "id": "3152cf"
      },
      "source": [
        "#### Steps 4 and 5: Step\\-by\\-step example\n",
        "\n",
        "Edit the `num_iterations` variable in the code block below to compute the angle between the resulting state of `num_iterations` iterations of the Grover diffusion operator and the state $\\ket{G}$ along with the histogram of the resulting sampling distribution.  Edit the `num_iterations` variable value in the code block below.  Notice how increasing the number of iterations beyond a certain point produces states with lower probability amplitudes of the marked states than desired.  Why might this happen? What number of iterations results in a better chance of sampling a marked state? How does this compare from the number of iterations that are prescribed by the formula:\n",
        "$\n",
        "m \\approx \\left\\lfloor \\frac{\\pi}{4} \\sqrt{\\frac{N}{t}} \\right\\rfloor?\n",
        "$\n"
      ]
    },
    {
      "cell_type": "code",
      "execution_count": 72,
      "metadata": {
        "id": "a1e706",
        "outputId": "7100d369-23d2-4701-8112-d8cc64476fee"
      },
      "outputs": [
        {
          "name": "stdout",
          "output_type": "stream",
          "text": [
            "The resulting state is 0.25|0000> + 0.25|0001> + 0.25|0010> + 0.25|0011> + 0.25|0100> + 0.25|0101> + 0.25|0110> + 0.25|0111> + 0.25|1000> + 0.25|1001> + 0.25|1010> + 0.25|1011> + 0.25|1100> + 0.25|1101> + 0.25|1110> + 0.25|1111> \n"
          ]
        },
        {
          "data": {
            "image/png": "[encoded data removed]",
            "text/plain": [
              "<Figure size 640x480 with 1 Axes>"
            ]
          },
          "metadata": {},
          "output_type": "display_data"
        },
        {
          "name": "stdout",
          "output_type": "stream",
          "text": [
            "The angle between the resulting state and the good state\n",
            " after  0  iteration(s) of the circuit is  69.29518894536459\n"
          ]
        }
      ],
      "source": [
        "num_qubits = 4\n",
        "num_iterations = 0 # CHANGE ME to an integer between 0 and 10\n",
        "\n",
        "# Apply the Grover diffusion operation to the equal superposition state\n",
        "@cudaq.kernel\n",
        "def grovers(num_qubits: int, num_iterations : int):\n",
        "    qubits = cudaq.qvector(num_qubits)\n",
        "\n",
        "    # Initialize qubits in an equal superposition state\n",
        "    equal_superposition(qubits)\n",
        "\n",
        "    # Apply num_iteration iterations of the diffusion operator\n",
        "    for _ in range(num_iterations):\n",
        "        phase_oracle(qubits)\n",
        "        diffusion_operator(qubits, num_qubits)\n",
        "\n",
        "\n",
        "state = cudaq.get_state(grovers, num_qubits, num_iterations)\n",
        "print('The resulting state is', format_quantum_state(num_qubits, state))\n",
        "\n",
        "# sample\n",
        "sample_result = cudaq.sample(grovers, num_qubits, num_iterations, shots_count = 16000)\n",
        "\n",
        "# Plot the histogram of sampling results\n",
        "plot_results(sample_result, num_qubits)\n",
        "\n",
        "# Compute the angle between the resulting state and |G> from their dot product\n",
        "dot_product = 0\n",
        "for key in ['1001','1111']:\n",
        "    dot_product+=(1/np.sqrt(2))*(abs(state.amplitude(key).real))\n",
        "angle = np.arccos(dot_product)*180/np.pi\n",
        "print('The angle between the resulting state and the good state\\n after ',num_iterations,' iteration(s) of the circuit is ',angle)"
      ]
    },
    {
      "cell_type": "markdown",
      "metadata": {
        "collapsed": false,
        "id": "95ef7e47-bd2d-48fd-8b90-8bff70528f28"
      },
      "source": [
        "## Summary\n",
        "\n",
        "The steps of the algorithm can be summarized as follows.\n",
        "\n",
        "Step 1. Initialize the uniform superposition state:\n",
        "    $$\n",
        "    |\\xi\\rangle = H^{\\otimes n} |0^{\\otimes n}\\rangle,\n",
        "    $$\n",
        "    on the first $n$ qubits and initialize the auxilary qubit in the minus state.\n",
        "\n",
        " Steps 2, 3, and 4. Apply the rotation gate sequence exactly $m$ times, where:\n",
        "    $$\n",
        "    m \\approx \\left\\lfloor \\frac{\\pi}{4} \\sqrt{\\frac{N}{t}} \\right\\rfloor.\n",
        "    $$\n",
        " Step 5.   Sample the circuit with `shots_count=1`, obtaining a basis state $|j\\rangle$. Check whether $j$ is a solution by evaluating $f(j)$. If $f(j) = 1$, return $j$; otherwise, restart the algorithm.\n",
        "\n",
        "This procedure ensures that with high probability, the measurement yields a correct solution in approximately $\\mathcal{O}(\\sqrt{N/t})$ steps, providing a quadratic speedup over classical exhaustive search.\n",
        "\n"
      ]
    },
    {
      "cell_type": "markdown",
      "metadata": {
        "collapsed": false,
        "id": "1496a953-557b-435a-943d-36ab48c1ffef"
      },
      "source": [
        "One of the applications of Grover's algorithm is solving satisfiability (SAT) problems, which is critical in software verification. SAT, in general, is NP complete.  The exercise below is a toy example of a SAT problem that you can try to solve with Grover's algorithm to test your understanding.\n",
        "\n",
        "**EXERCISE.** Suppose Lewis wants to throw a party and invites Alice, the cat, and the rabbit. However, due to recent events in Wonderland, the following conditions must be met:\n",
        "\n",
        "1. Alice joins the party if and only if the cat also joins, and the rabbit does not.\n",
        "2. The rabbit will only participate if the cat is also present.\n",
        "3. The cat dislikes the rabbit’s company and will not come if the rabbit is there.\n",
        "\n",
        "It is easy to verify that the only valid arrangements satisfying these conditions are:\n",
        "\n",
        " <ul>\n",
        "  <li>no one attends the party;</li>\n",
        "  <li>Alice and the cat attend together.</li>\n",
        "</ul>\n",
        "\n",
        "**Solution.** We encode this problem using three bits: a bit value of $1$ indicates attendance, while $0$ indicates absence. Assigning the first bit to Alice, the second to the cat, and the third to the rabbit, we define a Boolean function $f: \\mathbb{B}^3 \\rightarrow \\{0,1\\}$ that marks valid solutions:\n",
        "\n",
        "$$\n",
        "f(000) = f(110) = 1, \\quad f(x) = 0 \\text{ otherwise}.\n",
        "$$\n",
        "\n",
        "Applying Grover's algorithm, we note that the total number of states is $N = 2^3 = 8$ and the number of solutions is $t = 2$. The superposition of solutions is given by\n",
        "$$\n",
        "|G\\rangle = \\frac{1}{\\sqrt{2}}(|000\\rangle + |110\\rangle),\n",
        "$$\n",
        "while the equal superposition of the remaining states is\n",
        "$$\n",
        "|B\\rangle = \\frac{1}{\\sqrt{8-2}}(|001\\rangle + |010\\rangle + |100\\rangle + |011\\rangle + |101\\rangle + |111\\rangle).\n",
        "$$\n",
        "\n",
        "As we have $N = 2^3 = 8$, the angle $\\theta$ satisfies:\n",
        "$$\n",
        "\\theta = \\arcsin\\left(\\sqrt{\\frac{t}{N}}\\right) = \\arcsin\\left(\\sqrt{\\frac{2}{8}}\\right) = \\arcsin\\left(\\frac{1}{2}\\right) = \\frac{\\pi}{6}.\n",
        "$$\n",
        "We solve for $m$:\n",
        "$$\n",
        "(2m+1)\\theta = \\frac{\\pi}{2} \\quad \\Rightarrow \\quad (2m+1)\\frac{\\pi}{6} = \\frac{\\pi}{2} \\quad \\Rightarrow \\quad 2m+1 = 3 \\quad \\Rightarrow \\quad m = 1.\n",
        "$$\n",
        "Thus, a single iteration of the Grover diffusion operator maps $|\\xi\\rangle$ exactly to $|G\\rangle$, ensuring that the subsequent measurement yields a valid solution with $100\\%$ probability!  \n",
        "\n",
        "Try writing the code for this.  In particular, you will need to create new code for the phase oracle."
      ]
    }
  ],
  "metadata": {
    "colab": {
      "provenance": []
    },
    "kernelspec": {
      "display_name": "Python 3",
      "language": "python",
      "name": "python3"
    },
    "language_info": {
      "codemirror_mode": {
        "name": "ipython",
        "version": 3
      },
      "file_extension": ".py",
      "mimetype": "text/x-python",
      "name": "python",
      "nbconvert_exporter": "python",
      "pygments_lexer": "ipython3",
      "version": "3.10.12"
    }
  },
  "nbformat": 4,
  "nbformat_minor": 0
}

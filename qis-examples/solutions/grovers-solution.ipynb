{
 "cells": [
  {
   "cell_type": "code",
   "execution_count": null,
   "id": "6288c060",
   "metadata": {
    "vscode": {
     "languageId": "plaintext"
    }
   },
   "outputs": [],
   "source": [
    "# SPDX-License-Identifier: Apache-2.0 AND CC-BY-NC-4.0\n",
    "#\n",
    "# Licensed under the Apache License, Version 2.0 (the \"License\");\n",
    "# you may not use this file except in compliance with the License.\n",
    "# You may obtain a copy of the License at\n",
    "#\n",
    "# http://www.apache.org/licenses/LICENSE-2.0\n",
    "#\n",
    "# Unless required by applicable law or agreed to in writing, software\n",
    "# distributed under the License is distributed on an \"AS IS\" BASIS,\n",
    "# WITHOUT WARRANTIES OR CONDITIONS OF ANY KIND, either express or implied.\n",
    "# See the License for the specific language governing permissions and\n",
    "# limitations under the License."
   ]
  },
  {
   "cell_type": "markdown",
   "id": "19999c98",
   "metadata": {},
   "source": [
    "These are solutions to exercises from the grovers.ipynb notebook."
   ]
  },
  {
   "cell_type": "code",
   "execution_count": null,
   "id": "cfba644a",
   "metadata": {
    "vscode": {
     "languageId": "plaintext"
    }
   },
   "outputs": [],
   "source": [
    "# EXERCISE 1 SOLUTION\n",
    "# Define U_9 so that U_9|1001> = -|1001> but fixes \n",
    "# all other computational basis states |x>\n",
    "\n",
    "# Set the number of qubits for the computational basis states\n",
    "num_qubits = 4\n",
    "\n",
    "@cudaq.kernel\n",
    "def U9(qubits: cudaq.qvector, aux_qubit: cudaq.qubit):\n",
    "    \n",
    "    x(qubits[1])\n",
    "    x(qubits[2])\n",
    "    z.ctrl(qubits, aux_qubit)\n",
    "    x(qubits[1])\n",
    "    x(qubits[2])\n",
    "    \n",
    "# Create a kernel to test our defintion of U9\n",
    "@cudaq.kernel\n",
    "def flip_phase_of_9_only(num_qubits : int):\n",
    "    qubits = cudaq.qvector(num_qubits)\n",
    "    aux_qubit = cudaq.qubit()\n",
    "    # Place the aux_qubit in the minus state\n",
    "    x(aux_qubit)\n",
    "    h(aux_qubit)\n",
    "    \n",
    "    # Initialize the the qubits in a state of equal superposition\n",
    "    equal_superposition(qubits)\n",
    "    \n",
    "    # Apply the U9 kernel\n",
    "    U9(qubits, aux_qubit)\n",
    "\n",
    "# Get the state of the flip_phase_of95_only kernel\n",
    "result_with_aux_qubit = cudaq.get_state(flip_phase_of_9_only,num_qubits)\n",
    "\n",
    "print('The phases of the computational basis states after an application of U9 are', check_phase(result_with_aux_qubit))"
   ]
  },
  {
   "cell_type": "code",
   "execution_count": null,
   "id": "315e6337",
   "metadata": {
    "vscode": {
     "languageId": "plaintext"
    }
   },
   "outputs": [],
   "source": [
    "# EXERCISE 2 SOLUTION\n",
    "# Define a phase oracle that flips the phase of both 1111 and 1001, fixing all other computational basis states\n",
    "# assuming that the aux_qubit is initialized in the minus state\n",
    "@cudaq.kernel\n",
    "def phase_oracle(qubits: cudaq.qvector, aux_qubit: cudaq.qubit):\n",
    "    U9(qubits, aux_qubit)\n",
    "    U15(qubits, aux_qubit)"
   ]
  },
  {
   "cell_type": "markdown",
   "id": "5bb7f5f9",
   "metadata": {},
   "source": [
    "**EXERCISE 3 SOLUTION** \n",
    "\n",
    "$$\n",
    "f(000) = f(110) = 1, \\quad f(x) = 0 \\text{ otherwise}.\n",
    "$$\n",
    "\n",
    "Applying Grover's algorithm, we note that the total number of states is $N = 2^3 = 8$ and the number of solutions is $t = 2$. The superposition of solutions is given by \n",
    "$$\n",
    "|G\\rangle = \\frac{1}{\\sqrt{2}}(|000\\rangle + |110\\rangle),\n",
    "$$\n",
    "while the equal superposition of the remaining states is \n",
    "$$\n",
    "|B\\rangle = \\frac{1}{\\sqrt{8-2}}(|001\\rangle + |010\\rangle + |100\\rangle + |011\\rangle + |101\\rangle + |111\\rangle).\n",
    "$$\n",
    "\n",
    "As we have $N = 2^3 = 8$, the angle $\\theta$ satisfies:\n",
    "$$\n",
    "\\theta = \\arcsin\\left(\\sqrt{\\frac{t}{N}}\\right) = \\arcsin\\left(\\sqrt{\\frac{2}{8}}\\right) = \\arcsin\\left(\\frac{1}{2}\\right) = \\frac{\\pi}{6}.\n",
    "$$\n",
    "We solve for $m$:\n",
    "$$\n",
    "(2m+1)\\theta = \\frac{\\pi}{2} \\quad \\Rightarrow \\quad (2m+1)\\frac{\\pi}{6} = \\frac{\\pi}{2} \\quad \\Rightarrow \\quad 2m+1 = 3 \\quad \\Rightarrow \\quad m = 1.\n",
    "$$\n",
    "Thus, a single iteration of the Grover diffusion operator maps $|\\xi\\rangle$ exactly to $|G\\rangle$, ensuring that the subsequent measurement yields a valid solution with $100\\%$ probability!  \n",
    "\n",
    "Try writing the code for this.  In particular, you will need to create new code for the phase oracle."
   ]
  }
 ],
 "metadata": {
  "language_info": {
   "name": "python"
  }
 },
 "nbformat": 4,
 "nbformat_minor": 5
}

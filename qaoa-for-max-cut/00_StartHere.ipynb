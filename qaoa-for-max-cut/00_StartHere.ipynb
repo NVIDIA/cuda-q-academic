{
  "cells": [
    {
      "cell_type": "code",
      "execution_count": null,
      "id": "2ebc2de7",
      "metadata": {
        "id": "2ebc2de7"
      },
      "outputs": [],
      "source": [
        "# SPDX-License-Identifier: Apache-2.0 AND CC-BY-NC-4.0\n",
        "#\n",
        "# Licensed under the Apache License, Version 2.0 (the \"License\");\n",
        "# you may not use this file except in compliance with the License.\n",
        "# You may obtain a copy of the License at\n",
        "#\n",
        "# http://www.apache.org/licenses/LICENSE-2.0\n",
        "#\n",
        "# Unless required by applicable law or agreed to in writing, software\n",
        "# distributed under the License is distributed on an \"AS IS\" BASIS,\n",
        "# WITHOUT WARRANTIES OR CONDITIONS OF ANY KIND, either express or implied.\n",
        "# See the License for the specific language governing permissions and\n",
        "# limitations under the License."
      ]
    },
    {
      "cell_type": "markdown",
      "id": "135f6e3e-e55f-4b5c-80cb-f8979bba94e0",
      "metadata": {
        "id": "135f6e3e-e55f-4b5c-80cb-f8979bba94e0"
      },
      "source": [
        "# Divide-and-Conquer Implementation of QAOA"
      ]
    },
    {
      "cell_type": "markdown",
      "id": "fd6bc9e4",
      "metadata": {
        "id": "fd6bc9e4"
      },
      "source": [
        "## 0.1 Introduction\n",
        "\n",
        " The Max Cut problem is an optimization problem defined as: *Given a graph $G$, find the maximum cut of $G$*, where the maximum cut (max cut) of a graph is defined to be a partitioning of the vertices into two disjoint sets so that the number of edges between the two partitions is maximized. The Max Cut problem is a [NP-hard problem](https://en.wikipedia.org/wiki/NP-hardness), and there is a rich body of research to develop classical and quantum algorithms to solve and/or approximate the max cut for large subclasses of graphs. Some of these algorithms fall under the divide-and-conquer paradigm. Divide and conquer breaks a large problem into smaller problems which are simple enough to be solved directly.  Additionally, this paradigm lends itself to parallel computation since the smaller problems can often be solved independently. Recently, this approach has been applied to the Quantum Approximation Optimization Algorithm (QAOA) for max cut ([arXiv:2205.11762v1](https://arxiv.org/abs/2205.11762), [arxiv.2101.07813v1](https://arxiv.org/abs/2101.07813), [arxiv:2304.03037v1](https://arxiv.org/abs/2304.03037), [arxiv:2009.06726](https://arxiv.org/abs/2009.06726), and [arxiv:2406:17383](https://arxiv.org/abs/2406.17383)). In the literature the divide-and-conquer approach to max cut with QAOA is sometimes referred to as QAOA-in-QAOA or $\\text{QAOA}^2$.  In this tutorial, we will introduce this algorithm and implement parallel computation with CUDA-Q.  \n",
        "\n",
        " This lab covers the basics necessary to understand more advanced topics such [ADAPT-QAOA](https://nvidia.github.io/cuda-quantum/latest/applications/python/adapt_qaoa.html),  [Adaptive Circuit Knitting](https://arxiv.org/pdf/2411.10406), and [QAOA-GPT](https://arxiv.org/pdf/2504.16350).\n",
        "\n",
        " This tutorial begins in Lab 1 with a demonstration of solving the Max Cut problem for a small graph with QAOA. To set the groundwork for the remaining labs, Lab 1 ends with a preview of the divide-and-conquer paradigm. In Lab 2, we walk through one level of the divide-and-conquer algorithm, and we follow that up in Lab 3 with the recursive implementation for much larger and denser graphs. Additionally in Labs 2 and 3, we experiment with running quantum circuits in parallel on GPUs. Finally, learners can take the assessment in Lab 4 in which they are challenged to approximate the weighted max cut problem.\n",
        "\n",
        "\n",
        "The learning objectives of this tutorial are:\n",
        "* Execute the QAOA algorithm to find approximate max cuts of a given graph using CUDA Quantum\n",
        "* Understand the limitations of the QAOA algorithm for solving max cut in the NISQ era\n",
        "* Apply QAOA to find an approximate solution to Quadratic Unconstrained Binary Optimization problems\n",
        "* Make various adjustments to the QAOA algorithm to improve results\n",
        "* Simulate quantum circuits in parallel on multiple GPUs to speed up overall run time using CUDA Quantum\n",
        "\n",
        "Pre-requisites:\n",
        "* Familiarity with Python with enough comfort to refer to Python package documentation, specifically [NetworkX](https://networkx.org/documentation/stable/tutorial.html), as needed\n",
        "* Completion of the [Quick Start to Quantum Computing](https://github.com/NVIDIA/cuda-q-academic/tree/main/quick-start-to-quantum) series or equivalent familiarity with variational quantum algorithms (e.g., VQE or QAOA)\n",
        "\n",
        "\n"
      ]
    },
    {
      "cell_type": "markdown",
      "id": "c26d2432",
      "metadata": {
        "id": "c26d2432"
      },
      "source": [
        "## 0.2 Getting Started with CUDA-Q\n",
        "\n"
      ]
    },
    {
      "cell_type": "markdown",
      "id": "48754d6e",
      "metadata": {
        "id": "48754d6e"
      },
      "source": [
        "The Jupyter notebooks in this folder are designed to run in an environment with CUDA-Q with Python.  For instructions on how to install CUDA-Q on your machine, check out this [guide](https://nvidia.github.io/cuda-quantum/latest/using/quick_start.html#install-cuda-q).  A Dockerfile and requirements.txt are also including in this folder to help get you set up.\n",
        "\n",
        "For links to run the notebooks in qBraid, CoCalc, or Google CoLab, please see the [READ_ME.md](https://github.com/NVIDIA/cuda-q-academic/blob/main/qaoa-for-max-cut/READ_ME.md) file in this directory."
      ]
    },
    {
      "cell_type": "markdown",
      "id": "nuZOuFv6xoGV",
      "metadata": {
        "id": "nuZOuFv6xoGV"
      },
      "source": [
        "## 0.3 Getting Started with Jupyter Notebooks\n",
        "\n",
        "For this hands-on tutorial, we will be using Jupyter notebooks. The notebooks, including this one, consist of a series of content and code **cells**.  To execute code in a code cell, press `Shift+Enter` or the \"Run\" button in the menu bar above, while a cell is highlighted. Sometimes, a content cell will get switched to editing mode. Pressing `Shift+Enter` will switch it back to a readable form.\n",
        "\n",
        "Try executing the simple print statement in the cell below."
      ]
    },
    {
      "cell_type": "code",
      "execution_count": null,
      "id": "ff8bdb97",
      "metadata": {
        "id": "ff8bdb97"
      },
      "outputs": [],
      "source": [
        "# Highlight this cell and click [Shift+Enter] to execute\n",
        "print('This is just a simple print statement')"
      ]
    },
    {
      "cell_type": "markdown",
      "id": "f8678c2c",
      "metadata": {
        "id": "f8678c2c"
      },
      "source": [
        "## 0.4 Hardware requirements"
      ]
    },
    {
      "cell_type": "markdown",
      "id": "91b8adbf",
      "metadata": {
        "id": "91b8adbf"
      },
      "source": [
        "Most of the code in the notebooks can be run on a CPU.  The last section on distributed computing in Lab 2 and Lab 3 requires a GPU.  Lab 4 also requires a GPU, but could be adapted to run on a CPU similar to the first part of Lab 3. If you have qBraid Lab credits, you can use them to start a GPU instance via their [Compute Manager](https://docs.qbraid.com/lab/user-guide/compute-manager) and run GPU-enabled code. If you have Google Colab credits, you can use them to run the GPU portion of the notebooks in Colab.  "
      ]
    },
    {
      "cell_type": "markdown",
      "id": "8f5710e4",
      "metadata": {
        "id": "8f5710e4"
      },
      "source": [
        "## 0.5 Next Steps\n",
        "\n",
        "Ready to make the cut? Open up the [Lab 1](01_Max-Cut-with-QAOA.ipynb) notebook!  "
      ]
    }
  ],
  "metadata": {
    "colab": {
      "include_colab_link": true,
      "provenance": []
    },
    "kernelspec": {
      "display_name": "Python 3 (ipykernel)",
      "language": "python",
      "name": "python3"
    },
    "language_info": {
      "codemirror_mode": {
        "name": "ipython",
        "version": 3
      },
      "file_extension": ".py",
      "mimetype": "text/x-python",
      "name": "python",
      "nbconvert_exporter": "python",
      "pygments_lexer": "ipython3",
      "version": "3.10.12"
    }
  },
  "nbformat": 4,
  "nbformat_minor": 5
}

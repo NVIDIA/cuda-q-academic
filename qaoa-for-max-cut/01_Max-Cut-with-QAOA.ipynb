{
  "cells": [
    {
      "cell_type": "code",
      "execution_count": null,
      "id": "eead95ce",
      "metadata": {
        "id": "eead95ce"
      },
      "outputs": [],
      "source": [
        "# SPDX-License-Identifier: Apache-2.0 AND CC-BY-NC-4.0\n",
        "#\n",
        "# Licensed under the Apache License, Version 2.0 (the \"License\");\n",
        "# you may not use this file except in compliance with the License.\n",
        "# You may obtain a copy of the License at\n",
        "#\n",
        "# http://www.apache.org/licenses/LICENSE-2.0\n",
        "#\n",
        "# Unless required by applicable law or agreed to in writing, software\n",
        "# distributed under the License is distributed on an \"AS IS\" BASIS,\n",
        "# WITHOUT WARRANTIES OR CONDITIONS OF ANY KIND, either express or implied.\n",
        "# See the License for the specific language governing permissions and\n",
        "# limitations under the License."
      ]
    },
    {
      "cell_type": "markdown",
      "id": "135f6e3e-e55f-4b5c-80cb-f8979bba94e0",
      "metadata": {
        "id": "135f6e3e-e55f-4b5c-80cb-f8979bba94e0"
      },
      "source": [
        "# Divide-and-Conquer Implementation of QAOA\n",
        "## Lab 1 - Overview: Max cut with QAOA on a small graph\n",
        "$\n",
        "\\renewcommand{\\ket}[1]{|{#1}\\rangle}\n",
        "\\renewcommand{\\bra}[1]{\\langle{#1}|}\n",
        "$\n",
        "This lab introduces the CUDA Quantum (CUDA-Q) platform through an example of a max cut problem solved with the QAOA (Quantum Approximate Optimization Algorithm). By the end of this lab, you will have reviewed the QAOA approach to a max cut problem, written quantum kernels with CUDA-Q, and simulated the QAOA for a max cut problem. Additionally, in preparation for Lab 2, you will have previewed the divide-and-conquer implementation of QAOA.  \n",
        "\n",
        "We assume the reader has some familiarity already with quantum computation and is comfortable with the concepts of qubits, quantum circuits, measurement, Hamiltonians, expectation values, and circuit sampling. Comprehensive references include Nielsen and Chuang's [Quantum Computation and Quantum Information](https://michaelnielsen.org/qcqi/QINFO-book-nielsen-and-chuang-toc-and-chapter1-nov00.pdf), Aaronson's [Intro to Quantum Information Science lecture notes](https://scottaaronson.blog/?p=3943), and [Lecture notes from a Quantum Computing course](https://arxiv.org/pdf/2311.08445) taught at Chalmers University of Technology. Good video series are Nielsen's [Quantum Computing for the Determined](https://www.youtube.com/playlist?list=PL1826E60FD05B44E4) and Ekert's [Introduction to Quantum Information Science](https://youtu.be/feixH-rXPVs?feature=shared) which accompanies the work-in-progress [Introduction to Quantum Information Science ebook](https://qubit.guide).\n",
        "\n",
        "The list below outlines what you'll be doing in each section of this lab:\n",
        "* **1.1** Define the Max Cut problem\n",
        "* **1.2** Experiment with a few NetworkX commands to visualize graphs\n",
        "* **1.3** Identify a max cut solution of the `sampleGraph` through a classical brute-force computation\n",
        "* **1.4** Review QAOA for Max Cut\n",
        "* **1.5** Implement QAOA using CUDA-Q\n",
        "* **1.6** Preview how to scale QAOA for larger graphs using divide-and-conquer QAOA\n",
        "\n",
        "Learning Objectives:\n",
        "* Apply CUDA-Q primitives such as `observe`, `sample`, and `vqe` to kernels\n",
        "* Construct CUDA-Q kernels with and without parameters using function decoration\n",
        "* Visualize the divide, conquer, and merge stage of the divide-and-conquer QAOA as it is applied to a small graph\n",
        "\n"
      ]
    },
    {
      "cell_type": "code",
      "execution_count": null,
      "id": "4bb3111e",
      "metadata": {
        "id": "4bb3111e"
      },
      "outputs": [],
      "source": [
        "# Instructions for Google Colab. You can ignore this cell if you have cuda-q set up.\n",
        "# Run this notebook in a CPU runtime\n",
        "# Uncomment the line below and execute the cell to install cuda-q\n",
        "# !pip install cudaq\n",
        "\n",
        "#!wget -q https://github.com/nvidia/cuda-q-academic/archive/refs/heads/main.zip\n",
        "#!unzip -q main.zip\n",
        "#!mv cuda-q-academic-main/qaoa-for-max-cut/images ./images"
      ]
    },
    {
      "cell_type": "markdown",
      "id": "b5046650",
      "metadata": {
        "id": "b5046650"
      },
      "source": [
        "Execute the cells below to load all the necessary packages for this lab."
      ]
    },
    {
      "cell_type": "code",
      "execution_count": null,
      "id": "2541cfd9",
      "metadata": {},
      "outputs": [],
      "source": [
        "# install `qutip` and `ipywidgets` in the current Python kernel. Skip this if they are already installed.\n",
        "# `matplotlib` is required for all visualization tasks.\n",
        "# Make sure to restart your kernel if you execute this!\n",
        "# In a Jupyter notebook, go to the menu bar > Kernel > Restart Kernel.\n",
        "# In VSCode, click on the Restart button in the Jupyter toolbar.\n",
        "\n",
        "# The '\\' before the '>' operator is so that the shell does not misunderstand\n",
        "# the '>' qualifier for the bash pipe operation.\n",
        "\n",
        "import sys\n",
        "\n",
        "try:\n",
        "    import matplotlib.pyplot as plt\n",
        "    import qutip\n",
        "    import ipywidgets as widgets\n",
        "\n",
        "except ImportError:\n",
        "    print(\"Tools not found, installing. Please restart your kernel after this is done.\")\n",
        "    !{sys.executable} -m pip install qutip\\>=5 matplotlib\\>=3.5\n",
        "    !{sys.executable} -m pip install ipywidgets\n",
        "    print(\"\\nNew libraries have been installed. Please restart your kernel!\")"
      ]
    },
    {
      "cell_type": "code",
      "execution_count": 1,
      "id": "644b9c82",
      "metadata": {
        "id": "644b9c82"
      },
      "outputs": [],
      "source": [
        "# Necessary packages\n",
        "\n",
        "import networkx as nx\n",
        "from networkx import algorithms\n",
        "from networkx.algorithms import community\n",
        "import cudaq\n",
        "from cudaq import spin\n",
        "from cudaq.qis import *\n",
        "import numpy as np\n",
        "import matplotlib.pyplot as plt\n",
        "from typing import List\n",
        "import ipywidgets as widgets\n",
        "from ipywidgets import interact"
      ]
    },
    {
      "cell_type": "markdown",
      "id": "c2fa8e57-2f20-4d1b-a8c1-a8291da83fdc",
      "metadata": {
        "id": "c2fa8e57-2f20-4d1b-a8c1-a8291da83fdc"
      },
      "source": [
        "## 1.1 Max Cut\n",
        "\n",
        "If you prefer a video introduction to the material, please execute the cell below to view the video. Otherwise, feel free to skip to the next markdown block to read through the introduction to the max cut problem."
      ]
    },
    {
      "cell_type": "code",
      "execution_count": null,
      "id": "3d3e3118-aaba-4c36-9bfb-21115d1050cb",
      "metadata": {
        "id": "3d3e3118-aaba-4c36-9bfb-21115d1050cb",
        "outputId": "b1069913-df21-471b-f3cb-0eac0af0fa6a"
      },
      "outputs": [
        {
          "data": {
            "text/html": [
              "\n",
              "<video controls width=\"640\" height=\"360\">\n",
              "    <source src=\"https://d36m44n9vdbmda.cloudfront.net/assets/x-ac-13-v1/max-cut-with-CUDA-Quantum-Lab-1-Part-1.mp4\" type=\"video/mp4\">\n",
              "    Your browser does not support the video tag.\n",
              "</video>\n"
            ],
            "text/plain": [
              "<IPython.core.display.HTML object>"
            ]
          },
          "metadata": {},
          "output_type": "display_data"
        }
      ],
      "source": [
        "from IPython.display import HTML\n",
        "\n",
        "video_url = \"https://d36m44n9vdbmda.cloudfront.net/assets/x-ac-13-v1/max-cut-with-CUDA-Quantum-Lab-1-Part-1.mp4\"\n",
        "\n",
        "video_html = f\"\"\"\n",
        "<video controls width=\"640\" height=\"360\">\n",
        "    <source src=\"{video_url}\" type=\"video/mp4\">\n",
        "    Your browser does not support the video tag.\n",
        "</video>\n",
        "\"\"\"\n",
        "\n",
        "display(HTML(video_html))"
      ]
    },
    {
      "cell_type": "markdown",
      "id": "65e19333",
      "metadata": {
        "id": "65e19333"
      },
      "source": [
        "[Max Cut](https://en.wikipedia.org/wiki/Maximum_cut) is the problem of finding a partition of a graph's nodes into two sets which maximizes the edges between the two sets. There is also a weighted version of this problem which we will explore in [Lab 4](4_Assessment.ipynb). Although this problem is relatively easy to solve for graphs with few vertices, this problem is [NP-hard](https://en.wikipedia.org/wiki/NP-hardness#:~:text=7%20References-,Definition,complete%20problem%20G%20to%20H.). The max cut problem has a wide range of applications including [machine learning](https://jmlr.org/papers/volume14/wang13a/wang13a.pdf), [circuit design](https://math.mit.edu/research/highschool/primes/materials/2020/Hong-Lee-Wei.pdf) and [statistical physics](https://www.researchgate.net/publication/262162554_An_Application_of_Combinatorial_Optimization_to_Statistical_Physics_and_Circuit_Layout_Design), among others. Furthermore, the QAOA algorithm presented in this tutorial can be adapted to other related optimization problems with an even wider application field including [portfolio optimization](https://journals.aps.org/prresearch/pdf/10.1103/PhysRevResearch.4.043204) and [job shop scheduling](https://www.sciencedirect.com/science/article/pii/S0377221723002072), just to name a few.\n",
        "\n",
        "**Notation:** We take the convention that $G=(V,E)$ represents a graph with vertex set $V\\subseteq \\mathbb{N}$ and edge set $E\\subseteq V\\times V$. We use the terms vertex and node interchangeably.  For this tutorial we assume that the graphs are undirected (that is, $(u,v)$ and $(v,u)$ represent the same edge). Our graphs contain no self loops (i.e., for every vertex $v$, there is no edge $(v,v)$). A *cut* of the graph $G$ is a partition, $(V_0,V_1)$, of the vertex set such that every vertex of $V$ is a member of exactly one of $V_0$ or $V_1$ (i.e., $V_0\\bigcup V_1 = V$ and $V_0\\bigcap V_1=\\emptyset$). The *cut value* for a partition is the sum of the edges with one node in $V_0$ and one node in $V_1$.\n",
        "\n",
        "In the images below, we illustrate two cuts of a graph with the dotted lines. Each of these cuts partitions the graph into two disjoint sets. The cut on the left is not optimal, and the cut on the right is the max cut. The cut on the left divides the graph into disjoint sets $\\{1,2\\}$ and $\\{0,3,4\\}$, and that cut contains 3 edges. To more easily visualize the cut, we have colored the vertices in one set of the partition green and the vertices in the other set of the partition gray.\n",
        "The cut depicted in the diagram on the right divides the graph vertices into two disjoint sets $V_0=\\{0,2\\}$, colored gray, and $V_1=\\{1,3,4\\}$, colored green. The number of edges connecting vertices in the distinct sets is computed by $$\\sum_{\\substack{u \\in V_0; v\\in V_1\\\\ (u,v) \\in E}}1.$$ For the graph on the right, the number of edges in the cut (in this case there are $5$ edges) is maximal, and this value is referred to as the *max cut value*. The partitioning $(V_0,V_1)$  &mdash; and sometimes the set of edges connecting vertices in $V_0$ and $V_1$  &mdash; is referred to as a *max cut of a graph*. Note that the max cut of a graph need not be unique; that is, two distinct partitions may produce the same cut value.\n",
        "\n",
        "![](https://github.com/NVIDIA/cuda-q-academic/blob/main/qaoa-for-max-cut/images/max-cut-illustration.png?raw=true)\n",
        "\n",
        "Just as it was helpful for visualizing the partitions above, it will be helpful in this tutorial to view a solution of the max cut problem as a $2$-coloring (or a labeling) of the vertices of the graph where all nodes in $V_0$ are colored gray (or $0$) and all nodes in $V_1$ are colored green (or $1$).  Note that we make no requirements other than all nodes receive a color. In particular we do not require that adjacent vertices have distinct colors.  The coloring solely codes the partitioning of the set of vertices.\n",
        "\n",
        "As we encode the max cut problem with CUDA-Q, we will eventually use bitstrings to represent the colors of the vertices in a cut. For example using the ordering of the vertices, the bitstring `01100` captures the partition in the image above on the left with vertices $1$ and $2$ in $V_1$, and the bitstring `01011` codes the partition in the image on the right with vertices $1$, $3$, and $4$ in $V_1$.\n"
      ]
    },
    {
      "cell_type": "markdown",
      "id": "8e92e9ec",
      "metadata": {
        "id": "8e92e9ec"
      },
      "source": [
        "## 1.2 Defining a graph\n",
        "For the remainder of this lab, we will work with the graph coded in the cell below and will refer to it as `sampleGraph`. We will be using the [NetworkX library](https://networkx.org/documentation/stable/tutorial.html) for the graphs in this tutorial. Please read through the cell below to familiarize yourself with some of the commands in the NetworkX library used in this tutorial."
      ]
    },
    {
      "cell_type": "code",
      "execution_count": 2,
      "id": "f739b12d",
      "metadata": {
        "id": "f739b12d",
        "outputId": "8c027d57-3145-40aa-8d8a-a9913b869195"
      },
      "outputs": [
        {
          "name": "stdout",
          "output_type": "stream",
          "text": [
            "The graph has 7 nodes and 8 edges.\n"
          ]
        },
        {
          "data": {
            "image/png": "[encoded data removed]",
            "text/plain": [
              "<Figure size 640x480 with 1 Axes>"
            ]
          },
          "metadata": {},
          "output_type": "display_data"
        }
      ],
      "source": [
        "# Define a small graph that will be used throughout the Lab 1\n",
        "# We'll refer to this graph as sampleGraph throughout the lab.\n",
        "edgeList = [(0,1),(1,2),(2,0),(0,4),(4,5),(5,3),(4,3), (3,6)]\n",
        "sampleGraph =nx.from_edgelist(edgeList)\n",
        "\n",
        "# We will be adding several attributes to our graph such as colors for the nodes\n",
        "# and later in Lab 4, weights for the edges.\n",
        "# This call sets the color of all nodes of the sampleGraph to 0:\n",
        "nx.set_node_attributes(sampleGraph, values = 0, name = 'color')\n",
        "\n",
        "# We can set or change node colors individually. For instance, let's change the\n",
        "# color of the node 4 from 0 to 1:\n",
        "sampleGraph.nodes[4]['color'] = 1\n",
        "\n",
        "# These commands are helpful to list the nodes and edges of a graph and to compute the total\n",
        "# number of vertices and edges of a graph. We separate out the edges of the graph into two\n",
        "# lists (source and target) so that we can pass edges to the cudaq.kernels\n",
        "node_List : List[int] = list(sampleGraph.nodes())\n",
        "edges_in_graph = list(sampleGraph.edges()) #a list of ordered pairs of vertices representing the edges\n",
        "print('The graph has',sampleGraph.number_of_nodes(),'nodes and', sampleGraph.number_of_edges(), 'edges.')\n",
        "\n",
        "# Next for small graphs, it is sometimes helpful to visualize them and to color code the nodes.\n",
        "# Set color codes for green and grey and assign gray to the nodes with color attribute 0\n",
        "# and green to nodes with color attribute 1.\n",
        "gray ='#8C8C8C'\n",
        "green ='#76B900'\n",
        "color_map = [gray if sampleGraph.nodes[u]['color']==0 else green for u in sampleGraph]\n",
        "\n",
        "# Finally, we can plot the graph.\n",
        "# Set the position of the nodes so that the graphs is easily recognizable each time it's plotted.\n",
        "pos = nx.spring_layout(sampleGraph, seed=311)\n",
        "# Plot the graph with nodes labeled with their name and colored gray for 0 and green for 1.\n",
        "nx.draw(sampleGraph, with_labels=True, pos = pos, node_color=color_map)\n",
        "plt.show()"
      ]
    },
    {
      "cell_type": "markdown",
      "id": "ea05f889",
      "metadata": {
        "id": "ea05f889"
      },
      "source": [
        "Notice that the coloring above induces a cut with edges $(3,4)$, $(4,5)$, and $(0,4)$. This is not a maximal cut of this graph. The aim of this lab is to use QAOA to find a maximal cut."
      ]
    },
    {
      "cell_type": "code",
      "execution_count": 3,
      "id": "423c77c7",
      "metadata": {
        "id": "423c77c7"
      },
      "outputs": [],
      "source": [
        "# Since the coloring of the graph above was for demonstration purposes, we'll reset all the node\n",
        "# colors to be 0 as a default. The only node color that needs to be reset is node 4.\n",
        "sampleGraph.nodes[4]['color'] = 0"
      ]
    },
    {
      "cell_type": "markdown",
      "id": "25644ee9",
      "metadata": {
        "id": "25644ee9"
      },
      "source": [
        "## 1.3 Classical solutions to Max Cut\n",
        "\n",
        "For our small graph with seven vertices, there are only $2^7 = 128$ different choices of the partition sets $V_0$ and $V_1$. In fact, there are only $\\frac{2^7}{2} = 64$ distinct partitions since the partition $V_0=W$, $V_1=V\\backslash W$ is equivalent to the partition $V_0 = V\\backslash W$, $V_1= W$ for any subset $W$ of $V$. Our graph is small enough that we can, by brute force, check every single partition to find the max cut.\n",
        "\n",
        "Exercise:  Complete the code block below to find the max cut solution to the `sampleGraph` via brute-force computation. We won't worry about double checking the cut values of partitions $(W, V\\backslash W)$ and $(V\\backslash W, W)$. For this exercise, compute the cut values for each partition of vertices by replacing `FIX_ME` with selections of the following:\n",
        "* `sampleGraph.nodes()`\n",
        "* `sampleGraph.edges()`\n",
        "* `subset_cut_value > max_cut_value`\n",
        "* `u not in V0`\n",
        "\n",
        "If you get stuck, you can click on the triple dots below to view the solution."
      ]
    },
    {
      "cell_type": "code",
      "execution_count": null,
      "id": "e13bdb6e",
      "metadata": {
        "id": "e13bdb6e"
      },
      "outputs": [],
      "source": [
        "# Create a list of all the subsets of vertices of sampleGraph\n",
        "subsets = [[]]\n",
        "for u in FIX_ME: # Iterate through the vertices of the sampleGraph\n",
        "    for i in range(len(subsets)):\n",
        "        subsets += [subsets[i]+[u]]\n",
        "\n",
        "\n",
        "# Cycle through the subsets and compute the cut value for each partition\n",
        "# While doing these computations, identify the max cut of the sampleGraph by\n",
        "# storing the best cut value and cut edges found so far and the corresponding subset\n",
        "max_cut_value = 0\n",
        "max_cut_edges = []\n",
        "for subset in subsets:\n",
        "    subset_cut_value = 0\n",
        "    subset_cut_edges = []\n",
        "    for u,v in FIX_ME: # the max cut depends only on pairs of vertices that are connected by an edge\n",
        "        if ((u in subset) and (v not in subset)) or ((v in subset) and (u not in subset)):\n",
        "            subset_cut_value+=1\n",
        "            subset_cut_edges.append((u,v))\n",
        "    if FIX_ME:\n",
        "        max_cut_value = subset_cut_value\n",
        "        max_cut_edges = subset_cut_edges\n",
        "        V0 = subset # set corresponding to the best cut found so far\n",
        "\n",
        "\n",
        "# Find the complement of V0\n",
        "V1 = []\n",
        "for FIX_ME:\n",
        "    if FIX_ME:\n",
        "        V1.append(u)\n",
        "\n",
        "print('The',max_cut_value,'edges that make up a max cut of sampleGraph are',max_cut_edges)\n",
        "print('The lists',V0,'and',V1,'partition the sampleGraph into a the max cut.' )"
      ]
    },
    {
      "cell_type": "code",
      "execution_count": null,
      "id": "e117de89",
      "metadata": {
        "id": "e117de89",
        "jupyter": {
          "source_hidden": true
        },
        "outputId": "1e66faf6-0529-4353-d0d0-94238b7011d0",
        "scrolled": true
      },
      "outputs": [],
      "source": [
        "# Solution\n",
        "\n",
        "# Create a list of all the subsets of vertices of sampleGraph\n",
        "subsets = [[]]\n",
        "for u in sampleGraph.nodes():\n",
        "    for i in range(len(subsets)):\n",
        "        subsets += [subsets[i]+[u]]\n",
        "\n",
        "\n",
        "# Cycle through the subsets to identify the max cut of the sampleGraph\n",
        "\n",
        "max_cut_value = 0\n",
        "max_cut_edges = []\n",
        "for subset in subsets:\n",
        "    subset_cut_value = 0\n",
        "    subset_cut_edges = []\n",
        "    for u,v in sampleGraph.edges():\n",
        "        if ((u in subset) and (v not in subset)) or ((v in subset) and (u not in subset)):\n",
        "            subset_cut_value+=1\n",
        "            subset_cut_edges.append((u,v))\n",
        "    if subset_cut_value > max_cut_value:\n",
        "        max_cut_value = subset_cut_value\n",
        "        max_cut_edges = subset_cut_edges\n",
        "        V0 = subset\n",
        "\n",
        "\n",
        "# Find the complement of V0\n",
        "V1 = []\n",
        "for u in sampleGraph.nodes():\n",
        "    if u not in V0:\n",
        "        V1.append(u)\n",
        "\n",
        "print('The',max_cut_value,'edges that make up a max cut of sampleGraph are',max_cut_edges)\n",
        "print('The lists',V0,'and',V1,'partition the sampleGraph into a the max cut.' )"
      ]
    },
    {
      "cell_type": "markdown",
      "id": "faa2b478",
      "metadata": {
        "id": "faa2b478"
      },
      "source": [
        "## 1.4 Quantum Approximation Optimization Algorithm (QAOA) for Max Cut"
      ]
    },
    {
      "cell_type": "code",
      "execution_count": null,
      "id": "d9b1a528-afe1-4c1b-86ae-9f5438ae642e",
      "metadata": {
        "id": "d9b1a528-afe1-4c1b-86ae-9f5438ae642e",
        "jupyter": {
          "source_hidden": true
        },
        "outputId": "fedb6018-4bc4-4a6a-a212-e1e88ffbd45e"
      },
      "outputs": [
        {
          "data": {
            "text/html": [
              "\n",
              "<video controls width=\"640\" height=\"360\">\n",
              "    <source src=\"https://d36m44n9vdbmda.cloudfront.net/assets/x-ac-13-v1/max-cut-with-CUDA-Quantum-Lab-1-Part-2.mp4\" type=\"video/mp4\">\n",
              "    Your browser does not support the video tag.\n",
              "</video>\n"
            ],
            "text/plain": [
              "<IPython.core.display.HTML object>"
            ]
          },
          "metadata": {},
          "output_type": "display_data"
        }
      ],
      "source": [
        "# Execute this cell to view a video presentation of section 1.4.1\n",
        "\n",
        "from IPython.display import HTML\n",
        "\n",
        "video_url = \"https://d36m44n9vdbmda.cloudfront.net/assets/x-ac-13-v1/max-cut-with-CUDA-Quantum-Lab-1-Part-2.mp4\"\n",
        "\n",
        "video_html = f\"\"\"\n",
        "<video controls width=\"640\" height=\"360\">\n",
        "    <source src=\"{video_url}\" type=\"video/mp4\">\n",
        "    Your browser does not support the video tag.\n",
        "</video>\n",
        "\"\"\"\n",
        "\n",
        "display(HTML(video_html))"
      ]
    },
    {
      "cell_type": "markdown",
      "id": "9852e6f8",
      "metadata": {
        "id": "9852e6f8"
      },
      "source": [
        "### 1.4.1 Quadratic Unconstrained Binary Optimization (QUBO) Formualtion of Max Cut\n",
        "Since there are $2^{|V|}$ many distinct $2$-colorings of the graph, and $2^{|V|-1}$ distinct cuts of the graph, the brute-force approach to check every coloring of the graph is not scalable to large graphs.  There are several classical algorithms that perform better than the brute-force approach on certain subclasses of graphs, and there are heuristic algorithms that give good approximations to the max cut rather quickly. For a review of many of the classical approaches to max cut, check out [this paper](https://dl.acm.org/doi/full/10.1145/3609426?casa_token=ZrJI6LlgDHAAAAAA%3AhuO3qe07eG0kXdWEvKY4Xv7kIDpWXpe5SAr-zB9KVzOe3nHnTSE-zqqwbbhN_syDdfrASv8xGmv29sk) and [this one](https://optimization-online.org/wp-content/uploads/2015/05/4895.pdf). In this tutorial, we will be exploring a quantum heuristic algorithm for identifying good (but perhaps not maximal) cuts of graphs.  More specifically, we begin with QAOA (Quantum Approximate Optimization Algorithm) and then explore a [divide-and-conquer implementation of QAOA](https://arxiv.org/abs/2205.11762), which is one of [many adaptations of QAOA](https://arxiv.org/pdf/2306.09198.pdf).\n",
        "\n",
        "In order to employ quantum algorithms, it is helpful to reframe the max cut problem as a quadratic unconstrained binary optimization (QUBO) problem.  Suppose that we have a graph $G=(V,E)$.  We can code a partition $(V_0, V_1)$ of $V$ by defining for each $v\\in V$, a variable $x_v$ so that $x_v = 0$ if vertex $v\\in V_0$ and $x_v =1 $ if $v\\in V_1$. (Another way of thinking about this is that $x_v$ represents the coloring of a vertex $v$ as 0 or 1 depending on whether $v$ is a member of $V_0$ or $V_1$.)  The max cut problem then can be restated as finding an assignment to the variables $\\bar{x} = [x_v\\mid v\\in V]$ so that the function $$C(\\bar{x}) = \\sum_{(u,v)\\in E}(x_u+x_v-2x_u x_v)$$ is maximized.  \n",
        "\n",
        "Let's walk through the formula above to observe that $C(\\bar{x})$ computes the cut value of the graph for the partition coded by $\\bar{x}$. For example, notice that if $(u,v)$ were an edge and we assigned $0$ to $x_u $ and $1$ to $x_v$, this edge would be in the cut given by the partition. Furthermore, the value of the term ($x_u+x_v-2x_ux_v$) associated with this edge in the equation $C(\\bar{x})$ would be $0+1-2*0*1 = 1$.  Take a minute to consider what happens to the term associated with $(u,v)$ in the equation for $C(\\bar{x})$ if $x_u$ and $x_v$ were both assigned 1 (and therefore, the edge between them would not be in the cut). Is the result what you expected?\n",
        "\n",
        "QUBO problems have a natural translation to Ising Hamilitonian problems (see for instance [this article](https://arxiv.org/pdf/1811.11538.pdf)). This translation is carried out by mapping the binary $(0,1)$-variables $x_v$ to variables $z_v$ that take on the values $-1$ and $1$. Take a moment to verify that by assigning $-1$ and $1$ to identify a cut of a graph, the equation below computes the cut value for that cut: $$C(\\bar z) = \\frac{1}{2} \\sum_{(u,v)\\in E} (1-z_uz_v).$$ Take for instance an edge $(u,v)$ with the assignments $z_u=z_v=1$. This edge would not be in the cut determined by these variable assignments.  The term in the equation above associated with this edge would be $\\frac{1}{2}(1-z_uz_v) = \\frac{1}{2}(1-1*1) = 0$ and would not contribute to the cut edge count.  Verify that the assignment $z_u=1$ and $z_v=-1$ and the assignment $z_u=z_v=-1$ both produce the result you would expect for $C(\\bar z)$ to compute the cut value.\n",
        "\n",
        "Notice that if we multiply $C(\\bar z)$ by -1, we can reframe the optimization problem from maximization to minimization.  Furthermore, we can promote this equation to a matrix equation by replacing $z_uz_v-1$ with the Pauli-Z operator acting on qubits associated with nodes $u$ and $v$, respectively, and replacing 1 with the identity matrix. This leads to the reformulation of the problem from one of maximizing $C(\\bar{z})$ to one of minimizing the eigenvalues of $$H= \\frac{1}{2}\\sum_{(u,v)\\in E} (Z_uZ_v-II).$$  \n",
        "\n",
        "\n"
      ]
    },
    {
      "cell_type": "markdown",
      "id": "0b7005fc-276e-468d-89aa-8227bd397219",
      "metadata": {
        "id": "0b7005fc-276e-468d-89aa-8227bd397219"
      },
      "source": [
        "### 1.4.2 QAOA\n"
      ]
    },
    {
      "cell_type": "code",
      "execution_count": null,
      "id": "8aaa40a2-bc65-4ef5-9cc1-8d65fe6bc581",
      "metadata": {
        "id": "8aaa40a2-bc65-4ef5-9cc1-8d65fe6bc581",
        "jupyter": {
          "source_hidden": true
        },
        "outputId": "28ee10cf-1f47-49a6-f744-c1ab521c074e"
      },
      "outputs": [
        {
          "data": {
            "text/html": [
              "\n",
              "<video controls width=\"640\" height=\"360\">\n",
              "    <source src=\"https://d36m44n9vdbmda.cloudfront.net/assets/x-ac-13-v1/max-cut-with-CUDA-Quantum-Lab-1-Part-3.mp4\" type=\"video/mp4\">\n",
              "    Your browser does not support the video tag.\n",
              "</video>\n"
            ],
            "text/plain": [
              "<IPython.core.display.HTML object>"
            ]
          },
          "metadata": {},
          "output_type": "display_data"
        }
      ],
      "source": [
        "# Execute this cell to watch an overview of QAOA.\n",
        "from IPython.display import HTML\n",
        "\n",
        "video_url = \"https://d36m44n9vdbmda.cloudfront.net/assets/x-ac-13-v1/max-cut-with-CUDA-Quantum-Lab-1-Part-3.mp4\"\n",
        "\n",
        "video_html = f\"\"\"\n",
        "<video controls width=\"640\" height=\"360\">\n",
        "    <source src=\"{video_url}\" type=\"video/mp4\">\n",
        "    Your browser does not support the video tag.\n",
        "</video>\n",
        "\"\"\"\n",
        "\n",
        "display(HTML(video_html))"
      ]
    },
    {
      "cell_type": "markdown",
      "id": "d7ef5367",
      "metadata": {
        "id": "d7ef5367"
      },
      "source": [
        "In this section, we will describe the Quantum Approximate Optimization Algorithm (QAOA) for solving the Max Cut problem. [Farhi et al.](https://arxiv.org/pdf/1411.4028) (2014) originally introduced QAOA to tackle optimization problems like Max Cut. More recent research by [Farhi et al.](https://arxiv.org/pdf/2503.12789) (2025) have shown that QAOA can establish lower bounds on the maximum cut achievable in high girth 3-regular graphs, surpassing previously known bounds. This study indicates that QAOA can guarantee the existence of such cuts through classical numerical analysis, suggesting an exponential speedup over the best known classical algorithms for finding cuts of this size on graphs of this girth.\n",
        "\n",
        "In essence, QAOA is a variational algorithm composed of a variational quantum circuit (a kernel dependent on a set of parameter values) and a classical optimizer. The goal of QAOA is to use the classical optimizer to identify parameter values that generate a quantum circuit whose expectation value for a given cost Hamiltonian is minimized. In our case, the cost Hamiltonian will be as defined in the previous section.\n",
        "\n",
        "The diagram below depicts the subroutines in QAOA.\n",
        "\n",
        "![](https://github.com/NVIDIA/cuda-q-academic/blob/main/qaoa-for-max-cut/images/QAOA-flowchart.png?raw=true)\n",
        "\n",
        "The two green process blocks in the image above represent the quantum subroutines that we'll execute with CUDA-Q primitives. The green process block on the left will use the `observe` primitive to estimate the expectation value (this primitive is subsumed in a `vqe` call) and the green process on the right will use the `sample` primitive to identify the most probable outcome of the circuit. We'll describe how to program this entire flowchart using CUDA-Q in the following sections.\n"
      ]
    },
    {
      "cell_type": "markdown",
      "id": "349090cb",
      "metadata": {
        "id": "349090cb"
      },
      "source": [
        "## 1.5 CUDA-Q Implementation of QAOA for Max Cut\n",
        "\n",
        "This section starts with a brief review of CUDA-Q syntax. From there, we can define a function to carry out QAOA by creating several helper functions for the problem Hamiltonian, QAOA kernel, etc. If you'd like to treat the QAOA algorithm as a black box, you can jump to section 1.5.6 where we pull everything together and demonstrate how to simulate the kernel on a GPU. However, understanding the code below is necessary for the remainder of the labs."
      ]
    },
    {
      "cell_type": "markdown",
      "id": "433a29f4",
      "metadata": {
        "id": "433a29f4"
      },
      "source": [
        "### 1.5.1 CUDA-Q Basics\n",
        "\n",
        "Before implementing QAOA in CUDA-Q, let's run through [two quick examples](https://nvidia.github.io/cuda-quantum/latest/using/basics/build_kernel.html) highlighting most of the syntax that we will need.  The first thing to note is that we will sometimes refer to quantum circuits as kernels.  While every quantum circuit is a kernel, kernels need not be quantum circuits. CUDA-Q kernels allow for the creation of generic quantum programs that can be compiled and executed on various devices. They provide better interplatform compatability and control flow. We will see some more general quantum kernels towards the end of this lab, but for now you can think of a kernel as a quantum circuit.\n",
        "\n",
        "There are two main primitives common in most quantum algorithms: sampling a circuit to approximate the probability distribution of the state and computing expectation values given a circuit and Hamiltonian. As an introduction to CUDA-Q, we provide two short examples of these routines below.\n",
        "\n",
        "The first example in the code block below demonstrates how to\n",
        "1. select a backend for kernel execution or simulation\n",
        "2. define the kernel which involves initializing the quantum kernel and allocating qubits, applying gates to the kernel (in this case we'll create a 2-qubit [GHZ state](https://en.wikipedia.org/wiki/Greenberger–Horne–Zeilinger_state)), and measuring the state\n",
        "3. sample the outcomes.\n",
        "\n",
        "We will be using CPUs to simulate quantum kernels throughout this tutorial. In other notebooks, we'll discuss how to change the target to access GPUs. While it is easy to switch to a quantum processor, by simply changing the target (refer to [this guide](https://nvidia.github.io/cuda-quantum/latest/using/hardware.html) for more details), there are some differences between how the code is implemented behind the scenes. In simulation mode, the quantum state is built once and then sampled `shots_count` many times. In quantum hardware execution mode, the quantum state collapses upon measurement and hence needs to be rebuilt over and over again.\n",
        "\n",
        "For the example below, we expect to see about 50% of the outcomes to be the `00` state and about 50% to be in the `11` state.  "
      ]
    },
    {
      "cell_type": "code",
      "execution_count": null,
      "id": "7b4adce4",
      "metadata": {
        "id": "7b4adce4",
        "outputId": "dd72f30c-3570-4587-ad6e-60ef3fc8d877"
      },
      "outputs": [
        {
          "name": "stdout",
          "output_type": "stream",
          "text": [
            "{ 00:489 11:511 }\n",
            "\n"
          ]
        }
      ],
      "source": [
        "# Example 1\n",
        "\n",
        "\n",
        "##############################################################\n",
        "#  1. Select a backend for kernel execution\n",
        "cudaq.set_target(\"qpp-cpu\")\n",
        "##############################################################\n",
        "\n",
        "##############################################################\n",
        "# 2. Define a kernel function\n",
        "@cudaq.kernel\n",
        "def kernel(qubit_count: int):\n",
        "    # Allocate our `qubit_count` to the kernel.\n",
        "    qvector = cudaq.qvector(qubit_count)\n",
        "\n",
        "    # Apply a Hadamard gate to the qubit indexed by 0.\n",
        "    h(qvector[0])\n",
        "    # Apply a Controlled-X gate between qubit 0 (acting as the control)\n",
        "    # and each of the remaining qubits.\n",
        "    for i in range(1, qubit_count):\n",
        "        x.ctrl(qvector[0], qvector[i])\n",
        "\n",
        "    # Measure the qubits\n",
        "    # If we don't specify measurements, all qubits are measured in\n",
        "    # the Z-basis by default.\n",
        "    mz(qvector)\n",
        "\n",
        "##############################################################\n",
        "# 3. Call the kernel function with the variable qubit_count set to 2 and sample the outcomes\n",
        "qubit_count = 2\n",
        "result = cudaq.sample(kernel, qubit_count, shots_count=1000)\n",
        "\n",
        "print(result)"
      ]
    },
    {
      "cell_type": "markdown",
      "id": "f634815a",
      "metadata": {
        "id": "f634815a",
        "jupyter": {
          "source_hidden": true
        }
      },
      "source": [
        "The next example shows how to use CUDA-Q to compute the expectation value $\\langle \\psi |H|\\psi\\rangle$, where $H$ is a Hamiltonian and $|\\psi\\rangle$ is a quantum state defined by the kernel. We'll use the GHZ state, $|\\psi\\rangle = \\frac{1}{\\sqrt{2}}|00\\rangle+|11\\rangle$. Therefore, our kernel will be the same as the previous example, but we will remove the measurement. The Hamiltonian $H = ZI + 2IY - XZ$ is encoded using the `spin` operators in `cudaq` and they can be combined together with scalers using `+` and `*`. The `observe` primitive computes many statistics, but we will only need the `.expectation()` value."
      ]
    },
    {
      "cell_type": "code",
      "execution_count": null,
      "id": "b565027b",
      "metadata": {
        "id": "b565027b",
        "outputId": "fca5f335-6534-4063-cc90-f5e0a9c16be2"
      },
      "outputs": [
        {
          "name": "stdout",
          "output_type": "stream",
          "text": [
            "<psi|H|psi> = 0.040000000000000036\n"
          ]
        }
      ],
      "source": [
        "# Example 2\n",
        "\n",
        "# Define a quantum kernel function.\n",
        "@cudaq.kernel\n",
        "def kernel(qubit_count: int):\n",
        "    # Allocate our `qubit_count` to the kernel.\n",
        "    qvector = cudaq.qvector(qubit_count)\n",
        "\n",
        "    # Apply a Hadamard gate to the qubit indexed by 0.\n",
        "    h(qvector[0])\n",
        "    # Apply a Controlled-X gate between qubit 0 (acting as the control)\n",
        "    # and each of the remaining qubits.\n",
        "    for i in range(1, qubit_count):\n",
        "        x.ctrl(qvector[0], qvector[i])\n",
        "\n",
        "\n",
        "# Define a Hamiltonian in terms of Pauli Spin operators.\n",
        "hamiltonian = spin.z(0) + 2*spin.y(1) - spin.x(0) * spin.z(1)\n",
        "\n",
        "# Compute the expectation value given the state prepared by the kernel.\n",
        "result = cudaq.observe(kernel, hamiltonian, qubit_count, shots_count = 1000).expectation()\n",
        "\n",
        "print('<psi|H|psi> =', result)"
      ]
    },
    {
      "cell_type": "markdown",
      "id": "04832e5f",
      "metadata": {
        "id": "04832e5f"
      },
      "source": [
        "### 1.5.2 Problem Hamiltonian\n",
        "\n",
        "**Exercise:** Using the syntax demonstrated in the previous section, edit the line commented as `###FIX_ME###` in the code block below to define the problem Hamiltonian.  Recall that for max cut problems, the problem Hamiltonian is $$H= \\frac{1}{2}\\sum_{(u,v)\\in E} (Z_uZ_v-II),$$ where $E$ is the set of edges in our graph and $Z_u$ is shorthand for the spin $Z$ operator applied to the qubit associated with vertex $u$. In a similar manner $II$ can be thought of as $I_uI_v$. Hint: you will need to use the `spin.z` and `spin.i` operations. Click on the triple dots in the 2nd cell below to view the solution."
      ]
    },
    {
      "cell_type": "code",
      "execution_count": null,
      "id": "b503e230",
      "metadata": {
        "id": "b503e230"
      },
      "outputs": [],
      "source": [
        "# Define a function to generate the Hamiltonian for a max cut problem using the graph G\n",
        "\n",
        "def hamiltonian_max_cut(sources : List[int], targets : List[int]):\n",
        "    \"\"\"Hamiltonian for finding the max cut for the graph  with edges defined by the pairs generated by source and target edges\n",
        "\n",
        "    Parameters\n",
        "    ----------\n",
        "    sources: List[int]\n",
        "        list of the source vertices for edges in the graph\n",
        "    targets: List[int]\n",
        "        list of the target vertices for the edges in the graph\n",
        "\n",
        "    Returns\n",
        "    -------\n",
        "    cudaq.SpinOperator\n",
        "        Hamiltonian for finding the max cut of the graph defined by the given edges\n",
        "    \"\"\"\n",
        "    hamiltonian = 0\n",
        "    # Since our vertices may not be a list from 0 to n, or may not even be integers,\n",
        "\n",
        "    for i in range(len(sources)):\n",
        "        # Add a term to the Hamiltonian for the edge (u,v)\n",
        "        qubitu = sources[i]\n",
        "        qubitv = targets[i]\n",
        "        hamiltonian += spin.z(qubitu) ######FIX_ME\n",
        "\n",
        "    return hamiltonian"
      ]
    },
    {
      "cell_type": "code",
      "execution_count": 5,
      "id": "d26aa06d",
      "metadata": {
        "id": "d26aa06d",
        "jupyter": {
          "source_hidden": true
        }
      },
      "outputs": [],
      "source": [
        "# SOLUTION\n",
        "\n",
        "# Define a function to generate the Hamiltonian for a max cut problem using the graph G\n",
        "\n",
        "def hamiltonian_max_cut(sources : List[int], targets : List[int]):\n",
        "    \"\"\"Hamiltonian for finding the max cut for the graph  with edges defined by the pairs generated by source and target edges\n",
        "\n",
        "    Parameters\n",
        "    ----------\n",
        "    sources: List[int]\n",
        "        list of the source vertices for edges in the graph\n",
        "    targets: List[int]\n",
        "        list of the target vertices for the edges in the graph\n",
        "\n",
        "    Returns\n",
        "    -------\n",
        "    cudaq.SpinOperator\n",
        "        Hamiltonian for finding the max cut of the graph defined by the given edges\n",
        "    \"\"\"\n",
        "    hamiltonian = 0\n",
        "    # Since our vertices may not be a list from 0 to n, or may not even be integers,\n",
        "\n",
        "    for i in range(len(sources)):\n",
        "        # Add a term to the Hamiltonian for the edge (u,v)\n",
        "        qubitu = sources[i]\n",
        "        qubitv = targets[i]\n",
        "        hamiltonian += 0.5*(spin.z(qubitu)*spin.z(qubitv)-spin.i(qubitu)*spin.i(qubitv))\n",
        "\n",
        "    return hamiltonian"
      ]
    },
    {
      "cell_type": "markdown",
      "id": "52a50dad",
      "metadata": {
        "id": "52a50dad"
      },
      "source": [
        "\n",
        "### 1.5.3 QAOA Circuit\n",
        "\n",
        "In order to program QAOA for our max cut problem, we need to understand the structure of the variational QAOA quantum circuit. The general structure of the circuit is described and depicted below:\n",
        "* For each vertex in the graph, there is an associated qubit in the circuit.\n",
        "* The circuit is initialized in a superposition state, corresponding to a a state in which each possible coloring of vertices of the graph is equally likely. This is achieved with the Hadamard gates on the left of the diagram.\n",
        "* The QAOA circuit is made up of repeated blocks (referred to as layers) of a problem kernel and a mixer kernel. These layers are outlined in light gray.\n",
        "    * The problem kernel is drawn in blue. It encodes our graph. We'll go into more details about the make up of the problem kernel later in this section.\n",
        "    * The mixer kernel is composed of the green parameterized rotation gates in the diagram below.\n",
        "\n",
        "![](https://github.com/NVIDIA/cuda-q-academic/blob/main/qaoa-for-max-cut/images/qaoa-circuit-layers.png?raw=true)\n",
        "\n",
        "Let's take a closer look at the problem kernel, which encodes the structure of the graph for the max cut problem.  For each edge $(u,v)$ in the `sampleGraph` a contolled-$X$ gate is applied with control qubit associated with $u$ and target qubit associated with $v$.  Then a parameterized $Z$-rotation is applied to the qubit associated with $v$, and this is followed by another controlled-$X$ gate identical to the first one applied. The diagram below illustrates how the edge between node 1 and 2 in the graph drawn below would get encoded in the kernel. Here we have assigned vertex 1 to qubit 1 and vertex 2 to qubit 2. The encoding of edges is repeated for each edge of the graph. Within a given layer of the QAOA cicuit, the same parameter is used for all of the edge encodings in the problem kernel, but new parameters are introduced for each layer.\n",
        "\n",
        "![](https://github.com/NVIDIA/cuda-q-academic/blob/main/qaoa-for-max-cut/images/qaoa-problem-kernel.png?raw=true)\n",
        "\n",
        "In the code block below, edit the FIX_ME commands to define a kernel function that takes as input 2 qubits corresponding to an edge in our graph and a parameter, then applies the parameterized-gate sequence depicted in the image above to those two qubits.  "
      ]
    },
    {
      "cell_type": "code",
      "execution_count": null,
      "id": "8e06b253",
      "metadata": {
        "id": "8e06b253"
      },
      "outputs": [],
      "source": [
        "# Problem Kernel\n",
        "\n",
        "@cudaq.kernel\n",
        "def qaoaProblem(qubit_0 : cudaq.qubit, qubit_1 : cudaq.qubit, alpha : float):\n",
        "    \"\"\"Build the QAOA gate sequence between two qubits that represent an edge of the graph\n",
        "    Parameters\n",
        "    ----------\n",
        "    qubit_0: cudaq.qubit\n",
        "        Qubit representing the first vertex of an edge\n",
        "    qubit_1: cudaq.qubit\n",
        "        Qubit representing the second vertex of an edge\n",
        "    alpha: List[float]\n",
        "        Free variable\n",
        "\n",
        "\n",
        "    \"\"\"\n",
        "    FIX_ME(qubit_0, qubit_1)\n",
        "    rz(2.0*alpha, qubit_1)\n",
        "    FIX_ME(qubit_0, qubit_1)"
      ]
    },
    {
      "cell_type": "code",
      "execution_count": 6,
      "id": "76443eb2",
      "metadata": {
        "id": "76443eb2",
        "jupyter": {
          "source_hidden": true
        }
      },
      "outputs": [],
      "source": [
        "# SOLUTION\n",
        "# Problem Kernel\n",
        "\n",
        "@cudaq.kernel\n",
        "def qaoaProblem(qubit_0 : cudaq.qubit, qubit_1 : cudaq.qubit, alpha : float):\n",
        "    \"\"\"Build the QAOA gate sequence between two qubits that represent an edge of the graph\n",
        "    Parameters\n",
        "    ----------\n",
        "    qubit_0: cudaq.qubit\n",
        "        Qubit representing the first vertex of an edge\n",
        "    qubit_1: cudaq.qubit\n",
        "        Qubit representing the second vertex of an edge\n",
        "    alpha: float\n",
        "        Free variable\n",
        "\n",
        "\n",
        "    \"\"\"\n",
        "    x.ctrl(qubit_0, qubit_1)\n",
        "    rz(2.0*alpha, qubit_1)\n",
        "    x.ctrl(qubit_0, qubit_1)"
      ]
    },
    {
      "cell_type": "markdown",
      "id": "37f7fd1b",
      "metadata": {
        "id": "37f7fd1b"
      },
      "source": [
        "Now, we'll create a kernel function for the mixer.  This kernel will take as input a qubit and a parameter, and applies a parameterized x-rotation gate to the qubit.  Edit FIX_ME statements in the code block below."
      ]
    },
    {
      "cell_type": "code",
      "execution_count": null,
      "id": "f107925d",
      "metadata": {
        "id": "f107925d"
      },
      "outputs": [],
      "source": [
        "# Mixer Kernel\n",
        "\n",
        "@cudaq.kernel\n",
        "def qaoaMixer(FIX_ME):\n",
        "    \"\"\"Build the QAOA gate sequence that is applied to each qubit in the mixer portion of the circuit\n",
        "    Parameters\n",
        "    ----------\n",
        "    qubit_0: cudaq.qubit\n",
        "        Qubit\n",
        "    beta: float\n",
        "        Free variable\n",
        "\n",
        "\n",
        "    \"\"\"\n",
        "    rx(2.0*beta, FIX_ME)\n"
      ]
    },
    {
      "cell_type": "code",
      "execution_count": 7,
      "id": "40f189c1",
      "metadata": {
        "id": "40f189c1",
        "jupyter": {
          "source_hidden": true
        }
      },
      "outputs": [],
      "source": [
        "# SOLUTION\n",
        "# Mixer Kernel\n",
        "\n",
        "@cudaq.kernel\n",
        "def qaoaMixer(qubit_0 : cudaq.qubit, beta : float):\n",
        "    \"\"\"Build the QAOA gate sequence that is applied to each qubit in the mixer portion of the circuit\n",
        "    Parameters\n",
        "    ----------\n",
        "    qubit_0: cudaq.qubit\n",
        "        Qubit\n",
        "    beta: float\n",
        "        Free variable\n",
        "\n",
        "\n",
        "    \"\"\"\n",
        "    rx(2.0*beta, qubit_0)\n"
      ]
    },
    {
      "cell_type": "markdown",
      "id": "85ae958c",
      "metadata": {
        "id": "85ae958c"
      },
      "source": [
        "We're ready to put these kernels together to build up the QAOA circuit. You are tasked in the exercise below to edit the FIX_MEs to carry out the first steps:  \n",
        "* initialize the qubits - one for each vertex in our graph\n",
        "* place the qubits in superposition.\n",
        "\n",
        "Then, the two kernels that we created in the previous blocks will be added to form the layers in the QAOA circuit.  "
      ]
    },
    {
      "cell_type": "code",
      "execution_count": null,
      "id": "cdabb46c",
      "metadata": {
        "id": "cdabb46c"
      },
      "outputs": [],
      "source": [
        "# We now define the kernel_qaoa function which will be the QAOA circuit for our graph\n",
        "# Since the QAOA circuit for max cut depends on the structure of the graph,\n",
        "# we'll feed in global concrete variable values into the kernel_qaoa function for the qubit_count, layer_count, edges_src, edges_tgt.\n",
        "# The types for these variables are restricted to Quake Values (e.g. qubit, int, List[int], ...)\n",
        "# The thetas plaeholder will be our free parameters (the alphas and betas in the circuit diagrams depicted above)\n",
        "@cudaq.kernel\n",
        "def kernel_qaoa(qubit_count :int, layer_count: int, edges_src: List[int], edges_tgt: List[int], thetas : List[float]):\n",
        "    \"\"\"Build the QAOA circuit for max cut of the graph with given edges and nodes\n",
        "    Parameters\n",
        "    ----------\n",
        "    qubit_count: int\n",
        "        Number of qubits in the circuit, which is the same as the number of nodes in our graph\n",
        "    layer_count : int\n",
        "        Number of layers in the QAOA kernel\n",
        "    edges_src: List[int]\n",
        "        List of the first (source) node listed in each edge of the graph, when the edges of the graph are listed as pairs of nodes\n",
        "    edges_tgt: List[int]\n",
        "        List of the second (target) node listed in each edge of the graph, when the edges of the graph are listed as pairs of nodes\n",
        "    thetas: List[float]\n",
        "        Free variables to be optimized\n",
        "\n",
        "\n",
        "    \"\"\"\n",
        "    # Let's allocate the qubits\n",
        "    qreg = cudaq.qvector(FIX_ME)\n",
        "\n",
        "    # And then place the qubits in superposition\n",
        "    h(FIX_ME)\n",
        "\n",
        "    # Each layer has two components: the problem kernel and the mixer\n",
        "    for i in range(layer_count):\n",
        "        # Add the problem kernel to each layer\n",
        "        for edge in range(len(edges_src)):\n",
        "            qubitu = edges_src[edge]\n",
        "            qubitv = edges_tgt[edge]\n",
        "            qaoaProblem(qreg[qubitu], qreg[qubitv], thetas[i])\n",
        "        # Add the mixer kernel to each layer\n",
        "        for j in range(qubit_count):\n",
        "            qaoaMixer(qreg[j],thetas[i+layer_count])"
      ]
    },
    {
      "cell_type": "code",
      "execution_count": 8,
      "id": "de9052ab",
      "metadata": {
        "id": "de9052ab",
        "jupyter": {
          "source_hidden": true
        }
      },
      "outputs": [],
      "source": [
        "# SOLUTION\n",
        "\n",
        "# We now define the kernel_qaoa function which will be the QAOA circuit for our graph\n",
        "# Since the QAOA circuit for max cut depends on the structure of the graph,\n",
        "# we'll feed in global concrete variable values into the kernel_qaoa function for the qubit_count, layer_count, edges_src, edges_tgt.\n",
        "# The types for these variables are restricted to Quake Values (e.g. qubit, int, List[int], ...)\n",
        "# The thetas plaeholder will be our free parameters (the alphas and betas in the circuit diagrams depicted above)\n",
        "@cudaq.kernel\n",
        "def kernel_qaoa(qubit_count :int, layer_count: int, edges_src: List[int], edges_tgt: List[int], thetas : List[float]):\n",
        "    \"\"\"Build the QAOA circuit for max cut of the graph with given edges and nodes\n",
        "    Parameters\n",
        "    ----------\n",
        "    qubit_count: int\n",
        "        Number of qubits in the circuit, which is the same as the number of nodes in our graph\n",
        "    layer_count : int\n",
        "        Number of layers in the QAOA kernel\n",
        "    edges_src: List[int]\n",
        "        List of the first (source) node listed in each edge of the graph, when the edges of the graph are listed as pairs of nodes\n",
        "    edges_tgt: List[int]\n",
        "        List of the second (target) node listed in each edge of the graph, when the edges of the graph are listed as pairs of nodes\n",
        "    thetas: List[float]\n",
        "        Free variables to be optimized\n",
        "\n",
        "    \"\"\"\n",
        "    # Let's allocate the qubits\n",
        "    qreg = cudaq.qvector(qubit_count)\n",
        "\n",
        "    # And then place the qubits in superposition\n",
        "    h(qreg)\n",
        "\n",
        "    # Each layer has two components: the problem kernel and the mixer\n",
        "    for i in range(layer_count):\n",
        "        # Add the problem kernel to each layer\n",
        "        for edge in range(len(edges_src)):\n",
        "            qubitu = edges_src[edge]\n",
        "            qubitv = edges_tgt[edge]\n",
        "            qaoaProblem(qreg[qubitu], qreg[qubitv], thetas[i])\n",
        "        # Add the mixer kernel to each layer\n",
        "        for j in range(qubit_count):\n",
        "            qaoaMixer(qreg[j],thetas[i+layer_count])"
      ]
    },
    {
      "cell_type": "markdown",
      "id": "949a4ea3-8c64-4591-8cb6-c1d57c5c4203",
      "metadata": {
        "id": "949a4ea3-8c64-4591-8cb6-c1d57c5c4203"
      },
      "source": [
        "**Side Note:**  In this tutorial we defined kernels using the preferred [`PyKernel` decorator](https://nvidia.github.io/cuda-quantum/latest/api/languages/python_api.html#cudaq.PyKernel). An alternative method for defining kerels is to use the\n",
        " [kernel builder](https://nvidia.github.io/cuda-quantum/latest/api/languages/python_api.html#cudaq.make_kernel) syntax."
      ]
    },
    {
      "cell_type": "markdown",
      "id": "3b93ac84",
      "metadata": {
        "id": "3b93ac84"
      },
      "source": [
        "That completes the QAOA kernel. Before moving on to define the optimizer, let's examine how varying parameter values produce different graph colorings with corresponding cut values when executing the QAOA circuit. Execute the cell below to generate a widget. You don't need to worry about the code in that cell, just focus on the widget. In the widget, adjust the sliders to experiment with different parameter values and visualize the resulting graph coloring from the QAOA circuit's execution.  "
      ]
    },
    {
      "cell_type": "code",
      "execution_count": 9,
      "id": "5b6c8679",
      "metadata": {},
      "outputs": [
        {
          "data": {
            "application/vnd.jupyter.widget-view+json": {
              "model_id": "b9cf5fbb2f074fbe93f41316cc698d79",
              "version_major": 2,
              "version_minor": 0
            },
            "text/plain": [
              "interactive(children=(FloatSlider(value=0.5708146698457837, description='α1', max=3.141592653589793, min=-3.14…"
            ]
          },
          "metadata": {},
          "output_type": "display_data"
        },
        {
          "data": {
            "text/plain": [
              "<function __main__.update_graph(param1, param2)>"
            ]
          },
          "execution_count": 9,
          "metadata": {},
          "output_type": "execute_result"
        }
      ],
      "source": [
        "# Execute this cell to generate a widget to visualize the effect of changing the parameters\n",
        "\n",
        "# Set variables\n",
        "seed = 123\n",
        "cudaq.set_random_seed(seed)\n",
        "shots = 1\n",
        "layer_count = 1\n",
        "parameter_count = 2 * layer_count  # Each layer of the QAOA kernel contains 2 parameters\n",
        "%matplotlib inline\n",
        "# Problem parameters from the graph\n",
        "nodes = list(sampleGraph.nodes())\n",
        "qubit_count = len(nodes)  # The number of qubits we'll need is the same as the number of vertices in our graph\n",
        "qubit_src = []\n",
        "qubit_tgt = []\n",
        "for u, v in nx.edges(sampleGraph):\n",
        "    qubit_src.append(nodes.index(u))\n",
        "    qubit_tgt.append(nodes.index(v))\n",
        "\n",
        "# Function to update the graph based on parameter values\n",
        "def update_graph(param1, param2):\n",
        "    initial_parameters = [param1, param2]\n",
        "    \n",
        "    # Sample the circuit using the initial parameters\n",
        "    counts = cudaq.sample(kernel_qaoa, qubit_count, layer_count, qubit_src, qubit_tgt, initial_parameters, shots_count=shots)\n",
        "    #result = str(counts)\n",
        "    result = str(counts.most_probable())\n",
        "\n",
        "    # Map the resulting bitstring from the qubit measurements to a list of integer values\n",
        "    graphColors = [int(i) for i in result]\n",
        "    nodes_sorted = sorted(list(nx.nodes(sampleGraph)))\n",
        "\n",
        "    # Compute the cut value associated with resulting coloring\n",
        "    sampleGraphMaxCut = 0\n",
        "    cut_edges = []\n",
        "    for u, v in sampleGraph.edges():\n",
        "        indexu = nodes_sorted.index(u)\n",
        "        indexv = nodes_sorted.index(v)\n",
        "        if graphColors[indexu] != graphColors[indexv]:\n",
        "            sampleGraphMaxCut += 1\n",
        "            cut_edges.append((u, v))\n",
        "\n",
        "    # Compute the partitioning associated with resulting coloring\n",
        "    cut0 = []\n",
        "    cut1 = []\n",
        "    for u in sampleGraph.nodes():\n",
        "        indexu = nodes_sorted.index(u)\n",
        "        if graphColors[indexu] == 0:\n",
        "            cut0.append(u)\n",
        "            sampleGraph.nodes[u]['color'] = 0\n",
        "        else:\n",
        "            cut1.append(u)\n",
        "            sampleGraph.nodes[u]['color'] = 1\n",
        "\n",
        "    \n",
        "    \n",
        "    # Draw the graph identifying the max cut\n",
        "    max_cut_color_map = ['#8C8C8C' if sampleGraph.nodes[u]['color'] == 0 else '#76B900' for u in sampleGraph]\n",
        "\n",
        "    plt.figure(figsize=(8, 6))\n",
        "    nx.draw_networkx_edges(\n",
        "        sampleGraph,\n",
        "        pos,\n",
        "        edgelist=cut_edges,\n",
        "        width=8,\n",
        "        alpha=0.5,\n",
        "        edge_color='#76B900',\n",
        "    )\n",
        "    nx.draw(sampleGraph, with_labels=True, pos=pos, node_color=max_cut_color_map)\n",
        "    plt.show()\n",
        "    print('The cut found using the parameters α1 and β1 in the QAOA circuit is highlighted in green.')\n",
        "    print('The cut value for the this coloring is', sampleGraphMaxCut)\n",
        "\n",
        "# Create sliders for the initial parameters\n",
        "param1_slider = widgets.FloatSlider(min=-np.pi, max=np.pi, step=0.1, value=np.random.uniform(-np.pi, np.pi), description='α1')\n",
        "param2_slider = widgets.FloatSlider(min=-np.pi, max=np.pi, step=0.1, value=np.random.uniform(-np.pi, np.pi),description='β1')\n",
        "\n",
        "# Create the interactive widget\n",
        "interact(update_graph, param1=param1_slider, param2=param2_slider)"
      ]
    },
    {
      "cell_type": "markdown",
      "id": "04398cce",
      "metadata": {},
      "source": [
        "As you may notice, some parameter values yield better cuts than others. This is where the classical optimizer loop comes into play. Each iteration of the loop suggests a new set of parameters to improve the cut, aiming to converge on the maximum cut of the graph.  We'll define the optimizer loop next."
      ]
    },
    {
      "cell_type": "markdown",
      "id": "ddfdb690",
      "metadata": {
        "id": "ddfdb690"
      },
      "source": [
        "\n",
        "### 1.5.4 Optimizer Loop\n",
        "\n",
        "CUDA-Q has several built-in optimizers. You can find more information about the optimizers [here](https://nvidia.github.io/cuda-quantum/latest/api/languages/python_api.html#optimizers).  \n",
        "\n",
        "The code block below defines our optimizer and sets the initial parameter values. We'll use the COBYLA optimizer.  We'll set a seed and choose initial parameter values randomly. Recall that the number of parameters needed depends on the number of layers in our QAOA circuit.  Each layer calls two parameters, one for the problem kernel and one for the mixer."
      ]
    },
    {
      "cell_type": "code",
      "execution_count": 10,
      "id": "ab3b71d3",
      "metadata": {
        "id": "ab3b71d3"
      },
      "outputs": [],
      "source": [
        "# Define the optimizer\n",
        "seed = 110\n",
        "layer_count = 1 # set arbitrarily\n",
        "parameter_count: int = 2 * layer_count\n",
        "\n",
        "# Specify the optimizer and its initial parameters.\n",
        "optimizer = cudaq.optimizers.COBYLA()\n",
        "np.random.seed(seed)\n",
        "optimizer.initial_parameters = np.random.uniform(-np.pi, np.pi,\n",
        "                                                     parameter_count)\n"
      ]
    },
    {
      "cell_type": "markdown",
      "id": "3286736c",
      "metadata": {
        "id": "3286736c"
      },
      "source": [
        "The `vqe` function is built into CUDA-Q and carries out the optimization loop once the optimizer, initial parameters, kernel, and Hamiltonian cost function have been defined. Let's add the `vqe` call to the code. The code block below implements the full optimizer loop. When you execute the code, you'll see the optimal parameter values identified for the max cut approximate solution to our `sampleGraph`.  In the next two sections, we'll walk through how to read out an optimal cut from this."
      ]
    },
    {
      "cell_type": "code",
      "execution_count": null,
      "id": "259c27c2",
      "metadata": {
        "id": "259c27c2",
        "outputId": "b665ee01-8afc-44c9-9b92-8ffa74155f80"
      },
      "outputs": [],
      "source": [
        "# Define the optimizer\n",
        "\n",
        "# Problem parameters\n",
        "seed = 110\n",
        "qubit_count = len(node_List) # The number of qubits we'll need is the same as the number of vertices in our graph\n",
        "layer_count = 1 # set arbitrarily\n",
        "parameter_count: int = 2 * layer_count   # Each layer of the QAOA kernel contains 2 parameters\n",
        "nodes = sorted(list(nx.nodes(sampleGraph)))\n",
        "# In the event our nodes aren't listed as consecutive integers starting with 0, we will map them to qubits\n",
        "edge_qubit_src = []\n",
        "edge_qubit_tgt = []\n",
        "for u, v in nx.edges(sampleGraph):\n",
        "    # We can use the index() command to read out the qubits associated with the vertex u and v.\n",
        "    edge_qubit_src.append(nodes.index(u))\n",
        "    edge_qubit_tgt.append(nodes.index(v))\n",
        "\n",
        "\n",
        "# Specify the optimizer and its initial parameters.\n",
        "optimizer = cudaq.optimizers.COBYLA()\n",
        "np.random.seed(seed)\n",
        "optimizer.initial_parameters = np.random.uniform(-np.pi, np.pi,\n",
        "                                                     parameter_count)\n",
        "\n",
        "# Pass the kernel, spin operator, and optimizer to `cudaq.vqe`.\n",
        "optimal_expectation, optimal_parameters = cudaq.vqe(\n",
        "    kernel=kernel_qaoa,\n",
        "    spin_operator=hamiltonian_max_cut(edge_qubit_src,edge_qubit_tgt),\n",
        "    argument_mapper=lambda parameter_vector: (qubit_count, layer_count, edge_qubit_src, edge_qubit_tgt, parameter_vector),\n",
        "    optimizer=optimizer,\n",
        "    parameter_count=parameter_count)\n",
        "\n",
        "# Print the optimized value and its parameters\n",
        "print(\"Optimal value = \", optimal_expectation)\n",
        "print(\"Optimal parameters = \", optimal_parameters)"
      ]
    },
    {
      "cell_type": "markdown",
      "id": "fb76da1f",
      "metadata": {
        "id": "fb76da1f"
      },
      "source": [
        "We can read out an approximation for the max cut value from this result.  The optimal value reported is the average value ($\\langle \\psi|H|\\psi\\rangle$) of our problem Hamiltonian $H$ when applied to the state generated by the quantum circuit with the optimal parameter values.  What this means that at our max cut value for the `sampleGraph` is at least 4.466. We'll use the sampling in the next section to identify the most probable measurements of the state generated by the QAOA kernel with these optimal parameter values."
      ]
    },
    {
      "cell_type": "markdown",
      "id": "08f2e1ac",
      "metadata": {
        "id": "08f2e1ac"
      },
      "source": [
        "Since we'll eventually be applying QAOA to several graphs, let's wrap all of this into a function that takes as input the graph, layer count, and seed and outputs the optimal parameters found after executing QAOA with the given layer count and seed for max cut on the given graph. We'll want to apply QAOA to graphs whose vertices may not be indexed by consecutive integers ranging from 0 to n, so we'll need to do some bookkeeping before passing the graph to the QAOA kernel by identifying the each vertex with its position in a sorted list of the vertices of the graph."
      ]
    },
    {
      "cell_type": "code",
      "execution_count": 12,
      "id": "4d64fa07",
      "metadata": {
        "id": "4d64fa07"
      },
      "outputs": [],
      "source": [
        "def find_optimal_parameters(G, layer_count, seed):\n",
        "    \"\"\"Function for finding the optimal parameters of QAOA for the max cut of a graph\n",
        "\n",
        "    Parameters\n",
        "    ----------\n",
        "    G: networkX graph\n",
        "        Problem graph whose max cut we aim to find\n",
        "    layer_count : int\n",
        "        Number of layers in the QAOA circuit\n",
        "    seed : int\n",
        "        Random seed for reproducibility of results\n",
        "\n",
        "    Returns\n",
        "    -------\n",
        "    list[float]\n",
        "        Optimal parameters for the QAOA applied to the given graph G\n",
        "    \"\"\"\n",
        "    parameter_count: int = 2 * layer_count\n",
        "\n",
        "    # Problem parameters\n",
        "    nodes = sorted(list(nx.nodes(G)))\n",
        "    qubit_src = []\n",
        "    qubit_tgt = []\n",
        "    for u, v in nx.edges(G):\n",
        "        # We can use the index() command to read out the qubits associated with the vertex u and v.\n",
        "        qubit_src.append(nodes.index(u))\n",
        "        qubit_tgt.append(nodes.index(v))\n",
        "    # The number of qubits we'll need is the same as the number of vertices in our graph\n",
        "    qubit_count : int = len(nodes)\n",
        "    # Each layer of the QAOA kernel contains 2 parameters\n",
        "    parameter_count : int = 2*layer_count\n",
        "\n",
        "    # Specify the optimizer and its initial parameters.\n",
        "    optimizer = cudaq.optimizers.COBYLA()\n",
        "    np.random.seed(seed)\n",
        "    optimizer.initial_parameters = np.random.uniform(-np.pi, np.pi,\n",
        "                                                     parameter_count)\n",
        "\n",
        "    # Pass the kernel, spin operator, and optimizer to `cudaq.vqe`.\n",
        "    optimal_expectation, optimal_parameters = cudaq.vqe(\n",
        "        kernel=kernel_qaoa,\n",
        "        spin_operator=hamiltonian_max_cut(qubit_src, qubit_tgt),\n",
        "        argument_mapper=lambda parameter_vector: (qubit_count, layer_count, qubit_src, qubit_tgt, parameter_vector),\n",
        "        optimizer=optimizer,\n",
        "        parameter_count=parameter_count)\n",
        "\n",
        "    return optimal_parameters"
      ]
    },
    {
      "cell_type": "markdown",
      "id": "81ded329",
      "metadata": {
        "id": "81ded329"
      },
      "source": [
        "Let's verify that the `find_optimal_parameters` function executes as expected."
      ]
    },
    {
      "cell_type": "code",
      "execution_count": null,
      "id": "893b8453",
      "metadata": {
        "id": "893b8453",
        "outputId": "b5c87250-e057-4de9-e6a5-c414ae35f4a0"
      },
      "outputs": [],
      "source": [
        "# Testing the find_optimal_parameters function\n",
        "layer_count =1\n",
        "seed = 110\n",
        "\n",
        "find_optimal_parameters(sampleGraph, layer_count, seed)\n"
      ]
    },
    {
      "cell_type": "markdown",
      "id": "5a1b0260",
      "metadata": {
        "id": "5a1b0260"
      },
      "source": [
        "### 1.5.5 Sampling the results of QAOA\n",
        "\n",
        "The final step of the QAOA is to sample the QAOA circuit using the optimal parameters identified through the optimization loop.  This is carried out with `sample` for which we can specify the number of shots.  The code block below adds the sampling instruction. For now, we'll set the `layer_count` to be 1. Notice that there are $2^7=128$ many colorings of the 7 nodes.  Therefore, we want to make sure that our `shots_count` will be large enough to distinguish the most probable outcome among these 128 states."
      ]
    },
    {
      "cell_type": "code",
      "execution_count": null,
      "id": "26b7e67d",
      "metadata": {
        "id": "26b7e67d",
        "outputId": "b6531060-b143-44e6-a933-d2c90fbe5087"
      },
      "outputs": [],
      "source": [
        "# Sampling the results of QAOA\n",
        "# QAOA and sampling parameters\n",
        "cudaq.set_random_seed(seed)\n",
        "shots = 5000\n",
        "layer_count = 1\n",
        "parameter_count : int = 2*layer_count # Each layer of the QAOA kernel contains 2 parameters\n",
        "\n",
        "# Problem parameters from the graph\n",
        "nodes = list(sampleGraph.nodes())\n",
        "qubit_count : int = len(nodes) # The number of qubits we'll need is the same as the number of vertices in our graph\n",
        "qubit_src = []\n",
        "qubit_tgt = []\n",
        "for u, v in nx.edges(sampleGraph):\n",
        "    # We can use the index() command to read out the qubits associated with the vertex u and v.\n",
        "    qubit_src.append(nodes.index(u))\n",
        "    qubit_tgt.append(nodes.index(v))\n",
        "\n",
        "\n",
        "# retrieve optimal parameters from running VQE through the find_optimal_parameters function\n",
        "optimal_parameters = find_optimal_parameters(G = sampleGraph, layer_count = layer_count, seed = 123)\n",
        "\n",
        "# Sample the circuit using the optimized parameters\n",
        "# The structure of the sample call is sample(kernel, *args, shots_count=1000, noise_model=None) where *args are the\n",
        "# concrete values for evaluating the kernel function\n",
        "counts = cudaq.sample(kernel_qaoa, qubit_count, layer_count, qubit_src, qubit_tgt, optimal_parameters, shots_count=shots)\n",
        "print('most_probable outcome = ',counts.most_probable())\n",
        "results = str(counts.most_probable())\n"
      ]
    },
    {
      "cell_type": "markdown",
      "id": "57b83a02",
      "metadata": {
        "id": "57b83a02"
      },
      "source": [
        "### 1.5.6 Creating a function to carry out QAOA for max cut on a graph\n"
      ]
    },
    {
      "cell_type": "markdown",
      "id": "51ea007e",
      "metadata": {
        "id": "51ea007e"
      },
      "source": [
        "Because we'll want to reuse this code later on and apply the QAOA algorithm to other graphs, we'll create a function that carries out QAOA for max cut on a given graph with specified layer count, number of shots in the sampling subroutine, and a random seed for reproducibility."
      ]
    },
    {
      "cell_type": "code",
      "execution_count": 15,
      "id": "1e7a1e74",
      "metadata": {
        "id": "1e7a1e74"
      },
      "outputs": [],
      "source": [
        "def qaoa_for_graph(G, layer_count, shots, seed):\n",
        "    \"\"\"Function for finding the max cut of a graph using QAOA\n",
        "\n",
        "    Parameters\n",
        "    ----------\n",
        "    G: networkX graph\n",
        "        Problem graph whose max cut we aim to find\n",
        "    layer_count : int\n",
        "        Number of layers in the QAOA circuit\n",
        "    shots : int\n",
        "        Number of shots in the sampling subroutine\n",
        "    seed : int\n",
        "        Random seed for reproducibility of results\n",
        "\n",
        "    Returns\n",
        "    -------\n",
        "    str\n",
        "        Binary string representing the max cut coloring of the vertinces of the graph\n",
        "    \"\"\"\n",
        "\n",
        "\n",
        "    parameter_count: int = 2 * layer_count\n",
        "\n",
        "    # Problem parameters\n",
        "    nodes = sorted(list(nx.nodes(G)))\n",
        "    qubit_src = []\n",
        "    qubit_tgt = []\n",
        "    for u, v in nx.edges(G):\n",
        "        # We can use the index() command to read out the qubits associated with the vertex u and v.\n",
        "        qubit_src.append(nodes.index(u))\n",
        "        qubit_tgt.append(nodes.index(v))\n",
        "    # The number of qubits we'll need is the same as the number of vertices in our graph\n",
        "    qubit_count : int = len(nodes)\n",
        "    # Each layer of the QAOA kernel contains 2 parameters\n",
        "    parameter_count : int = 2*layer_count\n",
        "\n",
        "    optimal_parameters = find_optimal_parameters(sampleGraph, layer_count, seed)\n",
        "\n",
        "    # Print the optimized parameters\n",
        "    print(\"Optimal parameters = \", optimal_parameters)\n",
        "\n",
        "    # Sample the circuit\n",
        "    counts = cudaq.sample(kernel_qaoa, qubit_count, layer_count, qubit_src, qubit_tgt, optimal_parameters, shots_count=shots)\n",
        "    print('most_probable outcome = ',counts.most_probable())\n",
        "    results = str(counts.most_probable())\n",
        "    return results"
      ]
    },
    {
      "cell_type": "markdown",
      "id": "1004ccf7",
      "metadata": {
        "id": "1004ccf7"
      },
      "source": [
        "We are ready to run our code to find the max cut of `sampleGraph`! Execute the code block below which calls on the `qaoa_for_graph` function that we've defined in the previous sections, interprets the resulting bitstring as a coloring or partitioning of sample graph, and computes the cut."
      ]
    },
    {
      "cell_type": "code",
      "execution_count": null,
      "id": "8678ac11",
      "metadata": {
        "id": "8678ac11",
        "outputId": "8e8b7ca6-1b55-44e9-ea7e-82f4e57e2bcb"
      },
      "outputs": [],
      "source": [
        "# Apply the QAOA algorithm to the sampleGraph max cut problem using\n",
        "# seed = 110\n",
        "result = qaoa_for_graph(sampleGraph, 1, 5000, 110)\n",
        "\n",
        "# Map the resulting bitstring from the qubit measurements\n",
        "# to a list of integer values in the same order as the nodes\n",
        "# to determine a coloring of the vertices\n",
        "graphColors=[int(i) for i in result]\n",
        "nodes = sorted(list(nx.nodes(sampleGraph)))\n",
        "\n",
        "# compute the cut value associated with resulting coloring\n",
        "sampleGraphMaxCut =0\n",
        "cut_edges = []\n",
        "for u, v in sampleGraph.edges():\n",
        "    indexu = nodes.index(u)\n",
        "    indexv = nodes.index(v)\n",
        "    if graphColors[indexu] != graphColors[indexv]:\n",
        "        sampleGraphMaxCut += 1\n",
        "        cut_edges+=[(u,v)]\n",
        "\n",
        "# compute the partitioning associated with resulting coloring\n",
        "cut0 = []\n",
        "cut1 = []\n",
        "for u in sampleGraph.nodes():\n",
        "    indexu = nodes.index(u)\n",
        "    if graphColors[indexu] == 0:\n",
        "        cut0.append(u)\n",
        "        sampleGraph.nodes[u]['color']= 0\n",
        "    else:\n",
        "        cut1.append(u)\n",
        "        sampleGraph.nodes[u]['color']= 1\n",
        "\n",
        "print('The max cut value for the sampleGraph is ',sampleGraphMaxCut)\n",
        "print('The optimal cut found by the QAOA algorithm is',cut0, cut1)"
      ]
    },
    {
      "cell_type": "markdown",
      "id": "6ad22d1d",
      "metadata": {
        "id": "6ad22d1d"
      },
      "source": [
        "Yay!  Using QAOA, we found the max cut value which matches our brute-force computation earlier in this lab.\n",
        "\n",
        "Let's visualize the result by highlighting the edges in the cut with green."
      ]
    },
    {
      "cell_type": "code",
      "execution_count": 18,
      "id": "4c83ac2c",
      "metadata": {
        "id": "4c83ac2c",
        "outputId": "67dadaf8-e98a-4cda-cda9-424b6cc90959"
      },
      "outputs": [
        {
          "data": {
            "image/png": "[encoded data removed]",
            "text/plain": [
              "<Figure size 640x480 with 1 Axes>"
            ]
          },
          "metadata": {},
          "output_type": "display_data"
        }
      ],
      "source": [
        "# Draw the graph identifying the max cut\n",
        "# Plot the graph with nodes labeled with their name and colored white for 0 and green for 1.\n",
        "# Edges in the max cut are higlighted in green\n",
        "\n",
        "max_cut_color_map = [gray if sampleGraph.nodes[u]['color']==0 else green for u in sampleGraph]\n",
        "\n",
        "nx.draw_networkx_edges(\n",
        "    sampleGraph,\n",
        "    pos,\n",
        "    edgelist=cut_edges,\n",
        "    width=8,\n",
        "    alpha=0.5,\n",
        "    edge_color=green,\n",
        ")\n",
        "nx.draw(sampleGraph, with_labels=True, pos = pos, node_color=max_cut_color_map)\n",
        "plt.show()\n"
      ]
    },
    {
      "cell_type": "markdown",
      "id": "c5ebc38e",
      "metadata": {
        "id": "c5ebc38e"
      },
      "source": [
        "## 1.6 Scaling QAOA\n",
        "In the remainder of this lab, we explore another approach to this problem that will allow us to scale QAOA to handle slightly larger graphs than otherwise would be possible.\n",
        "\n",
        "In QAOA the number of qubits scales with the number of vertices in the graph. Additionally, the depth of the QAOA circuit grows with the number of edges and the number of layers. Circuit depth and number of qubits are two factors in determing the cost and feasibilty of executing or simulating a quantum algorithm. Before jumping into the divide-and-conquer QAOA algorithm applied to a larger graph in Lab 2, we apply part of this algorithm to the `sampleGraph` as a warm up.\n",
        "\n",
        "Divide-and-conquer QAOA can be thought of as 3 stages: divide, conquer, and merge. We preview the divide-and-conquer idea of breaking up a larger graph into smaller subgraphs in section 1.6.1, solving the max cut problem for the smaller subgraphs in section 1.6.2, and stitching the subgraph solutions back together to get a solution to the original graph in sections 1.6.3 and 1.6.4. In this example, we will be applying a brute-force algorithm to stitch together the subgraph solutions, but in the next lab we will improve upon this approach with an application of QAOA that identifies an approximately optimal way to merge together the solutions."
      ]
    },
    {
      "cell_type": "code",
      "execution_count": null,
      "id": "07c9ae16-a4c9-434a-984b-32b5fcbd9d0b",
      "metadata": {
        "id": "07c9ae16-a4c9-434a-984b-32b5fcbd9d0b",
        "jupyter": {
          "source_hidden": true
        },
        "outputId": "afec515b-8ed3-4315-d881-93b839b87b1c"
      },
      "outputs": [
        {
          "data": {
            "text/html": [
              "\n",
              "<video controls width=\"640\" height=\"360\">\n",
              "    <source src=\"https://d36m44n9vdbmda.cloudfront.net/assets/x-ac-13-v1/max-cut-with-CUDA-Quantum-Lab-1-Part-4.mp4\" type=\"video/mp4\">\n",
              "    Your browser does not support the video tag.\n",
              "</video>\n"
            ],
            "text/plain": [
              "<IPython.core.display.HTML object>"
            ]
          },
          "metadata": {},
          "output_type": "display_data"
        }
      ],
      "source": [
        "# Execute this cell for a preview of the Divide-and-Conquer QAOA.\n",
        "from IPython.display import HTML\n",
        "\n",
        "video_url = \"https://d36m44n9vdbmda.cloudfront.net/assets/x-ac-13-v1/max-cut-with-CUDA-Quantum-Lab-1-Part-4.mp4\"\n",
        "\n",
        "video_html = f\"\"\"\n",
        "<video controls width=\"640\" height=\"360\">\n",
        "    <source src=\"{video_url}\" type=\"video/mp4\">\n",
        "    Your browser does not support the video tag.\n",
        "</video>\n",
        "\"\"\"\n",
        "\n",
        "display(HTML(video_html))"
      ]
    },
    {
      "cell_type": "markdown",
      "id": "4be14c27",
      "metadata": {
        "id": "4be14c27"
      },
      "source": [
        "### 1.6.1 Divide: Dividing the sampleGraph into two smaller subgraphs"
      ]
    },
    {
      "cell_type": "markdown",
      "id": "d2c91da6",
      "metadata": {
        "id": "d2c91da6"
      },
      "source": [
        "Our `sampleGraph` is small and easy to visualize.  A natural partition of the graph is to break the graph at the edge $(0,4)$, leaving us with two smaller disjoint subgraphs: `sampleSubgraph0` and `sampleSubgraph1` which we will draw below with node colors blue and yellow, respectively.  Notice that the edge between vertex $0$ and $4$ does not appear in either subgraph, and every vertex from `sampleGraph` appears in exactly one of the subgraphs."
      ]
    },
    {
      "cell_type": "code",
      "execution_count": 19,
      "id": "29f1533b",
      "metadata": {
        "id": "29f1533b",
        "outputId": "5c33281b-341c-4e5f-c23e-98196a03c016"
      },
      "outputs": [
        {
          "data": {
            "image/png": "[encoded data removed]",
            "text/plain": [
              "<Figure size 640x480 with 1 Axes>"
            ]
          },
          "metadata": {},
          "output_type": "display_data"
        }
      ],
      "source": [
        "# Defining colors not to represent the subgraphs visually\n",
        "blue = '#0071C5'\n",
        "yellow = '#FAC200'\n",
        "\n",
        "# Subgraph definitions\n",
        "subGraph_dictionary = {}\n",
        "subgraphColors={}\n",
        "subGraph_names=[]\n",
        "for i in range(2):\n",
        "    name='sampleSubgraph'+str(i)\n",
        "    subGraph_names.append(name)\n",
        "    if i ==0:\n",
        "        subgraphColors[name] = blue\n",
        "    else:\n",
        "        subgraphColors[name] = yellow\n",
        "\n",
        "\n",
        "nodes0 = [0,1,2]\n",
        "subGraph_dictionary[subGraph_names[0]] = nx.subgraph(sampleGraph, nodes0)\n",
        "\n",
        "nodes1 = [3,4,5,6]\n",
        "subGraph_dictionary[subGraph_names[1]] = nx.subgraph(sampleGraph, nodes1)\n",
        "\n",
        "# draw sampleSubgraph0 in purple and sampleSubGraph1 in yellow\n",
        "# Plot the graphs with nodes and weights labeled.\n",
        "for key in subGraph_dictionary:\n",
        "    nx.draw(subGraph_dictionary[key], pos=pos, with_labels=True, node_color = subgraphColors[key])\n",
        "plt.show()"
      ]
    },
    {
      "cell_type": "markdown",
      "id": "4a000a0b",
      "metadata": {
        "id": "4a000a0b"
      },
      "source": [
        "### 1.6.2 Conquer: Solving the subgraph problems using QAOA\n",
        "\n",
        "Breaking `sampleGraph` into two smaller graphs not only reduces the number of qubits required in each QAOA kernel, but it also affords us the ability to compute the max cut of these subgraphs in parallel. We'll execute these kernels sequentially here, but we'll learn how to parallelize this in [Lab 2](2_One-level-divide-and-conquer-QAOA.ipynb) and [Lab 3](3_Recursive-divide-and-conquer.ipynb)."
      ]
    },
    {
      "cell_type": "markdown",
      "id": "ad61a215",
      "metadata": {
        "id": "ad61a215"
      },
      "source": [
        "**Exercise** edit the code block below to find the max cut of each subgraph by replacing the FIX_ME with a function that we've defined in the previous sections."
      ]
    },
    {
      "cell_type": "code",
      "execution_count": null,
      "id": "91b63b8a",
      "metadata": {
        "id": "91b63b8a",
        "scrolled": true
      },
      "outputs": [],
      "source": [
        "# Find the max cut solutions for each of the 2 subgraphs\n",
        "\n",
        "layer_count =1\n",
        "parameter_count: int = 2 * layer_count\n",
        "shots = 5000\n",
        "\n",
        "# Set seeds for reproducibility, since different seeds may lead to different max cut solutions\n",
        "# Don't edit these seeds for your initial reading of this lab.  After you have gone through\n",
        "# the lab, we welcome you to change the seeds to witness the stochasticity of the algorithm.\n",
        "seed={}\n",
        "for key in subGraph_dictionary:\n",
        "    i = 4\n",
        "    seed[key] = i\n",
        "    i +=100\n",
        "\n",
        "results = {}\n",
        "\n",
        "for key in subGraph_dictionary:\n",
        "    # Set initial parameters for each subgraph\n",
        "    np.random.seed(seed[key])\n",
        "\n",
        "    initial_parameters = np.random.uniform(-np.pi, np.pi,\n",
        "                                                    parameter_count)\n",
        "    G = subGraph_dictionary[key]\n",
        "    results[key]= FIX_ME(G, layer_count, shots, seed[key])"
      ]
    },
    {
      "cell_type": "code",
      "execution_count": null,
      "id": "72a92ee6",
      "metadata": {
        "id": "72a92ee6",
        "jupyter": {
          "source_hidden": true
        },
        "outputId": "904f1f10-4bca-4406-b135-332bb403aaad"
      },
      "outputs": [],
      "source": [
        "# SOLUTION\n",
        "\n",
        "layer_count =1\n",
        "parameter_count: int = 2 * layer_count\n",
        "shots =5000\n",
        "\n",
        "# Set seeds for reproducibility, since different seeds may lead to different max cut solutions\n",
        "seed={}\n",
        "for key in subGraph_dictionary:\n",
        "    i = 4\n",
        "    seed[key] = i\n",
        "    i +=100\n",
        "\n",
        "results = {}\n",
        "\n",
        "for key in subGraph_dictionary:\n",
        "    # Set initial parameters for each subgraph\n",
        "    print('The results for',key,':')\n",
        "    np.random.seed(seed[key])\n",
        "\n",
        "    initial_parameters = np.random.uniform(-np.pi, np.pi,\n",
        "                                                    parameter_count)\n",
        "    G = subGraph_dictionary[key]\n",
        "    results[key]= qaoa_for_graph(G, layer_count, shots, seed[key])"
      ]
    },
    {
      "cell_type": "markdown",
      "id": "24ebaf9e",
      "metadata": {
        "id": "24ebaf9e"
      },
      "source": [
        "### 1.6.3 Merge: Determining a (perhaps not-optimal) cut of the sampleGraph from the subgraph solutions"
      ]
    },
    {
      "cell_type": "markdown",
      "id": "6e3cd5e0",
      "metadata": {
        "id": "6e3cd5e0"
      },
      "source": [
        "Because no vertex lies in both subgraphs, we can use the subgraph solutions to generate a (possibly non-optimal) cut of the original `sampleGraph` by coloring each node with the colors determined by the subgraph solutions. We'll find a better cut in the next subsection."
      ]
    },
    {
      "cell_type": "code",
      "execution_count": null,
      "id": "72a95fd5",
      "metadata": {
        "id": "72a95fd5",
        "outputId": "2176da48-7f54-4f62-bbe4-d59ecb4e3cb3"
      },
      "outputs": [],
      "source": [
        "# Visualize subgraph solutions by changing the color\n",
        "# of the nodes according to the max cut\n",
        "# partitions found for each of the subgraphs.\n",
        "# This induces a cut of the original sampleGraph\n",
        "\n",
        "for key in subGraph_dictionary:\n",
        "    graphColors=[int(i) for i in results[key]]\n",
        "    nodes = sorted(list(nx.nodes(subGraph_dictionary[key])))\n",
        "\n",
        "    for u in sampleGraph.nodes():\n",
        "        if u in nodes:\n",
        "            indexu = nodes.index(u)\n",
        "            if graphColors[indexu] == 0:\n",
        "                sampleGraph.nodes[u]['color']= 0\n",
        "            else:\n",
        "                sampleGraph.nodes[u]['color']= 1\n",
        "\n",
        "cut_edges =[]\n",
        "for u, v in sampleGraph.edges():\n",
        "    if sampleGraph.nodes[u]['color']!= sampleGraph.nodes[v]['color']:\n",
        "        cut_edges+=[(u,v)]\n",
        "\n",
        "print ('The cut value for this partition is',len(cut_edges))\n",
        "\n",
        "# Plot sampleGraph with the colors inherited from the subgraph solutions\n",
        "\n",
        "max_cut_color_map = [gray if sampleGraph.nodes[u]['color']==0 else green for u in sampleGraph]\n",
        "\n",
        "nx.draw_networkx_edges(\n",
        "    sampleGraph,\n",
        "    pos,\n",
        "    edgelist=cut_edges,\n",
        "    width=8,\n",
        "    alpha=0.5,\n",
        "    edge_color=green,\n",
        ")\n",
        "nx.draw(sampleGraph, with_labels=True, pos = pos, node_color=max_cut_color_map)\n",
        "plt.show()\n"
      ]
    },
    {
      "cell_type": "markdown",
      "id": "db67df6c",
      "metadata": {
        "id": "db67df6c"
      },
      "source": [
        "Notice that the cut value for this partition is 5. This is less than the optimal value of 6 that we found earlier. Therefore, we have not optimally combined the subgraph max cut solutions into a solution for the `sampleGraph`. We can be more careful about how we merge together the subgraph solutions to generate a cut of the original graph. We'll explore this in the next section.\n"
      ]
    },
    {
      "cell_type": "markdown",
      "id": "54ee788a",
      "metadata": {
        "id": "54ee788a"
      },
      "source": [
        "### 1.6.4 Merge: Finding a better merger of the subgraph solutions\n",
        "\n",
        "\n",
        "Instead of directly merging the subgraph solutions together as we did above, we can inspect the edges that do not lie in either subgraph and make some adjustments to the colorings before stitching them together.  This is a common procedure in both classical and quantum max cut algorithms and is sometimes referred to as *local search*.\n",
        "\n",
        "In the example above, the edge $(0,4)$ is not included in the cut deduced from the merger of the subgraph solutions because both $0$ and $4$ were colored gray.  Suppose we could change the coloring of `sampleSubgraph0` without reducing the cut value of the subgraph, but while also ensuring that $0$ gets colored green. Then, we would be able to include edge $(0,4)$ in the merged cut, resulting in a larger cut value for the `sampleGraph`.  Our graphs are small enough that we can visually check to see if this would be possible.\n",
        "\n",
        "Notice that the `sampleSubgraph0` cut value resulting from the node coloring `100` is the same as the one coded by `011`. By simply swapping the colors of the `sampleSubgraph0` result, we can find a better (optimal) cut for the `sampleGraph` because the cut value for `sampleSubgraph0` will remain the same, but we will capture the edge $(0,4)$ in our cut of the `sampelGraph` with this new coloring. Let's see how that works out."
      ]
    },
    {
      "cell_type": "code",
      "execution_count": null,
      "id": "f8826083",
      "metadata": {
        "id": "f8826083",
        "outputId": "79f78c50-d75b-4590-b617-f469525d23b0"
      },
      "outputs": [],
      "source": [
        "# Replace the coloring of the nodes of sampleSubgraph0\n",
        "# with their complement (replace 0s with 1s and 1s with 0s)\n",
        "# to generate another (this time optimal) cut of the sampleGraph.\n",
        "\n",
        "\n",
        "for key in subGraph_dictionary:\n",
        "    # Switch the colors of nodes in sampleSubGraph0\n",
        "    if key == 'sampleSubgraph0':\n",
        "        graphColors=[1-int(i) for i in results[key]]\n",
        "    else:\n",
        "        graphColors=[int(i) for i in results[key]]\n",
        "\n",
        "    nodes = sorted(list(nx.nodes(subGraph_dictionary[key])))\n",
        "\n",
        "    for u in sampleGraph.nodes():\n",
        "        if u in nodes:\n",
        "            indexu = nodes.index(u)\n",
        "            if graphColors[indexu] == 0:\n",
        "                sampleGraph.nodes[u]['color']= 0\n",
        "            else:\n",
        "                sampleGraph.nodes[u]['color']= 1\n",
        "\n",
        "cut_edges =[]\n",
        "for u, v in sampleGraph.edges():\n",
        "    if sampleGraph.nodes[u]['color']!= sampleGraph.nodes[v]['color']:\n",
        "        cut_edges+=[(u,v)]\n",
        "# Plot sampleGraph with the colors inherited from the subgraph solutions\n",
        "\n",
        "max_cut_color_map = [gray if sampleGraph.nodes[u]['color']==0 else green for u in sampleGraph]\n",
        "\n",
        "nx.draw_networkx_edges(\n",
        "    sampleGraph,\n",
        "    pos,\n",
        "    edgelist=cut_edges,\n",
        "    width=8,\n",
        "    alpha=0.5,\n",
        "    edge_color=green,\n",
        ")\n",
        "nx.draw(sampleGraph, with_labels=True, pos = pos, node_color=max_cut_color_map)\n",
        "\n",
        "plt.show()\n"
      ]
    },
    {
      "cell_type": "markdown",
      "id": "255bcdd8",
      "metadata": {
        "id": "255bcdd8"
      },
      "source": [
        "Hooray!  We have found a max cut of the original graph using our subgraph solutions. It's a different solution from the one that we originally found, but it's just as good!"
      ]
    },
    {
      "cell_type": "markdown",
      "id": "b394caa4",
      "metadata": {
        "id": "b394caa4"
      },
      "source": [
        "## Next\n",
        "In the above example, our graph was small enough that we could inspect the subgraph solutions and realize that the subgraph solutions needed to be altered (by flipping the colors of `sampleSubgraph0`) in order to generate an optimal cut of the original `sampleGraph`.  In [Lab 2](2_One-level-divide-and-conquer-QAOA.ipynb), we will investigate non-brute-force methods for stitching together subgraph solutions to optimize the cut of the parent graph."
      ]
    },
    {
      "cell_type": "code",
      "execution_count": null,
      "id": "fb1d074d",
      "metadata": {
        "id": "fb1d074d"
      },
      "outputs": [],
      "source": [
        "import IPython\n",
        "app = IPython.Application.instance()\n",
        "app.kernel.do_shutdown(True)"
      ]
    }
  ],
  "metadata": {
    "colab": {
      "include_colab_link": true,
      "provenance": []
    },
    "kernelspec": {
      "display_name": "Python 3",
      "language": "python",
      "name": "python3"
    },
    "language_info": {
      "codemirror_mode": {
        "name": "ipython",
        "version": 3
      },
      "file_extension": ".py",
      "mimetype": "text/x-python",
      "name": "python",
      "nbconvert_exporter": "python",
      "pygments_lexer": "ipython3",
      "version": "3.10.12"
    }
  },
  "nbformat": 4,
  "nbformat_minor": 5
}

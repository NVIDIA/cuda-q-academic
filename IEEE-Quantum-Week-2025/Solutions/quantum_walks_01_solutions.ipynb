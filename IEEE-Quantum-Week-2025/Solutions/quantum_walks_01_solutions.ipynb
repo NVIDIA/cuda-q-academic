{
 "cells": [
  {
   "cell_type": "code",
   "execution_count": null,
   "metadata": {
    "vscode": {
     "languageId": "plaintext"
    }
   },
   "outputs": [],
   "source": [
    "# SPDX-License-Identifier: Apache-2.0 AND CC-BY-NC-4.0\n",
    "#\n",
    "# Licensed under the Apache License, Version 2.0 (the \"License\");\n",
    "# you may not use this file except in compliance with the License.\n",
    "# You may obtain a copy of the License at\n",
    "#\n",
    "# http://www.apache.org/licenses/LICENSE-2.0\n",
    "#\n",
    "# Unless required by applicable law or agreed to in writing, software\n",
    "# distributed under the License is distributed on an \"AS IS\" BASIS,\n",
    "# WITHOUT WARRANTIES OR CONDITIONS OF ANY KIND, either express or implied.\n",
    "# See the License for the specific language governing permissions and\n",
    "# limitations under the License."
   ]
  },
  {
   "cell_type": "code",
   "execution_count": null,
   "metadata": {
    "vscode": {
     "languageId": "plaintext"
    }
   },
   "outputs": [],
   "source": [
    "# EXERCISE 1 SOLUTION\n",
    "# Define a kernel that prepares the walker qubits in an\n",
    "# equal superposition of the states |2> = |0010> and |3> = |0011>.\n",
    "\n",
    "@cudaq.kernel\n",
    "def initial_position(qubits : cudaq.qvector):\n",
    "    \"\"\" Apply gates to the qubits to prepare the GHZ state\n",
    "    Parameters\n",
    "        qubits: cudaq.qvector\n",
    "        qubits for the walker\n",
    "    \"\"\"\n",
    "    # Edit the code below this line\n",
    "    x(qubits[2])\n",
    "    h(qubits[3])\n",
    "    \n",
    "    # Edit the code above this line"
   ]
  },
  {
   "cell_type": "code",
   "execution_count": null,
   "metadata": {
    "vscode": {
     "languageId": "plaintext"
    }
   },
   "outputs": [],
   "source": [
    "# EXERCISE 2 SOLUTION\n",
    "\n",
    "# Define a kernel on 4 qubits for the DEC operation that\n",
    "# maps |x> to |x-1> mod 16 and verify that it works as expected for |0001>\n",
    "\n",
    "# Define the decrementer matrix\n",
    "\n",
    "def decrementer(num_qubits):\n",
    "    size = 2**num_qubits\n",
    "    dec_matrix = np.zeros((size, size))\n",
    "    for i in range(size):\n",
    "        dec_matrix[i, (i + 1) % size] = 1\n",
    "    return dec_matrix\n",
    "\n",
    "# EDIT THE CODE BELOW THIS LINE\n",
    "\n",
    "# Create a custom register operation for the decrementer called DEC\n",
    "cudaq.register_operation(\"DEC\", decrementer(num_qubits))\n",
    "\n",
    "# EDIT THE CODE ABOVE THIS LINE\n",
    "\n",
    "# Create a kernel that applies the DEC to the 4-qubit state |0001>\n",
    "@cudaq.kernel\n",
    "def check_decrementer_kernel():\n",
    "    qubits = cudaq.qvector(4)\n",
    "    # Initialize the qubits to |0001>\n",
    "    x(qubits[3])\n",
    "    # Apply the decrementer operation \n",
    "    DEC(qubits[0], qubits[1], qubits[2], qubits[3])\n",
    "\n",
    "result = cudaq.sample(check_decrementer_kernel, shots_count=1000).most_probable()\n",
    "print('Decrementer kernel |0001> -> |{}>'.format(result))"
   ]
  },
  {
   "cell_type": "code",
   "execution_count": null,
   "metadata": {
    "vscode": {
     "languageId": "plaintext"
    }
   },
   "outputs": [],
   "source": [
    "# EXERCISE 3 SOLUTION\n",
    "# Complete the code below to define S-\n",
    "# S- will apply the DEC operation to the walker qubits\n",
    "# when the coin qubit is in the |0> state\n",
    "\n",
    "# Set the number of qubits\n",
    "num_qubits = 4\n",
    "\n",
    "@cudaq.kernel\n",
    "def DTQW_one_step(num_qubits: int):\n",
    "    walker_qubits = cudaq.qvector(num_qubits)\n",
    "    coin_qubit = cudaq.qubit()\n",
    "    endpoint_qubit = cudaq.qubit()\n",
    "\n",
    "    # Initial walker state 1/(sqrt{2}) ( |2>+|3>)\n",
    "    initial_position(walker_qubits)\n",
    "        \n",
    "    # Initial coin state    \n",
    "    h(coin_qubit) #Comment to set the initial coin state to be |0>\n",
    "        \n",
    "    # One quantum walk step\n",
    "    # Coin operation F=H\n",
    "    h(coin_qubit)\n",
    "    \n",
    "    # Walker's position change \n",
    "    \n",
    "    ## Shifting right\n",
    "    \n",
    "    # Avoid shifting from |1111> to |0000> in case the coin is |1> by flipping the coin to |0>\n",
    "    no_INC_at_right_endpoint(walker_qubits, coin_qubit, endpoint_qubit)\n",
    "    \n",
    "    # Shift right (S+) when the coin is |1> and the walker is not in the |1111> state\n",
    "    INC.ctrl(coin_qubit, walker_qubits[0], walker_qubits[1], walker_qubits[2], walker_qubits[3])\n",
    "\n",
    "    # Reset the coin and endpoints in case they were changed to avoid moving from |1111> to |0000>\n",
    "    reset_coin_and_endpoint(coin_qubit, endpoint_qubit)\n",
    "    \n",
    "    ## Shifting left\n",
    "    \n",
    "    # Avoid shifting from |0000> to |1111> in case the coin is |0> by flipping the coin to |1>\n",
    "    no_DEC_at_left_endpoint(walker_qubits, coin_qubit, endpoint_qubit)\n",
    "    \n",
    "    # Shift left (S-) when the coin is |0>\n",
    "    # EDIT CODE BELOW THIS LINE\n",
    "    \n",
    "    x(coin_qubit)\n",
    "    DEC.ctrl(coin_qubit, walker_qubits[0], walker_qubits[1], walker_qubits[2], walker_qubits[3])\n",
    "    x(coin_qubit)\n",
    "    \n",
    "    # EDIT CODE ABOVE THIS LINE\n",
    "    \n",
    "    # Reset the coin and endpoints in case they were changed to avoid moving from |0000> to |1111>\n",
    "    reset_coin_and_endpoint(coin_qubit, endpoint_qubit)\n",
    "    \n",
    "    mz(walker_qubits)\n",
    "\n",
    "# Visualize the kernel for the quantum walk\n",
    "#print(cudaq.draw(DTQW_one_step, num_qubits))\n",
    "\n",
    "# Sample the kernel for the quantum walk\n",
    "result = cudaq.sample(DTQW_one_step, num_qubits, shots_count=1000)\n",
    "print(result)\n",
    "plot_results(result, num_qubits)"
   ]
  }
 ],
 "metadata": {
  "language_info": {
   "name": "python"
  }
 },
 "nbformat": 4,
 "nbformat_minor": 2
}

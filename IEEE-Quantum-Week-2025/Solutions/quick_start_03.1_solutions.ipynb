{
 "cells": [
  {
   "cell_type": "code",
   "execution_count": null,
   "metadata": {},
   "outputs": [],
   "source": [
    "# SPDX-License-Identifier: Apache-2.0 AND CC-BY-NC-4.0\n",
    "#\n",
    "# Licensed under the Apache License, Version 2.0 (the \"License\");\n",
    "# you may not use this file except in compliance with the License.\n",
    "# You may obtain a copy of the License at\n",
    "#\n",
    "# http://www.apache.org/licenses/LICENSE-2.0\n",
    "#\n",
    "# Unless required by applicable law or agreed to in writing, software\n",
    "# distributed under the License is distributed on an \"AS IS\" BASIS,\n",
    "# WITHOUT WARRANTIES OR CONDITIONS OF ANY KIND, either express or implied.\n",
    "# See the License for the specific language governing permissions and\n",
    "# limitations under the License."
   ]
  },
  {
   "cell_type": "markdown",
   "metadata": {},
   "source": [
    "# Lab 3.1: Add a Bit of Variation: Write your first hybrid variational program"
   ]
  },
  {
   "cell_type": "code",
   "execution_count": 2,
   "metadata": {},
   "outputs": [],
   "source": [
    "# EXERCISE 1 SOLUTION\n",
    "\n",
    "@cudaq.kernel\n",
    "def initial_state(qubits : cudaq.qview):\n",
    "    \"\"\" Apply gates to the qubits to prepare the GHZ state\n",
    "    Parameters\n",
    "        qubits: cudaq.qvector\n",
    "        qubits for the walker\n",
    "    \"\"\"\n",
    "    # Edit the code below this line\n",
    "    h(qubits[0])\n",
    "    for i in range(len(qubits)-1):\n",
    "        x.ctrl(qubits[0], qubits[i+1])\n",
    "    \n",
    "    # Edit the code above this line"
   ]
  },
  {
   "cell_type": "code",
   "execution_count": 6,
   "metadata": {},
   "outputs": [
    {
     "name": "stdout",
     "output_type": "stream",
     "text": [
      "Decrementer kernel |0001> -> |0000>\n"
     ]
    }
   ],
   "source": [
    "# EXERCISE 2 SOLUTION\n",
    "\n",
    "# Define a kernel on 4 qubits for the DEC operation that\n",
    "# maps |x> to |x-1> mod 16 and verify that it works as expected for |0001>\n",
    "\n",
    "@cudaq.kernel\n",
    "def DEC(qubits : cudaq.qview):\n",
    "    # Edit the code below this line\n",
    "    x(qubits[3])\n",
    "    x.ctrl(qubits[3], qubits[2])\n",
    "    x.ctrl([qubits[3], qubits[2]], qubits[1])\n",
    "    x.ctrl([qubits[3], qubits[2], qubits[1]], qubits[0])\n",
    "    # Edit the code above this line\n",
    "\n",
    "# Create a kernel that applies the DEC to the 4 qubit state |0000>\n",
    "@cudaq.kernel\n",
    "def check_decrementer_kernel():\n",
    "    qubits = cudaq.qvector(4)\n",
    "    # Initialize the qubits to |0001>\n",
    "    x(qubits[3])\n",
    "    DEC(qubits)\n",
    "\n",
    "result = cudaq.sample(check_decrementer_kernel).most_probable()\n",
    "print('Decrementer kernel |0001> -> |{}>'.format(result))"
   ]
  },
  {
   "cell_type": "code",
   "execution_count": 9,
   "metadata": {},
   "outputs": [
    {
     "name": "stdout",
     "output_type": "stream",
     "text": [
      "                            ╭───╮                                   ╭───╮     \n",
      "q0 : ───────────────────────┤ x ├───────────────────────────────────┤ x ├─────\n",
      "              ╭───╮         ╰─┬─╯╭───╮                         ╭───╮╰─┬─╯     \n",
      "q1 : ─────────┤ x ├───────────●──┤ x ├─────────────────────────┤ x ├──●───────\n",
      "              ╰───╯           │  ╰─┬─╯╭───╮               ╭───╮╰─┬─╯  │       \n",
      "q2 : ─────────────────────────●────●──┤ x ├───────────────┤ x ├──●────●───────\n",
      "              ╭───╮           │    │  ╰─┬─╯╭───╮     ╭───╮╰─┬─╯  │    │       \n",
      "q3 : ─────────┤ x ├───────────●────●────●──┤ x ├─────┤ x ├──●────●────●───────\n",
      "     ╭────────┴───┴────────╮  │    │    │  ╰─┬─╯╭───╮╰─┬─╯  │    │    │  ╭───╮\n",
      "q4 : ┤ u3(0.7854,0.7854,0) ├──●────●────●────●──┤ x ├──●────●────●────●──┤ x ├\n",
      "     ╰─────────────────────╯                    ╰───╯                    ╰───╯\n",
      "\n",
      "{ 0100:861 0110:139 }\n",
      "\n"
     ]
    }
   ],
   "source": [
    "# EXERCISE 3 SOLUTION\n",
    "# Fill in the code to carry out the S- step\n",
    "\n",
    "# Pick your favorite values\n",
    "theta = np.pi/4     #CHANGE ME\n",
    "phi = np.pi/4       #CHANGE ME  \n",
    "lam = 0.0          #CHANGE ME\n",
    "\n",
    "# Set the number of qubits\n",
    "num_qubits = 4\n",
    "\n",
    "@cudaq.kernel\n",
    "def DTQW_one_step(num_qubits: int, theta : float, phi : float, lam : float):\n",
    "    walker_qubits = cudaq.qvector(num_qubits)\n",
    "    coin_qubit = cudaq.qvector(1)\n",
    "    # Initial walker state |0101>\n",
    "    x(walker_qubits[1])\n",
    "    x(walker_qubits[3])\n",
    "        \n",
    "    # Initial coin state    \n",
    "    #h(coin_qubit[0]) #Uncomment this line to start with a superposition of heads and tails instead of |0>\n",
    "        \n",
    "    # One quantum walk step\n",
    "    # Coin operation F=u3\n",
    "    u3(theta, phi, lam, coin_qubit)\n",
    "    \n",
    "    # Walker's position change  \n",
    "    # Shift right (S+) when the coin is |1>\n",
    "    cudaq.control(INC, coin_qubit[0], walker_qubits)\n",
    "    \n",
    "    # Shift left (S-) when the coin is |0>\n",
    "    # EDIT CODE BELOW THIS LINE\n",
    "\n",
    "    x(coin_qubit[0])\n",
    "    cudaq.control(DEC, coin_qubit[0], walker_qubits)\n",
    "    x(coin_qubit[0])\n",
    "    \n",
    "    # EDIT CODE ABOVE THIS LINE\n",
    "    \n",
    "    mz(walker_qubits)\n",
    "\n",
    "# Visualize the kernel for the quantum walk\n",
    "print(cudaq.draw(DTQW_one_step, num_qubits, theta, phi, lam))\n",
    "\n",
    "# Sample the kernel for the quantum walk\n",
    "result = cudaq.sample(DTQW_one_step, num_qubits, theta, phi, lam, shots_count=1000)\n",
    "print(result)"
   ]
  },
  {
   "cell_type": "code",
   "execution_count": 198,
   "metadata": {},
   "outputs": [
    {
     "name": "stdout",
     "output_type": "stream",
     "text": [
      "{ 0001:5346 0011:2330 0101:885 0111:557 1001:882 }\n",
      "\n"
     ]
    },
    {
     "data": {
      "image/png": "[encoded data removed]",
      "text/plain": [
       "<Figure size 640x480 with 1 Axes>"
      ]
     },
     "metadata": {},
     "output_type": "display_data"
    }
   ],
   "source": [
    "# EXERCISE 4 SOLUTION\n",
    "\n",
    "# Set a variable for the number of time steps\n",
    "num_time_steps = 4 # CHANGE ME to see the effect of different length walks\n",
    "\n",
    "# Pick your favorite values\n",
    "theta = np.pi/4     #CHANGE ME\n",
    "phi = np.pi/4       #CHANGE ME  \n",
    "lam = 0.0          #CHANGE ME\n",
    "\n",
    "# Set the number of qubits\n",
    "num_qubits = 4\n",
    "\n",
    "# EDIT CODE BELOW THIS LINE\n",
    "@cudaq.kernel()\n",
    "def DTQW_multi_step(num_qubits: int, theta : float, phi : float, lam : float, num_time_steps : int):\n",
    "    walker_qubits = cudaq.qvector(num_qubits)\n",
    "    coin_qubit = cudaq.qvector(1)\n",
    "    # Initial walker state |0101>\n",
    "    x(walker_qubits[1])\n",
    "    x(walker_qubits[3])\n",
    "        \n",
    "    # Initial coin state    \n",
    "    #h(coin_qubit[0]) #Uncomment this line to start with a superposition of heads and tails instead of |0>\n",
    "    \n",
    "    # Flip the coin num_time_steps and shift the walker accordingly\n",
    "    for _ in range(num_time_steps):\n",
    "        \n",
    "        # One quantum walk step\n",
    "        # Coin operation F=u3\n",
    "        u3(theta, phi, lam, coin_qubit)\n",
    "    \n",
    "        # Walker's position change \n",
    "        # Shift right (S+) when the coin is |1>\n",
    "        cudaq.control(INC, coin_qubit[0], walker_qubits)\n",
    "    \n",
    "        # Shift left (S-) when the coin is |0>\n",
    "\n",
    "        x(coin_qubit[0])\n",
    "        cudaq.control(DEC, coin_qubit[0], walker_qubits)\n",
    "        x(coin_qubit[0])\n",
    "    \n",
    "   \n",
    "    # Measure the state of the walker\n",
    "    mz(walker_qubits)\n",
    "\n",
    "# EDIT CODE ABOVE THIS LINE\n",
    "\n",
    "# Sample the kernel for the quantum walk\n",
    "result_multi_step = cudaq.sample(DTQW_multi_step, num_qubits, theta, phi, lam, num_time_steps, shots_count=10000)\n",
    "print(result_multi_step)\n",
    "\n",
    "# Draw the histogram of the results after one step\n",
    "plot_results(result_multi_step, num_qubits)"
   ]
  }
 ],
 "metadata": {
  "kernelspec": {
   "display_name": "Python 3",
   "language": "python",
   "name": "python3"
  },
  "language_info": {
   "codemirror_mode": {
    "name": "ipython",
    "version": 3
   },
   "file_extension": ".py",
   "mimetype": "text/x-python",
   "name": "python",
   "nbconvert_exporter": "python",
   "pygments_lexer": "ipython3",
   "version": "3.10.12"
  }
 },
 "nbformat": 4,
 "nbformat_minor": 2
}

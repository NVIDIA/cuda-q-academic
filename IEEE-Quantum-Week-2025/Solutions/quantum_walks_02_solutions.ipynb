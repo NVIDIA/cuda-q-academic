{
 "cells": [
  {
   "cell_type": "code",
   "execution_count": null,
   "metadata": {
    "vscode": {
     "languageId": "plaintext"
    }
   },
   "outputs": [],
   "source": [
    "# SPDX-License-Identifier: Apache-2.0 AND CC-BY-NC-4.0\n",
    "#\n",
    "# Licensed under the Apache License, Version 2.0 (the \"License\");\n",
    "# you may not use this file except in compliance with the License.\n",
    "# You may obtain a copy of the License at\n",
    "#\n",
    "# http://www.apache.org/licenses/LICENSE-2.0\n",
    "#\n",
    "# Unless required by applicable law or agreed to in writing, software\n",
    "# distributed under the License is distributed on an \"AS IS\" BASIS,\n",
    "# WITHOUT WARRANTIES OR CONDITIONS OF ANY KIND, either express or implied.\n",
    "# See the License for the specific language governing permissions and\n",
    "# limitations under the License."
   ]
  },
  {
   "cell_type": "code",
   "execution_count": null,
   "metadata": {
    "vscode": {
     "languageId": "plaintext"
    }
   },
   "outputs": [],
   "source": [
    "# EXERCISE 1 SOLUTION\n",
    "# Set the number of qubits Do Not Change without changing inc and dec\n",
    "num_qubits = 4\n",
    "\n",
    "# Set the number of steps\n",
    "num_time_steps = 1 #CHANGE_ME\n",
    "\n",
    "# Kernel for one step of the SSQW without measurement\n",
    "@cudaq.kernel\n",
    "def SSQW_one_step(walker_qubits : cudaq.qview, coin_qubit : cudaq.qubit, endpoint_qubit : cudaq.qubit):\n",
    "        \n",
    "    # One quantum walk step\n",
    "    \n",
    "    # First flip of the coin with the first coin operation, F1\n",
    "    x(coin_qubit)      #CHANGE_ME\n",
    "    \n",
    "    # Walker's position change\n",
    "    # Avoid shifting from |1111> to |0000> in case the coin is |1> by flipping the coin to |0>\n",
    "    no_INC_at_right_endpoint(walker_qubits, coin_qubit, endpoint_qubit)\n",
    "    \n",
    "    # Shift to the right if the coin is |1> and the position is not |1111>\n",
    "    cudaq.control(inc, coin_qubit, walker_qubits)\n",
    "    \n",
    "    # Reset the coin and endpoints in case they were changed to avoid moving from |1111> to |0000>\n",
    "    reset_coin_and_endpoint(coin_qubit, endpoint_qubit)\n",
    "    \n",
    "    \n",
    "    # Second flip of the coin with the second coin operation, F2\n",
    "    h(coin_qubit)      #CHANGE_ME\n",
    "    \n",
    "    # Controlled-decrementer\n",
    "    # Avoid shifting from |0000> to |1111> in case the coin is |0> by flipping the coin to |1>\n",
    "    no_DEC_at_left_endpoint(walker_qubits, coin_qubit, endpoint_qubit)\n",
    "    \n",
    "    # Apply the dec if the the coin is in |0>\n",
    "    x(coin_qubit) \n",
    "    cudaq.control(dec, coin_qubit, walker_qubits)\n",
    "    x(coin_qubit) \n",
    "    \n",
    "    # Reset the coin and endpoints in case they were changed to avoid moving from |0000> to |1111>\n",
    "    reset_coin_and_endpoint(coin_qubit, endpoint_qubit)\n",
    "    \n",
    "@cudaq.kernel()\n",
    "def SSQW_with_measurement(num_qubits : int, num_time_steps : int):    \n",
    "    walker_qubits = cudaq.qvector(num_qubits)\n",
    "    coin_qubit = cudaq.qubit()\n",
    "    endpoint_qubit = cudaq.qubit()\n",
    "    \n",
    "    # Initial walker state 1/sqrt(2)(|1000> + |0000>) #CHANGE_ME\n",
    "    #h(walker_qubits[0])\n",
    "    #x(walker_qubits)\n",
    "    \n",
    "        \n",
    "    # Initial coin state    #CHANGE_ME\n",
    "    x(coin_qubit)\n",
    "    \n",
    "    for _ in range(num_time_steps):\n",
    "        SSQW_one_step(walker_qubits, coin_qubit, endpoint_qubit)\n",
    "    \n",
    "    # Measure the walker's state \n",
    "    mz(walker_qubits)\n",
    "\n",
    "#cudaq.draw(SSQW_with_measurement, num_qubits, num_time_steps)\n",
    "\n",
    "# Sample the kernel for the quantum walk\n",
    "result = cudaq.sample(SSQW_with_measurement, num_qubits, num_time_steps, shots_count=5000)\n",
    "\n",
    "\n",
    "title = 'Sampling SSQW with {} time steps'.format(num_time_steps)\n",
    "plot_walk_results(result, num_qubits, title)"
   ]
  },
  {
   "cell_type": "code",
   "execution_count": null,
   "metadata": {
    "vscode": {
     "languageId": "plaintext"
    }
   },
   "outputs": [],
   "source": []
  }
 ],
 "metadata": {
  "language_info": {
   "name": "python"
  }
 },
 "nbformat": 4,
 "nbformat_minor": 2
}

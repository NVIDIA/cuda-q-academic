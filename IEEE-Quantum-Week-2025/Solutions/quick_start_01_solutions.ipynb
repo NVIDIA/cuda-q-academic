{
 "cells": [
  {
   "cell_type": "code",
   "execution_count": null,
   "metadata": {},
   "outputs": [],
   "source": [
    "# SPDX-FileCopyrightText: Copyright (c) 2024 NVIDIA CORPORATION & AFFILIATES. All rights reserved.\n",
    "# SPDX-License-Identifier: LicenseRef-NvidiaProprietary\n",
    "#\n",
    "# NVIDIA CORPORATION, its affiliates and licensors retain all intellectual\n",
    "# property and proprietary rights in and to this material, related\n",
    "# documentation and any modifications thereto. Any use, reproduction,\n",
    "# disclosure or distribution of this material and related documentation\n",
    "# without an express license agreement from NVIDIA CORPORATION or\n",
    "# its affiliates is strictly prohibited."
   ]
  },
  {
   "cell_type": "code",
   "execution_count": null,
   "metadata": {},
   "outputs": [],
   "source": [
    "# EXERCISE 1 SOLUTION \n",
    "\n",
    "# First we define vectors for the coefficients alpha and beta\n",
    "# of the states |0>, |1>, |+>, and |i>, where each state is written\n",
    "# in the form |psi> = alpha|0> + beta|1> . Here alpha and beta are\n",
    "# of the form:\n",
    "# alpha = a_real + (a_imaginary)i \n",
    "# beta = b_real + (b_imaginary)i \n",
    "# with real values for the coefficients \n",
    "# a_real, a_imaginary, b_real, b_imaginary\n",
    "\n",
    "c0 = [complex(1.0, 0.0), complex(0.0,0.0)]    # list of complex coefficients for the state |0>\n",
    "c1 = [complex(0.0, 0.0), complex(1.0,0.0)]      # list of complex coefficients for the state |1>\n",
    "c2 = [complex(np.sqrt(2)/2, 0), complex(np.sqrt(2)/2,0)]      # list of complex coefficients for the state |+>\n",
    "c3 = [complex(np.sqrt(2)/2, 0), complex(0,np.sqrt(2)/2)]      # list of complex coefficients for the state |i>\n",
    "\n",
    "list_of_states = [c0,c1,c2,c3]\n",
    "\n",
    "# Define a cudaq.kernel to represent the state with given coefficients\n",
    "@cudaq.kernel\n",
    "def kernel_for_state(c:list[complex]):\n",
    "    q = cudaq.qvector(c)\n",
    "\n",
    "# Define a list of Bloch spheres, one sphere for each of the 4 states \n",
    "blochSphereList = []  \n",
    "# Generate the 4 states by calling the kernel_for_state kernel\n",
    "for c in list_of_states:\n",
    "    sphere = cudaq.add_to_bloch_sphere(cudaq.get_state(kernel_for_state, c))\n",
    "    blochSphereList.append(sphere)  \n",
    "\n",
    "# Display the Bloch spheres side by side in 2 rows and 2 columns\n",
    "cudaq.show(blochSphereList, nrows=2, ncols=2)\n"
   ]
  },
  {
   "cell_type": "code",
   "execution_count": null,
   "metadata": {},
   "outputs": [],
   "source": [
    "# EXERCISE 2 SOLUTION\n",
    "\n",
    "# Visualizing the action of the minus_kernel\n",
    "\n",
    "sphere = cudaq.add_to_bloch_sphere(cudaq.get_state(minus_kernel))\n",
    "cudaq.show(sphere)"
   ]
  },
  {
   "cell_type": "code",
   "execution_count": null,
   "metadata": {},
   "outputs": [],
   "source": [
    "# EXERCISE 3 SOLUTION\n",
    "# Sampling the minus kernel\n",
    "shots = 10000 # The larger the number of shots the more likely the probabilities will be close to 50% for measuring 0\n",
    "results = cudaq.sample(minus_kernel, shots_count=shots)\n",
    "print(\"Results from sampling {} times: {}\".format(shots, results))\n",
    "\n",
    "# Often it will be useful to identify the most probable outcome\n",
    "# and the probability of this outcome\n",
    "most_probable_result = results.most_probable()\n",
    "probability = results.probability(most_probable_result)\n",
    "print(\"Most probable result: \" + most_probable_result)\n",
    "print(\"Measured with probability \" + str(probability), end='\\n\\n')"
   ]
  },
  {
   "cell_type": "code",
   "execution_count": null,
   "metadata": {},
   "outputs": [],
   "source": [
    "# EXERCISE 4 SOLUTION\n",
    "shots = 1000\n",
    "\n",
    "@cudaq.kernel\n",
    "def plus_measure_x():\n",
    "    ## EDIT CODE BELOW THIS LINE\n",
    "    \n",
    "    # Allocate one qubit\n",
    "    qubit = cudaq.qubit()\n",
    "    \n",
    "    # Prepare the plus state\n",
    "    h(qubit)\n",
    "    \n",
    "    # Measure with respect to x\n",
    "    mx(qubit)\n",
    "    \n",
    "    ## EDIT CODE ABOVE THIS LINE\n",
    "\n",
    "@cudaq.kernel\n",
    "def minus_measure_x():\n",
    "    ## EDIT CODE BELOW THIS LINE\n",
    "    \n",
    "    # Allocate one qubit\n",
    "    qubit = cudaq.qubit()\n",
    "    \n",
    "    # Prepare the minus state\n",
    "    x(qubit)\n",
    "    h(qubit)\n",
    "    \n",
    "    # Measure with respect to x\n",
    "    mx(qubit)\n",
    "    ## EDIT CODE ABOVE THIS LINE\n",
    "    \n",
    "results_plus_measure_x = cudaq.sample(plus_measure_x, shots_count=shots)\n",
    "print(\"Results from sampling the plus_hadamard kernel {} times: {}\".format(shots, results_plus_measure_x))\n",
    "\n",
    "results_minus_measure_x = cudaq.sample(minus_measure_x, shots_count=shots)\n",
    "print(\"Results from sampling the minus_hadamard kernel {} times: {}\".format(shots, results_minus_measure_x))"
   ]
  }
 ],
 "metadata": {
  "language_info": {
   "name": "python"
  }
 },
 "nbformat": 4,
 "nbformat_minor": 2
}
